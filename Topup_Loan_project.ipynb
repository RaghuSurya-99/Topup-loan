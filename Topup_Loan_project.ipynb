{
  "nbformat": 4,
  "nbformat_minor": 0,
  "metadata": {
    "colab": {
      "provenance": []
    },
    "kernelspec": {
      "name": "python3",
      "display_name": "Python 3"
    },
    "language_info": {
      "name": "python"
    }
  },
  "cells": [
    {
      "cell_type": "markdown",
      "source": [
        "## Problem Description\n",
        "\n",
        "### A finance company wants to promote their new topup loan scheme to the current customers. For that they want to know the valuable costumers for this scheme. By the the given historical data we have build machine learnig models which are useful to predict whether the costumer opt the topup loan or not. "
      ],
      "metadata": {
        "id": "FkZokFh4eBj4"
      }
    },
    {
      "cell_type": "code",
      "execution_count": 1,
      "metadata": {
        "id": "N1GeoBWCduT0"
      },
      "outputs": [],
      "source": [
        "#Importing the required libraries to read the data, data vizualizations, mathematical operations\n",
        "import pandas as pd\n",
        "import numpy as np\n",
        "import matplotlib\n",
        "import matplotlib.pyplot as plt\n",
        "import seaborn as sns"
      ]
    },
    {
      "cell_type": "code",
      "source": [
        "#Mounting the drive to google colab\n",
        "from google.colab import drive\n",
        "drive.mount('/content/drive')"
      ],
      "metadata": {
        "colab": {
          "base_uri": "https://localhost:8080/"
        },
        "id": "zCssvF6peNfu",
        "outputId": "3b04dade-61ba-4c65-a162-d4b5cbca466c"
      },
      "execution_count": 2,
      "outputs": [
        {
          "output_type": "stream",
          "name": "stdout",
          "text": [
            "Mounted at /content/drive\n"
          ]
        }
      ]
    },
    {
      "cell_type": "code",
      "source": [
        "#Loading the given datasets\n",
        "train=pd.read_excel('/content/drive/MyDrive/capstone/Topuploan_train_test(Final).xlsx',sheet_name='Train')\n",
        "test = pd.read_excel('/content/drive/MyDrive/capstone/Topuploan_train_test(Final).xlsx',sheet_name='Test')\n",
        "asset = pd.read_excel('/content/drive/MyDrive/capstone/Asset_CustomerDemo.xlsx',sheet_name='Assest details')\n",
        "cust_demo = pd.read_excel('/content/drive/MyDrive/capstone/Asset_CustomerDemo.xlsx',sheet_name='CustomerDemo')"
      ],
      "metadata": {
        "id": "fcLcp_MtePxa"
      },
      "execution_count": 3,
      "outputs": []
    },
    {
      "cell_type": "code",
      "source": [
        "merge1_testdata = pd.merge(test, cust_demo, left_on='Customer ID', right_on='ID')"
      ],
      "metadata": {
        "id": "96_LjPXIl3zf"
      },
      "execution_count": 4,
      "outputs": []
    },
    {
      "cell_type": "code",
      "source": [
        "final_test = pd.merge(merge1_testdata,asset,on='AssetID')"
      ],
      "metadata": {
        "id": "bWVPm1o4l67Q"
      },
      "execution_count": 5,
      "outputs": []
    },
    {
      "cell_type": "code",
      "source": [
        "final_test.shape"
      ],
      "metadata": {
        "colab": {
          "base_uri": "https://localhost:8080/"
        },
        "id": "fLe9sLUSmCGt",
        "outputId": "d3db0dab-00f5-417c-f66d-e8b241a4aea2"
      },
      "execution_count": 6,
      "outputs": [
        {
          "output_type": "execute_result",
          "data": {
            "text/plain": [
              "(25675, 27)"
            ]
          },
          "metadata": {},
          "execution_count": 6
        }
      ]
    },
    {
      "cell_type": "code",
      "source": [
        "print('shape of train_dataset : ',train.shape)\n",
        "print('shape of test_dataset : ',test.shape)\n",
        "print('shape of asset_dataset : ',asset.shape)\n",
        "print('shape of customer_demo_dataset : ',cust_demo.shape)"
      ],
      "metadata": {
        "colab": {
          "base_uri": "https://localhost:8080/"
        },
        "id": "NpTn9n7smOLF",
        "outputId": "641e98ec-5c85-49bc-8e78-890a2e46f25b"
      },
      "execution_count": 7,
      "outputs": [
        {
          "output_type": "stream",
          "name": "stdout",
          "text": [
            "shape of train_dataset :  (69997, 17)\n",
            "shape of test_dataset :  (25675, 17)\n",
            "shape of asset_dataset :  (128655, 4)\n",
            "shape of customer_demo_dataset :  (128655, 7)\n"
          ]
        }
      ]
    },
    {
      "cell_type": "markdown",
      "source": [
        "## Each dataset has different shape.So they have to merge with proper technique."
      ],
      "metadata": {
        "id": "-pET5qT5BUiR"
      }
    },
    {
      "cell_type": "code",
      "source": [
        "merge1 = pd.merge(train, cust_demo, left_on='Customer ID', right_on='ID') # Merging(Inner_merge) the train & CustomerDemo datasets on Customer_ID and ID "
      ],
      "metadata": {
        "id": "GCXo4pIgmQ9j"
      },
      "execution_count": 8,
      "outputs": []
    },
    {
      "cell_type": "code",
      "source": [
        "df = pd.merge(merge1,asset,on='AssetID') # Merging(Inner merge) the merge1 and assest datasets on AssetID. This is the final dataset"
      ],
      "metadata": {
        "id": "vwbV05KnmV4x"
      },
      "execution_count": 9,
      "outputs": []
    },
    {
      "cell_type": "code",
      "source": [
        "print('shape of the merged dataset : ',df.shape)"
      ],
      "metadata": {
        "colab": {
          "base_uri": "https://localhost:8080/"
        },
        "id": "Cqg6pLzEmYkC",
        "outputId": "d3cf5983-4d0e-41a9-b6a5-8b1e9f2a937d"
      },
      "execution_count": 10,
      "outputs": [
        {
          "output_type": "stream",
          "name": "stdout",
          "text": [
            "shape of the merged dataset :  (69997, 27)\n"
          ]
        }
      ]
    },
    {
      "cell_type": "code",
      "source": [
        "df.columns"
      ],
      "metadata": {
        "colab": {
          "base_uri": "https://localhost:8080/"
        },
        "id": "aPzolLX7mavP",
        "outputId": "36e252fb-a574-40aa-a105-11021e1efa42"
      },
      "execution_count": 11,
      "outputs": [
        {
          "output_type": "execute_result",
          "data": {
            "text/plain": [
              "Index(['Customer ID', 'Frequency', 'InstlmentMode', 'LoanStatus',\n",
              "       'PaymentMode', 'BranchID', 'Area', 'Tenure', 'AmountFinance',\n",
              "       'DisbursalAmount', 'AssetID', 'EMI', 'DisbursalDate', 'MaturityDAte',\n",
              "       'AuthDate', 'LTV', 'Top-up ?', 'ID', 'SEX', 'AGE', 'MonthlyIncome',\n",
              "       'City', 'State', 'ZiPCODE', 'AssetCost', 'ManufacturerID',\n",
              "       'SupplierID'],\n",
              "      dtype='object')"
            ]
          },
          "metadata": {},
          "execution_count": 11
        }
      ]
    },
    {
      "cell_type": "code",
      "source": [
        "df.drop(['ID','Customer ID','AssetID','ZiPCODE','SupplierID'],axis=1,inplace=True) # Dropping the ID columns in train data"
      ],
      "metadata": {
        "id": "FExa9aR1mdU-"
      },
      "execution_count": 12,
      "outputs": []
    },
    {
      "cell_type": "code",
      "source": [
        "final_test.drop(['ID','Customer ID','AssetID','ZiPCODE','SupplierID'],axis=1,inplace=True) # Droping the Id colunms in test data"
      ],
      "metadata": {
        "id": "wiRXEdv-r_2k"
      },
      "execution_count": 13,
      "outputs": []
    },
    {
      "cell_type": "code",
      "source": [
        "df.shape"
      ],
      "metadata": {
        "colab": {
          "base_uri": "https://localhost:8080/"
        },
        "id": "5rC5vJ5ymfqq",
        "outputId": "74f6525a-e22a-401b-9b0e-0818399de96f"
      },
      "execution_count": 14,
      "outputs": [
        {
          "output_type": "execute_result",
          "data": {
            "text/plain": [
              "(69997, 22)"
            ]
          },
          "metadata": {},
          "execution_count": 14
        }
      ]
    },
    {
      "cell_type": "code",
      "source": [
        "final_test.shape"
      ],
      "metadata": {
        "colab": {
          "base_uri": "https://localhost:8080/"
        },
        "id": "dHws6TPuttE2",
        "outputId": "710ae983-72b3-44d2-d170-b1b70a4660bc"
      },
      "execution_count": 15,
      "outputs": [
        {
          "output_type": "execute_result",
          "data": {
            "text/plain": [
              "(25675, 22)"
            ]
          },
          "metadata": {},
          "execution_count": 15
        }
      ]
    },
    {
      "cell_type": "code",
      "source": [
        "df.head().T # Displaying the first 5 rows "
      ],
      "metadata": {
        "colab": {
          "base_uri": "https://localhost:8080/",
          "height": 739
        },
        "id": "bIlTz0Wmmi9x",
        "outputId": "98addcd8-360f-4cf3-d807-12212d4ea8ac"
      },
      "execution_count": 16,
      "outputs": [
        {
          "output_type": "execute_result",
          "data": {
            "text/plain": [
              "                                   0                    1  \\\n",
              "Frequency                    Quatrly          Half Yearly   \n",
              "InstlmentMode                 Arrear               Arrear   \n",
              "LoanStatus                    Active               Active   \n",
              "PaymentMode             Direct Debit                  ECS   \n",
              "BranchID                         272                  326   \n",
              "Area                         LUCKNOW             MANDSAUR   \n",
              "Tenure                            53                   60   \n",
              "AmountFinance               375000.0             503352.0   \n",
              "DisbursalAmount             375000.0             503352.0   \n",
              "EMI                          32100.0              74200.0   \n",
              "DisbursalDate    2017-11-23 00:00:00  2017-02-21 00:00:00   \n",
              "MaturityDAte     2022-04-10 00:00:00  2021-12-05 00:00:00   \n",
              "AuthDate         2017-11-23 00:00:00  2017-02-21 00:00:00   \n",
              "LTV                            69.44                89.88   \n",
              "Top-up ?                 Topup-opted            Not-opted   \n",
              "SEX                                M                    M   \n",
              "AGE                             29.0                 34.0   \n",
              "MonthlyIncome               58333.33             35833.33   \n",
              "City                         SITAPUR              NEEMUCH   \n",
              "State                  UTTAR PRADESH       MADHYA PRADESH   \n",
              "AssetCost                     450000               530000   \n",
              "ManufacturerID                  1568                 1568   \n",
              "\n",
              "                                   2                    3                    4  \n",
              "Frequency                Half Yearly              Quatrly              Monthly  \n",
              "InstlmentMode                 Arrear               Arrear               Arrear  \n",
              "LoanStatus                    Closed               Closed               Closed  \n",
              "PaymentMode             Direct Debit                  PDC               Billed  \n",
              "BranchID                         292                  412                   76  \n",
              "Area                          BARODA               KANPUR               RAIPUR  \n",
              "Tenure                            48                   12                   50  \n",
              "AmountFinance               280000.0             100000.0             350000.0  \n",
              "DisbursalAmount             280000.0             100000.0             350000.0  \n",
              "EMI                          48000.0              27600.0              98000.0  \n",
              "DisbursalDate    2016-06-20 00:00:00  2018-09-26 00:00:00  2011-12-24 00:00:00  \n",
              "MaturityDAte     2020-06-10 00:00:00  2019-09-05 00:00:00  2016-02-01 00:00:00  \n",
              "AuthDate         2016-06-20 00:00:00  2018-09-26 00:00:00  2011-12-24 00:00:00  \n",
              "LTV                            49.56                 14.2                61.57  \n",
              "Top-up ?                   Not-opted            Not-opted            Not-opted  \n",
              "SEX                                M                    M                    M  \n",
              "AGE                             50.0                 65.0                 34.0  \n",
              "MonthlyIncome               34166.67             44416.67             13333.33  \n",
              "City                           KHEDA          FARRUKHABAD             DHAMTARI  \n",
              "State                        GUJARAT        UTTAR PRADESH          CHATTISGARH  \n",
              "AssetCost                     550000               650000               520000  \n",
              "ManufacturerID                  1062                 1186                 1186  "
            ],
            "text/html": [
              "\n",
              "  <div id=\"df-83269a47-6d1a-4557-a69a-1045ebe73cea\">\n",
              "    <div class=\"colab-df-container\">\n",
              "      <div>\n",
              "<style scoped>\n",
              "    .dataframe tbody tr th:only-of-type {\n",
              "        vertical-align: middle;\n",
              "    }\n",
              "\n",
              "    .dataframe tbody tr th {\n",
              "        vertical-align: top;\n",
              "    }\n",
              "\n",
              "    .dataframe thead th {\n",
              "        text-align: right;\n",
              "    }\n",
              "</style>\n",
              "<table border=\"1\" class=\"dataframe\">\n",
              "  <thead>\n",
              "    <tr style=\"text-align: right;\">\n",
              "      <th></th>\n",
              "      <th>0</th>\n",
              "      <th>1</th>\n",
              "      <th>2</th>\n",
              "      <th>3</th>\n",
              "      <th>4</th>\n",
              "    </tr>\n",
              "  </thead>\n",
              "  <tbody>\n",
              "    <tr>\n",
              "      <th>Frequency</th>\n",
              "      <td>Quatrly</td>\n",
              "      <td>Half Yearly</td>\n",
              "      <td>Half Yearly</td>\n",
              "      <td>Quatrly</td>\n",
              "      <td>Monthly</td>\n",
              "    </tr>\n",
              "    <tr>\n",
              "      <th>InstlmentMode</th>\n",
              "      <td>Arrear</td>\n",
              "      <td>Arrear</td>\n",
              "      <td>Arrear</td>\n",
              "      <td>Arrear</td>\n",
              "      <td>Arrear</td>\n",
              "    </tr>\n",
              "    <tr>\n",
              "      <th>LoanStatus</th>\n",
              "      <td>Active</td>\n",
              "      <td>Active</td>\n",
              "      <td>Closed</td>\n",
              "      <td>Closed</td>\n",
              "      <td>Closed</td>\n",
              "    </tr>\n",
              "    <tr>\n",
              "      <th>PaymentMode</th>\n",
              "      <td>Direct Debit</td>\n",
              "      <td>ECS</td>\n",
              "      <td>Direct Debit</td>\n",
              "      <td>PDC</td>\n",
              "      <td>Billed</td>\n",
              "    </tr>\n",
              "    <tr>\n",
              "      <th>BranchID</th>\n",
              "      <td>272</td>\n",
              "      <td>326</td>\n",
              "      <td>292</td>\n",
              "      <td>412</td>\n",
              "      <td>76</td>\n",
              "    </tr>\n",
              "    <tr>\n",
              "      <th>Area</th>\n",
              "      <td>LUCKNOW</td>\n",
              "      <td>MANDSAUR</td>\n",
              "      <td>BARODA</td>\n",
              "      <td>KANPUR</td>\n",
              "      <td>RAIPUR</td>\n",
              "    </tr>\n",
              "    <tr>\n",
              "      <th>Tenure</th>\n",
              "      <td>53</td>\n",
              "      <td>60</td>\n",
              "      <td>48</td>\n",
              "      <td>12</td>\n",
              "      <td>50</td>\n",
              "    </tr>\n",
              "    <tr>\n",
              "      <th>AmountFinance</th>\n",
              "      <td>375000.0</td>\n",
              "      <td>503352.0</td>\n",
              "      <td>280000.0</td>\n",
              "      <td>100000.0</td>\n",
              "      <td>350000.0</td>\n",
              "    </tr>\n",
              "    <tr>\n",
              "      <th>DisbursalAmount</th>\n",
              "      <td>375000.0</td>\n",
              "      <td>503352.0</td>\n",
              "      <td>280000.0</td>\n",
              "      <td>100000.0</td>\n",
              "      <td>350000.0</td>\n",
              "    </tr>\n",
              "    <tr>\n",
              "      <th>EMI</th>\n",
              "      <td>32100.0</td>\n",
              "      <td>74200.0</td>\n",
              "      <td>48000.0</td>\n",
              "      <td>27600.0</td>\n",
              "      <td>98000.0</td>\n",
              "    </tr>\n",
              "    <tr>\n",
              "      <th>DisbursalDate</th>\n",
              "      <td>2017-11-23 00:00:00</td>\n",
              "      <td>2017-02-21 00:00:00</td>\n",
              "      <td>2016-06-20 00:00:00</td>\n",
              "      <td>2018-09-26 00:00:00</td>\n",
              "      <td>2011-12-24 00:00:00</td>\n",
              "    </tr>\n",
              "    <tr>\n",
              "      <th>MaturityDAte</th>\n",
              "      <td>2022-04-10 00:00:00</td>\n",
              "      <td>2021-12-05 00:00:00</td>\n",
              "      <td>2020-06-10 00:00:00</td>\n",
              "      <td>2019-09-05 00:00:00</td>\n",
              "      <td>2016-02-01 00:00:00</td>\n",
              "    </tr>\n",
              "    <tr>\n",
              "      <th>AuthDate</th>\n",
              "      <td>2017-11-23 00:00:00</td>\n",
              "      <td>2017-02-21 00:00:00</td>\n",
              "      <td>2016-06-20 00:00:00</td>\n",
              "      <td>2018-09-26 00:00:00</td>\n",
              "      <td>2011-12-24 00:00:00</td>\n",
              "    </tr>\n",
              "    <tr>\n",
              "      <th>LTV</th>\n",
              "      <td>69.44</td>\n",
              "      <td>89.88</td>\n",
              "      <td>49.56</td>\n",
              "      <td>14.2</td>\n",
              "      <td>61.57</td>\n",
              "    </tr>\n",
              "    <tr>\n",
              "      <th>Top-up ?</th>\n",
              "      <td>Topup-opted</td>\n",
              "      <td>Not-opted</td>\n",
              "      <td>Not-opted</td>\n",
              "      <td>Not-opted</td>\n",
              "      <td>Not-opted</td>\n",
              "    </tr>\n",
              "    <tr>\n",
              "      <th>SEX</th>\n",
              "      <td>M</td>\n",
              "      <td>M</td>\n",
              "      <td>M</td>\n",
              "      <td>M</td>\n",
              "      <td>M</td>\n",
              "    </tr>\n",
              "    <tr>\n",
              "      <th>AGE</th>\n",
              "      <td>29.0</td>\n",
              "      <td>34.0</td>\n",
              "      <td>50.0</td>\n",
              "      <td>65.0</td>\n",
              "      <td>34.0</td>\n",
              "    </tr>\n",
              "    <tr>\n",
              "      <th>MonthlyIncome</th>\n",
              "      <td>58333.33</td>\n",
              "      <td>35833.33</td>\n",
              "      <td>34166.67</td>\n",
              "      <td>44416.67</td>\n",
              "      <td>13333.33</td>\n",
              "    </tr>\n",
              "    <tr>\n",
              "      <th>City</th>\n",
              "      <td>SITAPUR</td>\n",
              "      <td>NEEMUCH</td>\n",
              "      <td>KHEDA</td>\n",
              "      <td>FARRUKHABAD</td>\n",
              "      <td>DHAMTARI</td>\n",
              "    </tr>\n",
              "    <tr>\n",
              "      <th>State</th>\n",
              "      <td>UTTAR PRADESH</td>\n",
              "      <td>MADHYA PRADESH</td>\n",
              "      <td>GUJARAT</td>\n",
              "      <td>UTTAR PRADESH</td>\n",
              "      <td>CHATTISGARH</td>\n",
              "    </tr>\n",
              "    <tr>\n",
              "      <th>AssetCost</th>\n",
              "      <td>450000</td>\n",
              "      <td>530000</td>\n",
              "      <td>550000</td>\n",
              "      <td>650000</td>\n",
              "      <td>520000</td>\n",
              "    </tr>\n",
              "    <tr>\n",
              "      <th>ManufacturerID</th>\n",
              "      <td>1568</td>\n",
              "      <td>1568</td>\n",
              "      <td>1062</td>\n",
              "      <td>1186</td>\n",
              "      <td>1186</td>\n",
              "    </tr>\n",
              "  </tbody>\n",
              "</table>\n",
              "</div>\n",
              "      <button class=\"colab-df-convert\" onclick=\"convertToInteractive('df-83269a47-6d1a-4557-a69a-1045ebe73cea')\"\n",
              "              title=\"Convert this dataframe to an interactive table.\"\n",
              "              style=\"display:none;\">\n",
              "        \n",
              "  <svg xmlns=\"http://www.w3.org/2000/svg\" height=\"24px\"viewBox=\"0 0 24 24\"\n",
              "       width=\"24px\">\n",
              "    <path d=\"M0 0h24v24H0V0z\" fill=\"none\"/>\n",
              "    <path d=\"M18.56 5.44l.94 2.06.94-2.06 2.06-.94-2.06-.94-.94-2.06-.94 2.06-2.06.94zm-11 1L8.5 8.5l.94-2.06 2.06-.94-2.06-.94L8.5 2.5l-.94 2.06-2.06.94zm10 10l.94 2.06.94-2.06 2.06-.94-2.06-.94-.94-2.06-.94 2.06-2.06.94z\"/><path d=\"M17.41 7.96l-1.37-1.37c-.4-.4-.92-.59-1.43-.59-.52 0-1.04.2-1.43.59L10.3 9.45l-7.72 7.72c-.78.78-.78 2.05 0 2.83L4 21.41c.39.39.9.59 1.41.59.51 0 1.02-.2 1.41-.59l7.78-7.78 2.81-2.81c.8-.78.8-2.07 0-2.86zM5.41 20L4 18.59l7.72-7.72 1.47 1.35L5.41 20z\"/>\n",
              "  </svg>\n",
              "      </button>\n",
              "      \n",
              "  <style>\n",
              "    .colab-df-container {\n",
              "      display:flex;\n",
              "      flex-wrap:wrap;\n",
              "      gap: 12px;\n",
              "    }\n",
              "\n",
              "    .colab-df-convert {\n",
              "      background-color: #E8F0FE;\n",
              "      border: none;\n",
              "      border-radius: 50%;\n",
              "      cursor: pointer;\n",
              "      display: none;\n",
              "      fill: #1967D2;\n",
              "      height: 32px;\n",
              "      padding: 0 0 0 0;\n",
              "      width: 32px;\n",
              "    }\n",
              "\n",
              "    .colab-df-convert:hover {\n",
              "      background-color: #E2EBFA;\n",
              "      box-shadow: 0px 1px 2px rgba(60, 64, 67, 0.3), 0px 1px 3px 1px rgba(60, 64, 67, 0.15);\n",
              "      fill: #174EA6;\n",
              "    }\n",
              "\n",
              "    [theme=dark] .colab-df-convert {\n",
              "      background-color: #3B4455;\n",
              "      fill: #D2E3FC;\n",
              "    }\n",
              "\n",
              "    [theme=dark] .colab-df-convert:hover {\n",
              "      background-color: #434B5C;\n",
              "      box-shadow: 0px 1px 3px 1px rgba(0, 0, 0, 0.15);\n",
              "      filter: drop-shadow(0px 1px 2px rgba(0, 0, 0, 0.3));\n",
              "      fill: #FFFFFF;\n",
              "    }\n",
              "  </style>\n",
              "\n",
              "      <script>\n",
              "        const buttonEl =\n",
              "          document.querySelector('#df-83269a47-6d1a-4557-a69a-1045ebe73cea button.colab-df-convert');\n",
              "        buttonEl.style.display =\n",
              "          google.colab.kernel.accessAllowed ? 'block' : 'none';\n",
              "\n",
              "        async function convertToInteractive(key) {\n",
              "          const element = document.querySelector('#df-83269a47-6d1a-4557-a69a-1045ebe73cea');\n",
              "          const dataTable =\n",
              "            await google.colab.kernel.invokeFunction('convertToInteractive',\n",
              "                                                     [key], {});\n",
              "          if (!dataTable) return;\n",
              "\n",
              "          const docLinkHtml = 'Like what you see? Visit the ' +\n",
              "            '<a target=\"_blank\" href=https://colab.research.google.com/notebooks/data_table.ipynb>data table notebook</a>'\n",
              "            + ' to learn more about interactive tables.';\n",
              "          element.innerHTML = '';\n",
              "          dataTable['output_type'] = 'display_data';\n",
              "          await google.colab.output.renderOutput(dataTable, element);\n",
              "          const docLink = document.createElement('div');\n",
              "          docLink.innerHTML = docLinkHtml;\n",
              "          element.appendChild(docLink);\n",
              "        }\n",
              "      </script>\n",
              "    </div>\n",
              "  </div>\n",
              "  "
            ]
          },
          "metadata": {},
          "execution_count": 16
        }
      ]
    },
    {
      "cell_type": "markdown",
      "source": [
        "##Feature Engneering"
      ],
      "metadata": {
        "id": "PaLYnhnZmrjs"
      }
    },
    {
      "cell_type": "code",
      "source": [
        "df['Disbursal_month'] = df['DisbursalDate'].dt.month # Extracting the month column from DisbursalDate in train data"
      ],
      "metadata": {
        "id": "PwIpX6-smvbq"
      },
      "execution_count": 17,
      "outputs": []
    },
    {
      "cell_type": "code",
      "source": [
        "df['Maturity_month']=df['MaturityDAte'].dt.month # Extracting the month columnn from MaturityDate in train data"
      ],
      "metadata": {
        "id": "hlj8KTvymxYH"
      },
      "execution_count": 18,
      "outputs": []
    },
    {
      "cell_type": "code",
      "source": [
        "df.head()"
      ],
      "metadata": {
        "colab": {
          "base_uri": "https://localhost:8080/",
          "height": 404
        },
        "id": "iUU9lG8Lm13d",
        "outputId": "fe9eff3a-5f98-480d-e5f3-0a790942d2ff"
      },
      "execution_count": 19,
      "outputs": [
        {
          "output_type": "execute_result",
          "data": {
            "text/plain": [
              "     Frequency InstlmentMode LoanStatus   PaymentMode  BranchID      Area  \\\n",
              "0      Quatrly        Arrear     Active  Direct Debit       272   LUCKNOW   \n",
              "1  Half Yearly        Arrear     Active           ECS       326  MANDSAUR   \n",
              "2  Half Yearly        Arrear     Closed  Direct Debit       292    BARODA   \n",
              "3      Quatrly        Arrear     Closed           PDC       412    KANPUR   \n",
              "4      Monthly        Arrear     Closed        Billed        76    RAIPUR   \n",
              "\n",
              "   Tenure  AmountFinance  DisbursalAmount      EMI  ...     Top-up ? SEX  \\\n",
              "0      53       375000.0         375000.0  32100.0  ...  Topup-opted   M   \n",
              "1      60       503352.0         503352.0  74200.0  ...    Not-opted   M   \n",
              "2      48       280000.0         280000.0  48000.0  ...    Not-opted   M   \n",
              "3      12       100000.0         100000.0  27600.0  ...    Not-opted   M   \n",
              "4      50       350000.0         350000.0  98000.0  ...    Not-opted   M   \n",
              "\n",
              "    AGE  MonthlyIncome         City           State  AssetCost  \\\n",
              "0  29.0       58333.33      SITAPUR   UTTAR PRADESH     450000   \n",
              "1  34.0       35833.33      NEEMUCH  MADHYA PRADESH     530000   \n",
              "2  50.0       34166.67        KHEDA         GUJARAT     550000   \n",
              "3  65.0       44416.67  FARRUKHABAD   UTTAR PRADESH     650000   \n",
              "4  34.0       13333.33     DHAMTARI     CHATTISGARH     520000   \n",
              "\n",
              "   ManufacturerID Disbursal_month Maturity_month  \n",
              "0            1568              11            4.0  \n",
              "1            1568               2           12.0  \n",
              "2            1062               6            6.0  \n",
              "3            1186               9            9.0  \n",
              "4            1186              12            2.0  \n",
              "\n",
              "[5 rows x 24 columns]"
            ],
            "text/html": [
              "\n",
              "  <div id=\"df-2c239c11-0b5c-40c4-8a53-4c206732ed93\">\n",
              "    <div class=\"colab-df-container\">\n",
              "      <div>\n",
              "<style scoped>\n",
              "    .dataframe tbody tr th:only-of-type {\n",
              "        vertical-align: middle;\n",
              "    }\n",
              "\n",
              "    .dataframe tbody tr th {\n",
              "        vertical-align: top;\n",
              "    }\n",
              "\n",
              "    .dataframe thead th {\n",
              "        text-align: right;\n",
              "    }\n",
              "</style>\n",
              "<table border=\"1\" class=\"dataframe\">\n",
              "  <thead>\n",
              "    <tr style=\"text-align: right;\">\n",
              "      <th></th>\n",
              "      <th>Frequency</th>\n",
              "      <th>InstlmentMode</th>\n",
              "      <th>LoanStatus</th>\n",
              "      <th>PaymentMode</th>\n",
              "      <th>BranchID</th>\n",
              "      <th>Area</th>\n",
              "      <th>Tenure</th>\n",
              "      <th>AmountFinance</th>\n",
              "      <th>DisbursalAmount</th>\n",
              "      <th>EMI</th>\n",
              "      <th>...</th>\n",
              "      <th>Top-up ?</th>\n",
              "      <th>SEX</th>\n",
              "      <th>AGE</th>\n",
              "      <th>MonthlyIncome</th>\n",
              "      <th>City</th>\n",
              "      <th>State</th>\n",
              "      <th>AssetCost</th>\n",
              "      <th>ManufacturerID</th>\n",
              "      <th>Disbursal_month</th>\n",
              "      <th>Maturity_month</th>\n",
              "    </tr>\n",
              "  </thead>\n",
              "  <tbody>\n",
              "    <tr>\n",
              "      <th>0</th>\n",
              "      <td>Quatrly</td>\n",
              "      <td>Arrear</td>\n",
              "      <td>Active</td>\n",
              "      <td>Direct Debit</td>\n",
              "      <td>272</td>\n",
              "      <td>LUCKNOW</td>\n",
              "      <td>53</td>\n",
              "      <td>375000.0</td>\n",
              "      <td>375000.0</td>\n",
              "      <td>32100.0</td>\n",
              "      <td>...</td>\n",
              "      <td>Topup-opted</td>\n",
              "      <td>M</td>\n",
              "      <td>29.0</td>\n",
              "      <td>58333.33</td>\n",
              "      <td>SITAPUR</td>\n",
              "      <td>UTTAR PRADESH</td>\n",
              "      <td>450000</td>\n",
              "      <td>1568</td>\n",
              "      <td>11</td>\n",
              "      <td>4.0</td>\n",
              "    </tr>\n",
              "    <tr>\n",
              "      <th>1</th>\n",
              "      <td>Half Yearly</td>\n",
              "      <td>Arrear</td>\n",
              "      <td>Active</td>\n",
              "      <td>ECS</td>\n",
              "      <td>326</td>\n",
              "      <td>MANDSAUR</td>\n",
              "      <td>60</td>\n",
              "      <td>503352.0</td>\n",
              "      <td>503352.0</td>\n",
              "      <td>74200.0</td>\n",
              "      <td>...</td>\n",
              "      <td>Not-opted</td>\n",
              "      <td>M</td>\n",
              "      <td>34.0</td>\n",
              "      <td>35833.33</td>\n",
              "      <td>NEEMUCH</td>\n",
              "      <td>MADHYA PRADESH</td>\n",
              "      <td>530000</td>\n",
              "      <td>1568</td>\n",
              "      <td>2</td>\n",
              "      <td>12.0</td>\n",
              "    </tr>\n",
              "    <tr>\n",
              "      <th>2</th>\n",
              "      <td>Half Yearly</td>\n",
              "      <td>Arrear</td>\n",
              "      <td>Closed</td>\n",
              "      <td>Direct Debit</td>\n",
              "      <td>292</td>\n",
              "      <td>BARODA</td>\n",
              "      <td>48</td>\n",
              "      <td>280000.0</td>\n",
              "      <td>280000.0</td>\n",
              "      <td>48000.0</td>\n",
              "      <td>...</td>\n",
              "      <td>Not-opted</td>\n",
              "      <td>M</td>\n",
              "      <td>50.0</td>\n",
              "      <td>34166.67</td>\n",
              "      <td>KHEDA</td>\n",
              "      <td>GUJARAT</td>\n",
              "      <td>550000</td>\n",
              "      <td>1062</td>\n",
              "      <td>6</td>\n",
              "      <td>6.0</td>\n",
              "    </tr>\n",
              "    <tr>\n",
              "      <th>3</th>\n",
              "      <td>Quatrly</td>\n",
              "      <td>Arrear</td>\n",
              "      <td>Closed</td>\n",
              "      <td>PDC</td>\n",
              "      <td>412</td>\n",
              "      <td>KANPUR</td>\n",
              "      <td>12</td>\n",
              "      <td>100000.0</td>\n",
              "      <td>100000.0</td>\n",
              "      <td>27600.0</td>\n",
              "      <td>...</td>\n",
              "      <td>Not-opted</td>\n",
              "      <td>M</td>\n",
              "      <td>65.0</td>\n",
              "      <td>44416.67</td>\n",
              "      <td>FARRUKHABAD</td>\n",
              "      <td>UTTAR PRADESH</td>\n",
              "      <td>650000</td>\n",
              "      <td>1186</td>\n",
              "      <td>9</td>\n",
              "      <td>9.0</td>\n",
              "    </tr>\n",
              "    <tr>\n",
              "      <th>4</th>\n",
              "      <td>Monthly</td>\n",
              "      <td>Arrear</td>\n",
              "      <td>Closed</td>\n",
              "      <td>Billed</td>\n",
              "      <td>76</td>\n",
              "      <td>RAIPUR</td>\n",
              "      <td>50</td>\n",
              "      <td>350000.0</td>\n",
              "      <td>350000.0</td>\n",
              "      <td>98000.0</td>\n",
              "      <td>...</td>\n",
              "      <td>Not-opted</td>\n",
              "      <td>M</td>\n",
              "      <td>34.0</td>\n",
              "      <td>13333.33</td>\n",
              "      <td>DHAMTARI</td>\n",
              "      <td>CHATTISGARH</td>\n",
              "      <td>520000</td>\n",
              "      <td>1186</td>\n",
              "      <td>12</td>\n",
              "      <td>2.0</td>\n",
              "    </tr>\n",
              "  </tbody>\n",
              "</table>\n",
              "<p>5 rows × 24 columns</p>\n",
              "</div>\n",
              "      <button class=\"colab-df-convert\" onclick=\"convertToInteractive('df-2c239c11-0b5c-40c4-8a53-4c206732ed93')\"\n",
              "              title=\"Convert this dataframe to an interactive table.\"\n",
              "              style=\"display:none;\">\n",
              "        \n",
              "  <svg xmlns=\"http://www.w3.org/2000/svg\" height=\"24px\"viewBox=\"0 0 24 24\"\n",
              "       width=\"24px\">\n",
              "    <path d=\"M0 0h24v24H0V0z\" fill=\"none\"/>\n",
              "    <path d=\"M18.56 5.44l.94 2.06.94-2.06 2.06-.94-2.06-.94-.94-2.06-.94 2.06-2.06.94zm-11 1L8.5 8.5l.94-2.06 2.06-.94-2.06-.94L8.5 2.5l-.94 2.06-2.06.94zm10 10l.94 2.06.94-2.06 2.06-.94-2.06-.94-.94-2.06-.94 2.06-2.06.94z\"/><path d=\"M17.41 7.96l-1.37-1.37c-.4-.4-.92-.59-1.43-.59-.52 0-1.04.2-1.43.59L10.3 9.45l-7.72 7.72c-.78.78-.78 2.05 0 2.83L4 21.41c.39.39.9.59 1.41.59.51 0 1.02-.2 1.41-.59l7.78-7.78 2.81-2.81c.8-.78.8-2.07 0-2.86zM5.41 20L4 18.59l7.72-7.72 1.47 1.35L5.41 20z\"/>\n",
              "  </svg>\n",
              "      </button>\n",
              "      \n",
              "  <style>\n",
              "    .colab-df-container {\n",
              "      display:flex;\n",
              "      flex-wrap:wrap;\n",
              "      gap: 12px;\n",
              "    }\n",
              "\n",
              "    .colab-df-convert {\n",
              "      background-color: #E8F0FE;\n",
              "      border: none;\n",
              "      border-radius: 50%;\n",
              "      cursor: pointer;\n",
              "      display: none;\n",
              "      fill: #1967D2;\n",
              "      height: 32px;\n",
              "      padding: 0 0 0 0;\n",
              "      width: 32px;\n",
              "    }\n",
              "\n",
              "    .colab-df-convert:hover {\n",
              "      background-color: #E2EBFA;\n",
              "      box-shadow: 0px 1px 2px rgba(60, 64, 67, 0.3), 0px 1px 3px 1px rgba(60, 64, 67, 0.15);\n",
              "      fill: #174EA6;\n",
              "    }\n",
              "\n",
              "    [theme=dark] .colab-df-convert {\n",
              "      background-color: #3B4455;\n",
              "      fill: #D2E3FC;\n",
              "    }\n",
              "\n",
              "    [theme=dark] .colab-df-convert:hover {\n",
              "      background-color: #434B5C;\n",
              "      box-shadow: 0px 1px 3px 1px rgba(0, 0, 0, 0.15);\n",
              "      filter: drop-shadow(0px 1px 2px rgba(0, 0, 0, 0.3));\n",
              "      fill: #FFFFFF;\n",
              "    }\n",
              "  </style>\n",
              "\n",
              "      <script>\n",
              "        const buttonEl =\n",
              "          document.querySelector('#df-2c239c11-0b5c-40c4-8a53-4c206732ed93 button.colab-df-convert');\n",
              "        buttonEl.style.display =\n",
              "          google.colab.kernel.accessAllowed ? 'block' : 'none';\n",
              "\n",
              "        async function convertToInteractive(key) {\n",
              "          const element = document.querySelector('#df-2c239c11-0b5c-40c4-8a53-4c206732ed93');\n",
              "          const dataTable =\n",
              "            await google.colab.kernel.invokeFunction('convertToInteractive',\n",
              "                                                     [key], {});\n",
              "          if (!dataTable) return;\n",
              "\n",
              "          const docLinkHtml = 'Like what you see? Visit the ' +\n",
              "            '<a target=\"_blank\" href=https://colab.research.google.com/notebooks/data_table.ipynb>data table notebook</a>'\n",
              "            + ' to learn more about interactive tables.';\n",
              "          element.innerHTML = '';\n",
              "          dataTable['output_type'] = 'display_data';\n",
              "          await google.colab.output.renderOutput(dataTable, element);\n",
              "          const docLink = document.createElement('div');\n",
              "          docLink.innerHTML = docLinkHtml;\n",
              "          element.appendChild(docLink);\n",
              "        }\n",
              "      </script>\n",
              "    </div>\n",
              "  </div>\n",
              "  "
            ]
          },
          "metadata": {},
          "execution_count": 19
        }
      ]
    },
    {
      "cell_type": "code",
      "source": [
        "final_test['Disbursal_month'] = final_test['DisbursalDate'].dt.month # Extracting the month column from DisbursalDate in test data"
      ],
      "metadata": {
        "id": "DPKvSfQ144x_"
      },
      "execution_count": 20,
      "outputs": []
    },
    {
      "cell_type": "code",
      "source": [
        "final_test['Maturity_month']=final_test['MaturityDAte'].dt.month # Extracting the month columnn from MaturityDate in test data"
      ],
      "metadata": {
        "id": "aCFQ5_2kvp70"
      },
      "execution_count": 21,
      "outputs": []
    },
    {
      "cell_type": "code",
      "source": [
        "final_test.head()"
      ],
      "metadata": {
        "colab": {
          "base_uri": "https://localhost:8080/",
          "height": 404
        },
        "id": "QWiHNFKS4_jZ",
        "outputId": "42360e27-82f4-4128-c837-55e716af66dd"
      },
      "execution_count": 22,
      "outputs": [
        {
          "output_type": "execute_result",
          "data": {
            "text/plain": [
              "     Frequency InstlmentMode LoanStatus   PaymentMode  BranchID      Area  \\\n",
              "0      Quatrly        Arrear     Active           ECS       202   LUCKNOW   \n",
              "1  Half Yearly        Arrear     Closed           PDC       125      GUNA   \n",
              "2  Half Yearly        Arrear     Active           ECS       375    REWARI   \n",
              "3  Half Yearly        Arrear     Active  Direct Debit       150  JABALPUR   \n",
              "4  Half Yearly        Arrear     Closed           ECS       204       NaN   \n",
              "\n",
              "   Tenure  AmountFinance  DisbursalAmount       EMI  ...     Top-up ? SEX  \\\n",
              "0      36       300000.0         300000.0   34000.0  ...    Not-opted   M   \n",
              "1     222       300000.0         300000.0   52700.0  ...    Not-opted   M   \n",
              "2      40       500278.0         500278.0  106519.0  ...    Not-opted   M   \n",
              "3      68       480000.0         480000.0   22000.0  ...  Topup-opted   M   \n",
              "4      36       356529.0         356529.0   74230.0  ...  Topup-opted   M   \n",
              "\n",
              "    AGE  MonthlyIncome         City           State  AssetCost  \\\n",
              "0  37.0       50775.00         ETAH   UTTAR PRADESH     600595   \n",
              "1  51.0       33333.33  ASHOK NAGAR  MADHYA PRADESH     650000   \n",
              "2  39.0      176666.67    FARIDABAD         HARYANA     550000   \n",
              "3  46.0       19041.67        SATNA  MADHYA PRADESH     472000   \n",
              "4  57.0       41666.67         PALI       RAJASTHAN     570000   \n",
              "\n",
              "   ManufacturerID Disbursal_month Maturity_month  \n",
              "0            1046              12             12  \n",
              "1            1060               7              6  \n",
              "2            1062               6             11  \n",
              "3            1046               4              1  \n",
              "4            1046               8              6  \n",
              "\n",
              "[5 rows x 24 columns]"
            ],
            "text/html": [
              "\n",
              "  <div id=\"df-8ac3859b-33c0-4075-b32a-98204d7bb1c1\">\n",
              "    <div class=\"colab-df-container\">\n",
              "      <div>\n",
              "<style scoped>\n",
              "    .dataframe tbody tr th:only-of-type {\n",
              "        vertical-align: middle;\n",
              "    }\n",
              "\n",
              "    .dataframe tbody tr th {\n",
              "        vertical-align: top;\n",
              "    }\n",
              "\n",
              "    .dataframe thead th {\n",
              "        text-align: right;\n",
              "    }\n",
              "</style>\n",
              "<table border=\"1\" class=\"dataframe\">\n",
              "  <thead>\n",
              "    <tr style=\"text-align: right;\">\n",
              "      <th></th>\n",
              "      <th>Frequency</th>\n",
              "      <th>InstlmentMode</th>\n",
              "      <th>LoanStatus</th>\n",
              "      <th>PaymentMode</th>\n",
              "      <th>BranchID</th>\n",
              "      <th>Area</th>\n",
              "      <th>Tenure</th>\n",
              "      <th>AmountFinance</th>\n",
              "      <th>DisbursalAmount</th>\n",
              "      <th>EMI</th>\n",
              "      <th>...</th>\n",
              "      <th>Top-up ?</th>\n",
              "      <th>SEX</th>\n",
              "      <th>AGE</th>\n",
              "      <th>MonthlyIncome</th>\n",
              "      <th>City</th>\n",
              "      <th>State</th>\n",
              "      <th>AssetCost</th>\n",
              "      <th>ManufacturerID</th>\n",
              "      <th>Disbursal_month</th>\n",
              "      <th>Maturity_month</th>\n",
              "    </tr>\n",
              "  </thead>\n",
              "  <tbody>\n",
              "    <tr>\n",
              "      <th>0</th>\n",
              "      <td>Quatrly</td>\n",
              "      <td>Arrear</td>\n",
              "      <td>Active</td>\n",
              "      <td>ECS</td>\n",
              "      <td>202</td>\n",
              "      <td>LUCKNOW</td>\n",
              "      <td>36</td>\n",
              "      <td>300000.0</td>\n",
              "      <td>300000.0</td>\n",
              "      <td>34000.0</td>\n",
              "      <td>...</td>\n",
              "      <td>Not-opted</td>\n",
              "      <td>M</td>\n",
              "      <td>37.0</td>\n",
              "      <td>50775.00</td>\n",
              "      <td>ETAH</td>\n",
              "      <td>UTTAR PRADESH</td>\n",
              "      <td>600595</td>\n",
              "      <td>1046</td>\n",
              "      <td>12</td>\n",
              "      <td>12</td>\n",
              "    </tr>\n",
              "    <tr>\n",
              "      <th>1</th>\n",
              "      <td>Half Yearly</td>\n",
              "      <td>Arrear</td>\n",
              "      <td>Closed</td>\n",
              "      <td>PDC</td>\n",
              "      <td>125</td>\n",
              "      <td>GUNA</td>\n",
              "      <td>222</td>\n",
              "      <td>300000.0</td>\n",
              "      <td>300000.0</td>\n",
              "      <td>52700.0</td>\n",
              "      <td>...</td>\n",
              "      <td>Not-opted</td>\n",
              "      <td>M</td>\n",
              "      <td>51.0</td>\n",
              "      <td>33333.33</td>\n",
              "      <td>ASHOK NAGAR</td>\n",
              "      <td>MADHYA PRADESH</td>\n",
              "      <td>650000</td>\n",
              "      <td>1060</td>\n",
              "      <td>7</td>\n",
              "      <td>6</td>\n",
              "    </tr>\n",
              "    <tr>\n",
              "      <th>2</th>\n",
              "      <td>Half Yearly</td>\n",
              "      <td>Arrear</td>\n",
              "      <td>Active</td>\n",
              "      <td>ECS</td>\n",
              "      <td>375</td>\n",
              "      <td>REWARI</td>\n",
              "      <td>40</td>\n",
              "      <td>500278.0</td>\n",
              "      <td>500278.0</td>\n",
              "      <td>106519.0</td>\n",
              "      <td>...</td>\n",
              "      <td>Not-opted</td>\n",
              "      <td>M</td>\n",
              "      <td>39.0</td>\n",
              "      <td>176666.67</td>\n",
              "      <td>FARIDABAD</td>\n",
              "      <td>HARYANA</td>\n",
              "      <td>550000</td>\n",
              "      <td>1062</td>\n",
              "      <td>6</td>\n",
              "      <td>11</td>\n",
              "    </tr>\n",
              "    <tr>\n",
              "      <th>3</th>\n",
              "      <td>Half Yearly</td>\n",
              "      <td>Arrear</td>\n",
              "      <td>Active</td>\n",
              "      <td>Direct Debit</td>\n",
              "      <td>150</td>\n",
              "      <td>JABALPUR</td>\n",
              "      <td>68</td>\n",
              "      <td>480000.0</td>\n",
              "      <td>480000.0</td>\n",
              "      <td>22000.0</td>\n",
              "      <td>...</td>\n",
              "      <td>Topup-opted</td>\n",
              "      <td>M</td>\n",
              "      <td>46.0</td>\n",
              "      <td>19041.67</td>\n",
              "      <td>SATNA</td>\n",
              "      <td>MADHYA PRADESH</td>\n",
              "      <td>472000</td>\n",
              "      <td>1046</td>\n",
              "      <td>4</td>\n",
              "      <td>1</td>\n",
              "    </tr>\n",
              "    <tr>\n",
              "      <th>4</th>\n",
              "      <td>Half Yearly</td>\n",
              "      <td>Arrear</td>\n",
              "      <td>Closed</td>\n",
              "      <td>ECS</td>\n",
              "      <td>204</td>\n",
              "      <td>NaN</td>\n",
              "      <td>36</td>\n",
              "      <td>356529.0</td>\n",
              "      <td>356529.0</td>\n",
              "      <td>74230.0</td>\n",
              "      <td>...</td>\n",
              "      <td>Topup-opted</td>\n",
              "      <td>M</td>\n",
              "      <td>57.0</td>\n",
              "      <td>41666.67</td>\n",
              "      <td>PALI</td>\n",
              "      <td>RAJASTHAN</td>\n",
              "      <td>570000</td>\n",
              "      <td>1046</td>\n",
              "      <td>8</td>\n",
              "      <td>6</td>\n",
              "    </tr>\n",
              "  </tbody>\n",
              "</table>\n",
              "<p>5 rows × 24 columns</p>\n",
              "</div>\n",
              "      <button class=\"colab-df-convert\" onclick=\"convertToInteractive('df-8ac3859b-33c0-4075-b32a-98204d7bb1c1')\"\n",
              "              title=\"Convert this dataframe to an interactive table.\"\n",
              "              style=\"display:none;\">\n",
              "        \n",
              "  <svg xmlns=\"http://www.w3.org/2000/svg\" height=\"24px\"viewBox=\"0 0 24 24\"\n",
              "       width=\"24px\">\n",
              "    <path d=\"M0 0h24v24H0V0z\" fill=\"none\"/>\n",
              "    <path d=\"M18.56 5.44l.94 2.06.94-2.06 2.06-.94-2.06-.94-.94-2.06-.94 2.06-2.06.94zm-11 1L8.5 8.5l.94-2.06 2.06-.94-2.06-.94L8.5 2.5l-.94 2.06-2.06.94zm10 10l.94 2.06.94-2.06 2.06-.94-2.06-.94-.94-2.06-.94 2.06-2.06.94z\"/><path d=\"M17.41 7.96l-1.37-1.37c-.4-.4-.92-.59-1.43-.59-.52 0-1.04.2-1.43.59L10.3 9.45l-7.72 7.72c-.78.78-.78 2.05 0 2.83L4 21.41c.39.39.9.59 1.41.59.51 0 1.02-.2 1.41-.59l7.78-7.78 2.81-2.81c.8-.78.8-2.07 0-2.86zM5.41 20L4 18.59l7.72-7.72 1.47 1.35L5.41 20z\"/>\n",
              "  </svg>\n",
              "      </button>\n",
              "      \n",
              "  <style>\n",
              "    .colab-df-container {\n",
              "      display:flex;\n",
              "      flex-wrap:wrap;\n",
              "      gap: 12px;\n",
              "    }\n",
              "\n",
              "    .colab-df-convert {\n",
              "      background-color: #E8F0FE;\n",
              "      border: none;\n",
              "      border-radius: 50%;\n",
              "      cursor: pointer;\n",
              "      display: none;\n",
              "      fill: #1967D2;\n",
              "      height: 32px;\n",
              "      padding: 0 0 0 0;\n",
              "      width: 32px;\n",
              "    }\n",
              "\n",
              "    .colab-df-convert:hover {\n",
              "      background-color: #E2EBFA;\n",
              "      box-shadow: 0px 1px 2px rgba(60, 64, 67, 0.3), 0px 1px 3px 1px rgba(60, 64, 67, 0.15);\n",
              "      fill: #174EA6;\n",
              "    }\n",
              "\n",
              "    [theme=dark] .colab-df-convert {\n",
              "      background-color: #3B4455;\n",
              "      fill: #D2E3FC;\n",
              "    }\n",
              "\n",
              "    [theme=dark] .colab-df-convert:hover {\n",
              "      background-color: #434B5C;\n",
              "      box-shadow: 0px 1px 3px 1px rgba(0, 0, 0, 0.15);\n",
              "      filter: drop-shadow(0px 1px 2px rgba(0, 0, 0, 0.3));\n",
              "      fill: #FFFFFF;\n",
              "    }\n",
              "  </style>\n",
              "\n",
              "      <script>\n",
              "        const buttonEl =\n",
              "          document.querySelector('#df-8ac3859b-33c0-4075-b32a-98204d7bb1c1 button.colab-df-convert');\n",
              "        buttonEl.style.display =\n",
              "          google.colab.kernel.accessAllowed ? 'block' : 'none';\n",
              "\n",
              "        async function convertToInteractive(key) {\n",
              "          const element = document.querySelector('#df-8ac3859b-33c0-4075-b32a-98204d7bb1c1');\n",
              "          const dataTable =\n",
              "            await google.colab.kernel.invokeFunction('convertToInteractive',\n",
              "                                                     [key], {});\n",
              "          if (!dataTable) return;\n",
              "\n",
              "          const docLinkHtml = 'Like what you see? Visit the ' +\n",
              "            '<a target=\"_blank\" href=https://colab.research.google.com/notebooks/data_table.ipynb>data table notebook</a>'\n",
              "            + ' to learn more about interactive tables.';\n",
              "          element.innerHTML = '';\n",
              "          dataTable['output_type'] = 'display_data';\n",
              "          await google.colab.output.renderOutput(dataTable, element);\n",
              "          const docLink = document.createElement('div');\n",
              "          docLink.innerHTML = docLinkHtml;\n",
              "          element.appendChild(docLink);\n",
              "        }\n",
              "      </script>\n",
              "    </div>\n",
              "  </div>\n",
              "  "
            ]
          },
          "metadata": {},
          "execution_count": 22
        }
      ]
    },
    {
      "cell_type": "markdown",
      "source": [
        "# EDA"
      ],
      "metadata": {
        "id": "2ysiMDTZKLYV"
      }
    },
    {
      "cell_type": "code",
      "source": [
        "# Listing the numerical,categorical and datetype columns \n",
        "num_att = ['Tenure','AmountFinance','DisbursalAmount','EMI','LTV','AGE','MonthlyIncome','AssetCost']\n",
        "cat_att = ['Frequency','InstlmentMode','LoanStatus','PaymentMode','BranchID','SEX','ManufacturerID','Disbursal_month','Maturity_month','Top-up ?']\n",
        "date = ['DisbursalDate','MaturityDAte','AuthDate']"
      ],
      "metadata": {
        "id": "FqhvvS3SnW3N"
      },
      "execution_count": 23,
      "outputs": []
    },
    {
      "cell_type": "code",
      "source": [
        "df.drop(date,axis=1,inplace=True) # Droping the date columns in train data\n",
        "final_test.drop(date,axis=1,inplace=True) # Droping the date columns in test data"
      ],
      "metadata": {
        "id": "p7pkYnzKUojR"
      },
      "execution_count": 24,
      "outputs": []
    },
    {
      "cell_type": "code",
      "source": [
        "df.dtypes"
      ],
      "metadata": {
        "colab": {
          "base_uri": "https://localhost:8080/"
        },
        "id": "K-353dagnbNh",
        "outputId": "6b1cd471-f7a3-4d61-c9c9-37bc115c84a2"
      },
      "execution_count": 25,
      "outputs": [
        {
          "output_type": "execute_result",
          "data": {
            "text/plain": [
              "Frequency           object\n",
              "InstlmentMode       object\n",
              "LoanStatus          object\n",
              "PaymentMode         object\n",
              "BranchID             int64\n",
              "Area                object\n",
              "Tenure               int64\n",
              "AmountFinance      float64\n",
              "DisbursalAmount    float64\n",
              "EMI                float64\n",
              "LTV                float64\n",
              "Top-up ?            object\n",
              "SEX                 object\n",
              "AGE                float64\n",
              "MonthlyIncome      float64\n",
              "City                object\n",
              "State               object\n",
              "AssetCost            int64\n",
              "ManufacturerID       int64\n",
              "Disbursal_month      int64\n",
              "Maturity_month     float64\n",
              "dtype: object"
            ]
          },
          "metadata": {},
          "execution_count": 25
        }
      ]
    },
    {
      "cell_type": "markdown",
      "source": [
        "### Type Casting is required as some features are recognised as \"object\" datatype and ID Features are recognized as \"int\" datatype\n"
      ],
      "metadata": {
        "id": "VvN26Wping69"
      }
    },
    {
      "cell_type": "code",
      "source": [
        "df[cat_att]=df[cat_att].astype('category') # Coverting to appropriate data types  in train data"
      ],
      "metadata": {
        "id": "muZKLS3vndf-"
      },
      "execution_count": 26,
      "outputs": []
    },
    {
      "cell_type": "code",
      "source": [
        "final_test[cat_att]=final_test[cat_att].astype('category') # Coverting to appropriate data types in test data"
      ],
      "metadata": {
        "id": "AHeKHGTTzYhA"
      },
      "execution_count": 27,
      "outputs": []
    },
    {
      "cell_type": "code",
      "source": [
        "df.dtypes"
      ],
      "metadata": {
        "colab": {
          "base_uri": "https://localhost:8080/"
        },
        "id": "H5yc06cvDzX3",
        "outputId": "3becb22e-b5c9-46a4-9a4c-a5883032cfa2"
      },
      "execution_count": 28,
      "outputs": [
        {
          "output_type": "execute_result",
          "data": {
            "text/plain": [
              "Frequency          category\n",
              "InstlmentMode      category\n",
              "LoanStatus         category\n",
              "PaymentMode        category\n",
              "BranchID           category\n",
              "Area                 object\n",
              "Tenure                int64\n",
              "AmountFinance       float64\n",
              "DisbursalAmount     float64\n",
              "EMI                 float64\n",
              "LTV                 float64\n",
              "Top-up ?           category\n",
              "SEX                category\n",
              "AGE                 float64\n",
              "MonthlyIncome       float64\n",
              "City                 object\n",
              "State                object\n",
              "AssetCost             int64\n",
              "ManufacturerID     category\n",
              "Disbursal_month    category\n",
              "Maturity_month     category\n",
              "dtype: object"
            ]
          },
          "metadata": {},
          "execution_count": 28
        }
      ]
    },
    {
      "cell_type": "code",
      "source": [
        "# Clubbing the similar categories as a single catogery in train data\n",
        "df['PaymentMode'].replace(\"PDC\", 'Cheque',inplace = True) # PDC stands for Post-Dated Cheque\n",
        "df['PaymentMode'].replace(\"PDC_E\", 'Cheque',inplace = True) #  PDC_E might represent Post-Dated Cheque Encashed\n",
        "df['PaymentMode'].replace(\"PDC Reject\", 'Cheque',inplace = True) # PDC_reject indicates the rejection of post-dated cheques\n",
        "df['PaymentMode'].replace(\"ECS Reject\", 'ECS',inplace = True) # ECS_Reject represents the rejection of an ECS transaction"
      ],
      "metadata": {
        "id": "2J-WycFyHKH-"
      },
      "execution_count": 29,
      "outputs": []
    },
    {
      "cell_type": "code",
      "source": [
        "# Similarly clubbing the similar categories as a single catogery in test data\n",
        "final_test['PaymentMode'].replace(\"PDC\", 'Cheque',inplace = True)\n",
        "final_test['PaymentMode'].replace(\"PDC_E\", 'Cheque',inplace = True)\n",
        "final_test['PaymentMode'].replace(\"PDC Reject\", 'Cheque',inplace = True)\n",
        "final_test['PaymentMode'].replace(\"ECS Reject\", 'ECS',inplace = True)"
      ],
      "metadata": {
        "id": "aMM6VHDjH9nt"
      },
      "execution_count": 30,
      "outputs": []
    },
    {
      "cell_type": "code",
      "source": [
        "df.describe()"
      ],
      "metadata": {
        "colab": {
          "base_uri": "https://localhost:8080/",
          "height": 300
        },
        "id": "Z-AJEas1JpT4",
        "outputId": "4f884517-ad9e-4616-fa64-6bdaabaa31f0"
      },
      "execution_count": 31,
      "outputs": [
        {
          "output_type": "execute_result",
          "data": {
            "text/plain": [
              "             Tenure  AmountFinance  DisbursalAmount            EMI  \\\n",
              "count  69997.000000   6.999700e+04     6.999700e+04   69997.000000   \n",
              "mean      43.232981   3.374415e+05     3.369724e+05   50763.865483   \n",
              "std       26.618412   1.037650e+05     1.034112e+05   28585.043744   \n",
              "min        6.000000   5.000000e+04     4.063000e+03       0.000000   \n",
              "25%       35.000000   2.700000e+05     2.699000e+05   30000.000000   \n",
              "50%       36.000000   3.400000e+05     3.400000e+05   51900.000000   \n",
              "75%       48.000000   4.000000e+05     4.000000e+05   69097.000000   \n",
              "max      501.000000   1.300000e+06     1.300000e+06  450000.000000   \n",
              "\n",
              "                LTV           AGE  MonthlyIncome     AssetCost  \n",
              "count  69997.000000  69981.000000   6.987000e+04  6.999700e+04  \n",
              "mean      58.896453     39.959503   5.171740e+04  5.496028e+05  \n",
              "std       15.840288     11.561177   2.336861e+06  1.035599e+05  \n",
              "min       -1.380000     18.000000   0.000000e+00  2.000000e+05  \n",
              "25%       48.760000     31.000000   2.500000e+04  4.900000e+05  \n",
              "50%       60.750000     39.000000   3.333333e+04  5.500000e+05  \n",
              "75%       70.420000     48.000000   4.800000e+04  6.150000e+05  \n",
              "max      100.000000     90.000000   6.174775e+08  1.825000e+06  "
            ],
            "text/html": [
              "\n",
              "  <div id=\"df-51f1aac2-0e2a-499f-8be7-923f6ca71e70\">\n",
              "    <div class=\"colab-df-container\">\n",
              "      <div>\n",
              "<style scoped>\n",
              "    .dataframe tbody tr th:only-of-type {\n",
              "        vertical-align: middle;\n",
              "    }\n",
              "\n",
              "    .dataframe tbody tr th {\n",
              "        vertical-align: top;\n",
              "    }\n",
              "\n",
              "    .dataframe thead th {\n",
              "        text-align: right;\n",
              "    }\n",
              "</style>\n",
              "<table border=\"1\" class=\"dataframe\">\n",
              "  <thead>\n",
              "    <tr style=\"text-align: right;\">\n",
              "      <th></th>\n",
              "      <th>Tenure</th>\n",
              "      <th>AmountFinance</th>\n",
              "      <th>DisbursalAmount</th>\n",
              "      <th>EMI</th>\n",
              "      <th>LTV</th>\n",
              "      <th>AGE</th>\n",
              "      <th>MonthlyIncome</th>\n",
              "      <th>AssetCost</th>\n",
              "    </tr>\n",
              "  </thead>\n",
              "  <tbody>\n",
              "    <tr>\n",
              "      <th>count</th>\n",
              "      <td>69997.000000</td>\n",
              "      <td>6.999700e+04</td>\n",
              "      <td>6.999700e+04</td>\n",
              "      <td>69997.000000</td>\n",
              "      <td>69997.000000</td>\n",
              "      <td>69981.000000</td>\n",
              "      <td>6.987000e+04</td>\n",
              "      <td>6.999700e+04</td>\n",
              "    </tr>\n",
              "    <tr>\n",
              "      <th>mean</th>\n",
              "      <td>43.232981</td>\n",
              "      <td>3.374415e+05</td>\n",
              "      <td>3.369724e+05</td>\n",
              "      <td>50763.865483</td>\n",
              "      <td>58.896453</td>\n",
              "      <td>39.959503</td>\n",
              "      <td>5.171740e+04</td>\n",
              "      <td>5.496028e+05</td>\n",
              "    </tr>\n",
              "    <tr>\n",
              "      <th>std</th>\n",
              "      <td>26.618412</td>\n",
              "      <td>1.037650e+05</td>\n",
              "      <td>1.034112e+05</td>\n",
              "      <td>28585.043744</td>\n",
              "      <td>15.840288</td>\n",
              "      <td>11.561177</td>\n",
              "      <td>2.336861e+06</td>\n",
              "      <td>1.035599e+05</td>\n",
              "    </tr>\n",
              "    <tr>\n",
              "      <th>min</th>\n",
              "      <td>6.000000</td>\n",
              "      <td>5.000000e+04</td>\n",
              "      <td>4.063000e+03</td>\n",
              "      <td>0.000000</td>\n",
              "      <td>-1.380000</td>\n",
              "      <td>18.000000</td>\n",
              "      <td>0.000000e+00</td>\n",
              "      <td>2.000000e+05</td>\n",
              "    </tr>\n",
              "    <tr>\n",
              "      <th>25%</th>\n",
              "      <td>35.000000</td>\n",
              "      <td>2.700000e+05</td>\n",
              "      <td>2.699000e+05</td>\n",
              "      <td>30000.000000</td>\n",
              "      <td>48.760000</td>\n",
              "      <td>31.000000</td>\n",
              "      <td>2.500000e+04</td>\n",
              "      <td>4.900000e+05</td>\n",
              "    </tr>\n",
              "    <tr>\n",
              "      <th>50%</th>\n",
              "      <td>36.000000</td>\n",
              "      <td>3.400000e+05</td>\n",
              "      <td>3.400000e+05</td>\n",
              "      <td>51900.000000</td>\n",
              "      <td>60.750000</td>\n",
              "      <td>39.000000</td>\n",
              "      <td>3.333333e+04</td>\n",
              "      <td>5.500000e+05</td>\n",
              "    </tr>\n",
              "    <tr>\n",
              "      <th>75%</th>\n",
              "      <td>48.000000</td>\n",
              "      <td>4.000000e+05</td>\n",
              "      <td>4.000000e+05</td>\n",
              "      <td>69097.000000</td>\n",
              "      <td>70.420000</td>\n",
              "      <td>48.000000</td>\n",
              "      <td>4.800000e+04</td>\n",
              "      <td>6.150000e+05</td>\n",
              "    </tr>\n",
              "    <tr>\n",
              "      <th>max</th>\n",
              "      <td>501.000000</td>\n",
              "      <td>1.300000e+06</td>\n",
              "      <td>1.300000e+06</td>\n",
              "      <td>450000.000000</td>\n",
              "      <td>100.000000</td>\n",
              "      <td>90.000000</td>\n",
              "      <td>6.174775e+08</td>\n",
              "      <td>1.825000e+06</td>\n",
              "    </tr>\n",
              "  </tbody>\n",
              "</table>\n",
              "</div>\n",
              "      <button class=\"colab-df-convert\" onclick=\"convertToInteractive('df-51f1aac2-0e2a-499f-8be7-923f6ca71e70')\"\n",
              "              title=\"Convert this dataframe to an interactive table.\"\n",
              "              style=\"display:none;\">\n",
              "        \n",
              "  <svg xmlns=\"http://www.w3.org/2000/svg\" height=\"24px\"viewBox=\"0 0 24 24\"\n",
              "       width=\"24px\">\n",
              "    <path d=\"M0 0h24v24H0V0z\" fill=\"none\"/>\n",
              "    <path d=\"M18.56 5.44l.94 2.06.94-2.06 2.06-.94-2.06-.94-.94-2.06-.94 2.06-2.06.94zm-11 1L8.5 8.5l.94-2.06 2.06-.94-2.06-.94L8.5 2.5l-.94 2.06-2.06.94zm10 10l.94 2.06.94-2.06 2.06-.94-2.06-.94-.94-2.06-.94 2.06-2.06.94z\"/><path d=\"M17.41 7.96l-1.37-1.37c-.4-.4-.92-.59-1.43-.59-.52 0-1.04.2-1.43.59L10.3 9.45l-7.72 7.72c-.78.78-.78 2.05 0 2.83L4 21.41c.39.39.9.59 1.41.59.51 0 1.02-.2 1.41-.59l7.78-7.78 2.81-2.81c.8-.78.8-2.07 0-2.86zM5.41 20L4 18.59l7.72-7.72 1.47 1.35L5.41 20z\"/>\n",
              "  </svg>\n",
              "      </button>\n",
              "      \n",
              "  <style>\n",
              "    .colab-df-container {\n",
              "      display:flex;\n",
              "      flex-wrap:wrap;\n",
              "      gap: 12px;\n",
              "    }\n",
              "\n",
              "    .colab-df-convert {\n",
              "      background-color: #E8F0FE;\n",
              "      border: none;\n",
              "      border-radius: 50%;\n",
              "      cursor: pointer;\n",
              "      display: none;\n",
              "      fill: #1967D2;\n",
              "      height: 32px;\n",
              "      padding: 0 0 0 0;\n",
              "      width: 32px;\n",
              "    }\n",
              "\n",
              "    .colab-df-convert:hover {\n",
              "      background-color: #E2EBFA;\n",
              "      box-shadow: 0px 1px 2px rgba(60, 64, 67, 0.3), 0px 1px 3px 1px rgba(60, 64, 67, 0.15);\n",
              "      fill: #174EA6;\n",
              "    }\n",
              "\n",
              "    [theme=dark] .colab-df-convert {\n",
              "      background-color: #3B4455;\n",
              "      fill: #D2E3FC;\n",
              "    }\n",
              "\n",
              "    [theme=dark] .colab-df-convert:hover {\n",
              "      background-color: #434B5C;\n",
              "      box-shadow: 0px 1px 3px 1px rgba(0, 0, 0, 0.15);\n",
              "      filter: drop-shadow(0px 1px 2px rgba(0, 0, 0, 0.3));\n",
              "      fill: #FFFFFF;\n",
              "    }\n",
              "  </style>\n",
              "\n",
              "      <script>\n",
              "        const buttonEl =\n",
              "          document.querySelector('#df-51f1aac2-0e2a-499f-8be7-923f6ca71e70 button.colab-df-convert');\n",
              "        buttonEl.style.display =\n",
              "          google.colab.kernel.accessAllowed ? 'block' : 'none';\n",
              "\n",
              "        async function convertToInteractive(key) {\n",
              "          const element = document.querySelector('#df-51f1aac2-0e2a-499f-8be7-923f6ca71e70');\n",
              "          const dataTable =\n",
              "            await google.colab.kernel.invokeFunction('convertToInteractive',\n",
              "                                                     [key], {});\n",
              "          if (!dataTable) return;\n",
              "\n",
              "          const docLinkHtml = 'Like what you see? Visit the ' +\n",
              "            '<a target=\"_blank\" href=https://colab.research.google.com/notebooks/data_table.ipynb>data table notebook</a>'\n",
              "            + ' to learn more about interactive tables.';\n",
              "          element.innerHTML = '';\n",
              "          dataTable['output_type'] = 'display_data';\n",
              "          await google.colab.output.renderOutput(dataTable, element);\n",
              "          const docLink = document.createElement('div');\n",
              "          docLink.innerHTML = docLinkHtml;\n",
              "          element.appendChild(docLink);\n",
              "        }\n",
              "      </script>\n",
              "    </div>\n",
              "  </div>\n",
              "  "
            ]
          },
          "metadata": {},
          "execution_count": 31
        }
      ]
    },
    {
      "cell_type": "code",
      "source": [
        "df.describe(include='category')"
      ],
      "metadata": {
        "colab": {
          "base_uri": "https://localhost:8080/",
          "height": 175
        },
        "id": "Geh_jN8vJqF3",
        "outputId": "6476e6c2-c280-4622-8af2-19f1ce9ef84a"
      },
      "execution_count": 32,
      "outputs": [
        {
          "output_type": "execute_result",
          "data": {
            "text/plain": [
              "          Frequency InstlmentMode LoanStatus PaymentMode  BranchID   Top-up ?  \\\n",
              "count         69997         69997      69997       69997     69997      69997   \n",
              "unique            4             2          2           7       153          2   \n",
              "top     Half Yearly        Arrear     Closed      Cheque        24  Not-opted   \n",
              "freq          37168         66577      52027       23247      3268      59999   \n",
              "\n",
              "          SEX  ManufacturerID  Disbursal_month  Maturity_month  \n",
              "count   69981           69997            69997         69996.0  \n",
              "unique      2               9               12            12.0  \n",
              "top         M            1186                6             6.0  \n",
              "freq    67557           13999             8458         14531.0  "
            ],
            "text/html": [
              "\n",
              "  <div id=\"df-2da9ad79-6124-4c34-80cf-7ac36db7f745\">\n",
              "    <div class=\"colab-df-container\">\n",
              "      <div>\n",
              "<style scoped>\n",
              "    .dataframe tbody tr th:only-of-type {\n",
              "        vertical-align: middle;\n",
              "    }\n",
              "\n",
              "    .dataframe tbody tr th {\n",
              "        vertical-align: top;\n",
              "    }\n",
              "\n",
              "    .dataframe thead th {\n",
              "        text-align: right;\n",
              "    }\n",
              "</style>\n",
              "<table border=\"1\" class=\"dataframe\">\n",
              "  <thead>\n",
              "    <tr style=\"text-align: right;\">\n",
              "      <th></th>\n",
              "      <th>Frequency</th>\n",
              "      <th>InstlmentMode</th>\n",
              "      <th>LoanStatus</th>\n",
              "      <th>PaymentMode</th>\n",
              "      <th>BranchID</th>\n",
              "      <th>Top-up ?</th>\n",
              "      <th>SEX</th>\n",
              "      <th>ManufacturerID</th>\n",
              "      <th>Disbursal_month</th>\n",
              "      <th>Maturity_month</th>\n",
              "    </tr>\n",
              "  </thead>\n",
              "  <tbody>\n",
              "    <tr>\n",
              "      <th>count</th>\n",
              "      <td>69997</td>\n",
              "      <td>69997</td>\n",
              "      <td>69997</td>\n",
              "      <td>69997</td>\n",
              "      <td>69997</td>\n",
              "      <td>69997</td>\n",
              "      <td>69981</td>\n",
              "      <td>69997</td>\n",
              "      <td>69997</td>\n",
              "      <td>69996.0</td>\n",
              "    </tr>\n",
              "    <tr>\n",
              "      <th>unique</th>\n",
              "      <td>4</td>\n",
              "      <td>2</td>\n",
              "      <td>2</td>\n",
              "      <td>7</td>\n",
              "      <td>153</td>\n",
              "      <td>2</td>\n",
              "      <td>2</td>\n",
              "      <td>9</td>\n",
              "      <td>12</td>\n",
              "      <td>12.0</td>\n",
              "    </tr>\n",
              "    <tr>\n",
              "      <th>top</th>\n",
              "      <td>Half Yearly</td>\n",
              "      <td>Arrear</td>\n",
              "      <td>Closed</td>\n",
              "      <td>Cheque</td>\n",
              "      <td>24</td>\n",
              "      <td>Not-opted</td>\n",
              "      <td>M</td>\n",
              "      <td>1186</td>\n",
              "      <td>6</td>\n",
              "      <td>6.0</td>\n",
              "    </tr>\n",
              "    <tr>\n",
              "      <th>freq</th>\n",
              "      <td>37168</td>\n",
              "      <td>66577</td>\n",
              "      <td>52027</td>\n",
              "      <td>23247</td>\n",
              "      <td>3268</td>\n",
              "      <td>59999</td>\n",
              "      <td>67557</td>\n",
              "      <td>13999</td>\n",
              "      <td>8458</td>\n",
              "      <td>14531.0</td>\n",
              "    </tr>\n",
              "  </tbody>\n",
              "</table>\n",
              "</div>\n",
              "      <button class=\"colab-df-convert\" onclick=\"convertToInteractive('df-2da9ad79-6124-4c34-80cf-7ac36db7f745')\"\n",
              "              title=\"Convert this dataframe to an interactive table.\"\n",
              "              style=\"display:none;\">\n",
              "        \n",
              "  <svg xmlns=\"http://www.w3.org/2000/svg\" height=\"24px\"viewBox=\"0 0 24 24\"\n",
              "       width=\"24px\">\n",
              "    <path d=\"M0 0h24v24H0V0z\" fill=\"none\"/>\n",
              "    <path d=\"M18.56 5.44l.94 2.06.94-2.06 2.06-.94-2.06-.94-.94-2.06-.94 2.06-2.06.94zm-11 1L8.5 8.5l.94-2.06 2.06-.94-2.06-.94L8.5 2.5l-.94 2.06-2.06.94zm10 10l.94 2.06.94-2.06 2.06-.94-2.06-.94-.94-2.06-.94 2.06-2.06.94z\"/><path d=\"M17.41 7.96l-1.37-1.37c-.4-.4-.92-.59-1.43-.59-.52 0-1.04.2-1.43.59L10.3 9.45l-7.72 7.72c-.78.78-.78 2.05 0 2.83L4 21.41c.39.39.9.59 1.41.59.51 0 1.02-.2 1.41-.59l7.78-7.78 2.81-2.81c.8-.78.8-2.07 0-2.86zM5.41 20L4 18.59l7.72-7.72 1.47 1.35L5.41 20z\"/>\n",
              "  </svg>\n",
              "      </button>\n",
              "      \n",
              "  <style>\n",
              "    .colab-df-container {\n",
              "      display:flex;\n",
              "      flex-wrap:wrap;\n",
              "      gap: 12px;\n",
              "    }\n",
              "\n",
              "    .colab-df-convert {\n",
              "      background-color: #E8F0FE;\n",
              "      border: none;\n",
              "      border-radius: 50%;\n",
              "      cursor: pointer;\n",
              "      display: none;\n",
              "      fill: #1967D2;\n",
              "      height: 32px;\n",
              "      padding: 0 0 0 0;\n",
              "      width: 32px;\n",
              "    }\n",
              "\n",
              "    .colab-df-convert:hover {\n",
              "      background-color: #E2EBFA;\n",
              "      box-shadow: 0px 1px 2px rgba(60, 64, 67, 0.3), 0px 1px 3px 1px rgba(60, 64, 67, 0.15);\n",
              "      fill: #174EA6;\n",
              "    }\n",
              "\n",
              "    [theme=dark] .colab-df-convert {\n",
              "      background-color: #3B4455;\n",
              "      fill: #D2E3FC;\n",
              "    }\n",
              "\n",
              "    [theme=dark] .colab-df-convert:hover {\n",
              "      background-color: #434B5C;\n",
              "      box-shadow: 0px 1px 3px 1px rgba(0, 0, 0, 0.15);\n",
              "      filter: drop-shadow(0px 1px 2px rgba(0, 0, 0, 0.3));\n",
              "      fill: #FFFFFF;\n",
              "    }\n",
              "  </style>\n",
              "\n",
              "      <script>\n",
              "        const buttonEl =\n",
              "          document.querySelector('#df-2da9ad79-6124-4c34-80cf-7ac36db7f745 button.colab-df-convert');\n",
              "        buttonEl.style.display =\n",
              "          google.colab.kernel.accessAllowed ? 'block' : 'none';\n",
              "\n",
              "        async function convertToInteractive(key) {\n",
              "          const element = document.querySelector('#df-2da9ad79-6124-4c34-80cf-7ac36db7f745');\n",
              "          const dataTable =\n",
              "            await google.colab.kernel.invokeFunction('convertToInteractive',\n",
              "                                                     [key], {});\n",
              "          if (!dataTable) return;\n",
              "\n",
              "          const docLinkHtml = 'Like what you see? Visit the ' +\n",
              "            '<a target=\"_blank\" href=https://colab.research.google.com/notebooks/data_table.ipynb>data table notebook</a>'\n",
              "            + ' to learn more about interactive tables.';\n",
              "          element.innerHTML = '';\n",
              "          dataTable['output_type'] = 'display_data';\n",
              "          await google.colab.output.renderOutput(dataTable, element);\n",
              "          const docLink = document.createElement('div');\n",
              "          docLink.innerHTML = docLinkHtml;\n",
              "          element.appendChild(docLink);\n",
              "        }\n",
              "      </script>\n",
              "    </div>\n",
              "  </div>\n",
              "  "
            ]
          },
          "metadata": {},
          "execution_count": 32
        }
      ]
    },
    {
      "cell_type": "code",
      "source": [
        "df['InstlmentMode'].value_counts(normalize=100)*100"
      ],
      "metadata": {
        "colab": {
          "base_uri": "https://localhost:8080/"
        },
        "id": "zFhtn6K-NkyE",
        "outputId": "a10a4d4f-bd96-4439-df7e-565442b3df9a"
      },
      "execution_count": 33,
      "outputs": [
        {
          "output_type": "execute_result",
          "data": {
            "text/plain": [
              "Arrear     95.114076\n",
              "Advance     4.885924\n",
              "Name: InstlmentMode, dtype: float64"
            ]
          },
          "metadata": {},
          "execution_count": 33
        }
      ]
    },
    {
      "cell_type": "markdown",
      "source": [
        "## Observations\n",
        "\n",
        "* The target variable(Top up ?) is highly imbalanced we have to balance it while modeling or before modeling.\n",
        "\n",
        "* Female representatives are very low compared to male representetives.\n",
        "\n",
        "* The installment arrears are very high (95.11%).\n",
        "\n",
        "* There are some instances with Monthly Income as \"0\" and EMI with \"0\" which needed to be further checked\n",
        "\n",
        "* comparatively more Maturity and Disbursals are happen in june month.\n",
        "\n",
        "* Most of the Customers have opted for Half-yearly payment with Arrear type of EMIs\n",
        "\n",
        "* Numerical columns need to be standardize and categorical columns should be encoded with proper encoding techniques.\n",
        "\n",
        "* The mean of AGE and Tenure columns are 43.2 and 39.9 but the max values are very large it seems there outliers we need to process furtherly by avoiding the outliers or using some other techniques."
      ],
      "metadata": {
        "id": "FhY6i6DZL2q0"
      }
    },
    {
      "cell_type": "code",
      "source": [
        "sns.countplot(x=df['Top-up ?'])"
      ],
      "metadata": {
        "colab": {
          "base_uri": "https://localhost:8080/",
          "height": 466
        },
        "id": "uCK4kxCfJqCk",
        "outputId": "0de36839-4dfd-4676-cfb4-5143e4a00cac"
      },
      "execution_count": 34,
      "outputs": [
        {
          "output_type": "execute_result",
          "data": {
            "text/plain": [
              "<Axes: xlabel='Top-up ?', ylabel='count'>"
            ]
          },
          "metadata": {},
          "execution_count": 34
        },
        {
          "output_type": "display_data",
          "data": {
            "text/plain": [
              "<Figure size 640x480 with 1 Axes>"
            ],
            "image/png": "[encoded data removed]"
          },
          "metadata": {}
        }
      ]
    },
    {
      "cell_type": "markdown",
      "source": [
        "## Target variable is highly imbalanced with Not-opted percent 85.8% and Topup-opted percent 14.2%. It should be balanced by sampling in data level or use class_weight in model level."
      ],
      "metadata": {
        "id": "xjiRNYl_TeY8"
      }
    },
    {
      "cell_type": "code",
      "source": [
        "import warnings\n",
        "warnings.filterwarnings(\"ignore\")"
      ],
      "metadata": {
        "id": "on9XbGpqUxyk"
      },
      "execution_count": 35,
      "outputs": []
    },
    {
      "cell_type": "code",
      "source": [
        "fig=plt.figure(figsize = (15,10))\n",
        "\n",
        "for i in range(len(num_att)):\n",
        "  fig.add_subplot(3,3,i+1)\n",
        "  sns.distplot(df[num_att[i]],hist=True,kde=True)\n",
        "  #df[num_att[i]].plot(kind='density')\n",
        "  plt.title(num_att[i]+' '+'Distribution')\n",
        "  plt.xlabel(num_att[i])\n",
        "  plt.ylabel('Frequency')\n",
        "fig.tight_layout() \n",
        "plt.show()"
      ],
      "metadata": {
        "colab": {
          "base_uri": "https://localhost:8080/",
          "height": 1000
        },
        "id": "zmzT-UqbJpMt",
        "outputId": "1307f54e-489a-43c0-eb3e-a77ff924fff8"
      },
      "execution_count": 36,
      "outputs": [
        {
          "output_type": "display_data",
          "data": {
            "text/plain": [
              "<Figure size 1500x1000 with 8 Axes>"
            ],
            "image/png": "[encoded data removed]"
          },
          "metadata": {}
        }
      ]
    },
    {
      "cell_type": "code",
      "source": [
        "df[df['EMI']==0] "
      ],
      "metadata": {
        "colab": {
          "base_uri": "https://localhost:8080/",
          "height": 209
        },
        "id": "cRNxF7TIJo_8",
        "outputId": "20e861b8-5b81-4be2-e8c4-e202fd9b3d41"
      },
      "execution_count": 37,
      "outputs": [
        {
          "output_type": "execute_result",
          "data": {
            "text/plain": [
              "      Frequency InstlmentMode LoanStatus PaymentMode BranchID      Area  \\\n",
              "28261   Monthly        Arrear     Closed      Billed      263  MANDSAUR   \n",
              "\n",
              "       Tenure  AmountFinance  DisbursalAmount  EMI  ...   Top-up ? SEX   AGE  \\\n",
              "28261      45       400000.0         400000.0  0.0  ...  Not-opted   M  43.0   \n",
              "\n",
              "       MonthlyIncome      City           State AssetCost  ManufacturerID  \\\n",
              "28261       41666.67  MANDSAUR  MADHYA PRADESH    557000            1062   \n",
              "\n",
              "      Disbursal_month Maturity_month  \n",
              "28261               3            NaN  \n",
              "\n",
              "[1 rows x 21 columns]"
            ],
            "text/html": [
              "\n",
              "  <div id=\"df-9eadfdba-7c5d-4784-bcfa-905adb98658d\">\n",
              "    <div class=\"colab-df-container\">\n",
              "      <div>\n",
              "<style scoped>\n",
              "    .dataframe tbody tr th:only-of-type {\n",
              "        vertical-align: middle;\n",
              "    }\n",
              "\n",
              "    .dataframe tbody tr th {\n",
              "        vertical-align: top;\n",
              "    }\n",
              "\n",
              "    .dataframe thead th {\n",
              "        text-align: right;\n",
              "    }\n",
              "</style>\n",
              "<table border=\"1\" class=\"dataframe\">\n",
              "  <thead>\n",
              "    <tr style=\"text-align: right;\">\n",
              "      <th></th>\n",
              "      <th>Frequency</th>\n",
              "      <th>InstlmentMode</th>\n",
              "      <th>LoanStatus</th>\n",
              "      <th>PaymentMode</th>\n",
              "      <th>BranchID</th>\n",
              "      <th>Area</th>\n",
              "      <th>Tenure</th>\n",
              "      <th>AmountFinance</th>\n",
              "      <th>DisbursalAmount</th>\n",
              "      <th>EMI</th>\n",
              "      <th>...</th>\n",
              "      <th>Top-up ?</th>\n",
              "      <th>SEX</th>\n",
              "      <th>AGE</th>\n",
              "      <th>MonthlyIncome</th>\n",
              "      <th>City</th>\n",
              "      <th>State</th>\n",
              "      <th>AssetCost</th>\n",
              "      <th>ManufacturerID</th>\n",
              "      <th>Disbursal_month</th>\n",
              "      <th>Maturity_month</th>\n",
              "    </tr>\n",
              "  </thead>\n",
              "  <tbody>\n",
              "    <tr>\n",
              "      <th>28261</th>\n",
              "      <td>Monthly</td>\n",
              "      <td>Arrear</td>\n",
              "      <td>Closed</td>\n",
              "      <td>Billed</td>\n",
              "      <td>263</td>\n",
              "      <td>MANDSAUR</td>\n",
              "      <td>45</td>\n",
              "      <td>400000.0</td>\n",
              "      <td>400000.0</td>\n",
              "      <td>0.0</td>\n",
              "      <td>...</td>\n",
              "      <td>Not-opted</td>\n",
              "      <td>M</td>\n",
              "      <td>43.0</td>\n",
              "      <td>41666.67</td>\n",
              "      <td>MANDSAUR</td>\n",
              "      <td>MADHYA PRADESH</td>\n",
              "      <td>557000</td>\n",
              "      <td>1062</td>\n",
              "      <td>3</td>\n",
              "      <td>NaN</td>\n",
              "    </tr>\n",
              "  </tbody>\n",
              "</table>\n",
              "<p>1 rows × 21 columns</p>\n",
              "</div>\n",
              "      <button class=\"colab-df-convert\" onclick=\"convertToInteractive('df-9eadfdba-7c5d-4784-bcfa-905adb98658d')\"\n",
              "              title=\"Convert this dataframe to an interactive table.\"\n",
              "              style=\"display:none;\">\n",
              "        \n",
              "  <svg xmlns=\"http://www.w3.org/2000/svg\" height=\"24px\"viewBox=\"0 0 24 24\"\n",
              "       width=\"24px\">\n",
              "    <path d=\"M0 0h24v24H0V0z\" fill=\"none\"/>\n",
              "    <path d=\"M18.56 5.44l.94 2.06.94-2.06 2.06-.94-2.06-.94-.94-2.06-.94 2.06-2.06.94zm-11 1L8.5 8.5l.94-2.06 2.06-.94-2.06-.94L8.5 2.5l-.94 2.06-2.06.94zm10 10l.94 2.06.94-2.06 2.06-.94-2.06-.94-.94-2.06-.94 2.06-2.06.94z\"/><path d=\"M17.41 7.96l-1.37-1.37c-.4-.4-.92-.59-1.43-.59-.52 0-1.04.2-1.43.59L10.3 9.45l-7.72 7.72c-.78.78-.78 2.05 0 2.83L4 21.41c.39.39.9.59 1.41.59.51 0 1.02-.2 1.41-.59l7.78-7.78 2.81-2.81c.8-.78.8-2.07 0-2.86zM5.41 20L4 18.59l7.72-7.72 1.47 1.35L5.41 20z\"/>\n",
              "  </svg>\n",
              "      </button>\n",
              "      \n",
              "  <style>\n",
              "    .colab-df-container {\n",
              "      display:flex;\n",
              "      flex-wrap:wrap;\n",
              "      gap: 12px;\n",
              "    }\n",
              "\n",
              "    .colab-df-convert {\n",
              "      background-color: #E8F0FE;\n",
              "      border: none;\n",
              "      border-radius: 50%;\n",
              "      cursor: pointer;\n",
              "      display: none;\n",
              "      fill: #1967D2;\n",
              "      height: 32px;\n",
              "      padding: 0 0 0 0;\n",
              "      width: 32px;\n",
              "    }\n",
              "\n",
              "    .colab-df-convert:hover {\n",
              "      background-color: #E2EBFA;\n",
              "      box-shadow: 0px 1px 2px rgba(60, 64, 67, 0.3), 0px 1px 3px 1px rgba(60, 64, 67, 0.15);\n",
              "      fill: #174EA6;\n",
              "    }\n",
              "\n",
              "    [theme=dark] .colab-df-convert {\n",
              "      background-color: #3B4455;\n",
              "      fill: #D2E3FC;\n",
              "    }\n",
              "\n",
              "    [theme=dark] .colab-df-convert:hover {\n",
              "      background-color: #434B5C;\n",
              "      box-shadow: 0px 1px 3px 1px rgba(0, 0, 0, 0.15);\n",
              "      filter: drop-shadow(0px 1px 2px rgba(0, 0, 0, 0.3));\n",
              "      fill: #FFFFFF;\n",
              "    }\n",
              "  </style>\n",
              "\n",
              "      <script>\n",
              "        const buttonEl =\n",
              "          document.querySelector('#df-9eadfdba-7c5d-4784-bcfa-905adb98658d button.colab-df-convert');\n",
              "        buttonEl.style.display =\n",
              "          google.colab.kernel.accessAllowed ? 'block' : 'none';\n",
              "\n",
              "        async function convertToInteractive(key) {\n",
              "          const element = document.querySelector('#df-9eadfdba-7c5d-4784-bcfa-905adb98658d');\n",
              "          const dataTable =\n",
              "            await google.colab.kernel.invokeFunction('convertToInteractive',\n",
              "                                                     [key], {});\n",
              "          if (!dataTable) return;\n",
              "\n",
              "          const docLinkHtml = 'Like what you see? Visit the ' +\n",
              "            '<a target=\"_blank\" href=https://colab.research.google.com/notebooks/data_table.ipynb>data table notebook</a>'\n",
              "            + ' to learn more about interactive tables.';\n",
              "          element.innerHTML = '';\n",
              "          dataTable['output_type'] = 'display_data';\n",
              "          await google.colab.output.renderOutput(dataTable, element);\n",
              "          const docLink = document.createElement('div');\n",
              "          docLink.innerHTML = docLinkHtml;\n",
              "          element.appendChild(docLink);\n",
              "        }\n",
              "      </script>\n",
              "    </div>\n",
              "  </div>\n",
              "  "
            ]
          },
          "metadata": {},
          "execution_count": 37
        }
      ]
    },
    {
      "cell_type": "markdown",
      "source": [
        "##  EMI column has one '0' and aslo there is null value in maturity_month in this row."
      ],
      "metadata": {
        "id": "VqcZqkqmVxrE"
      }
    },
    {
      "cell_type": "code",
      "source": [
        "df.drop(28261,axis=0,inplace=True) # Droping the row"
      ],
      "metadata": {
        "id": "ydm_eDFYJoth"
      },
      "execution_count": 38,
      "outputs": []
    },
    {
      "cell_type": "code",
      "source": [
        "corr = df[num_att].corr()\n",
        "sns.heatmap(corr, cmap=\"Blues\", annot=True).set_title('Correlation Heatmap for numerical variables')"
      ],
      "metadata": {
        "colab": {
          "base_uri": "https://localhost:8080/",
          "height": 574
        },
        "id": "Fp3Mg-QUS31o",
        "outputId": "79e314b3-dfa5-44d1-cb01-9de12032457b"
      },
      "execution_count": 39,
      "outputs": [
        {
          "output_type": "execute_result",
          "data": {
            "text/plain": [
              "Text(0.5, 1.0, 'Correlation Heatmap for numerical variables')"
            ]
          },
          "metadata": {},
          "execution_count": 39
        },
        {
          "output_type": "display_data",
          "data": {
            "text/plain": [
              "<Figure size 640x480 with 2 Axes>"
            ],
            "image/png": "[encoded data removed]"
          },
          "metadata": {}
        }
      ]
    },
    {
      "cell_type": "markdown",
      "source": [
        "## Disbursal Amount and Amount Finance have good correlation. It is good to do regularization."
      ],
      "metadata": {
        "id": "rgPPs0odWPYF"
      }
    },
    {
      "cell_type": "code",
      "source": [
        "plt.figure(figsize = (20,5))\n",
        "sns.boxplot(y=df['Top-up ?'],x=df['AGE'])"
      ],
      "metadata": {
        "id": "Tjjyn9B2zxIU",
        "colab": {
          "base_uri": "https://localhost:8080/",
          "height": 482
        },
        "outputId": "f5297692-f223-4f4b-ece9-6c434bb1ca94"
      },
      "execution_count": 40,
      "outputs": [
        {
          "output_type": "execute_result",
          "data": {
            "text/plain": [
              "<Axes: xlabel='AGE', ylabel='Top-up ?'>"
            ]
          },
          "metadata": {},
          "execution_count": 40
        },
        {
          "output_type": "display_data",
          "data": {
            "text/plain": [
              "<Figure size 2000x500 with 1 Axes>"
            ],
            "image/png": "[encoded data removed]"
          },
          "metadata": {}
        }
      ]
    },
    {
      "cell_type": "code",
      "source": [
        "df[df['Top-up ?']=='Topup-opted']['AGE'].describe()"
      ],
      "metadata": {
        "colab": {
          "base_uri": "https://localhost:8080/"
        },
        "id": "Lh-WCi_WYAqm",
        "outputId": "04240119-f132-46f8-c228-f3163bac7d4d"
      },
      "execution_count": 41,
      "outputs": [
        {
          "output_type": "execute_result",
          "data": {
            "text/plain": [
              "count    9996.000000\n",
              "mean       39.776611\n",
              "std        11.239367\n",
              "min        18.000000\n",
              "25%        31.000000\n",
              "50%        39.000000\n",
              "75%        47.000000\n",
              "max        90.000000\n",
              "Name: AGE, dtype: float64"
            ]
          },
          "metadata": {},
          "execution_count": 41
        }
      ]
    },
    {
      "cell_type": "markdown",
      "source": [
        "## Topup-opted people are dense in the range of 31-47 age group."
      ],
      "metadata": {
        "id": "51TxLBUmYrMe"
      }
    },
    {
      "cell_type": "code",
      "source": [
        "plt.figure(figsize=(25,10))\n",
        "sns.countplot(x='PaymentMode',data=df)\n",
        "plt.title('Countplot for Payment Mode and Frequency of Payment')\n",
        "plt.show()"
      ],
      "metadata": {
        "colab": {
          "base_uri": "https://localhost:8080/",
          "height": 774
        },
        "id": "WflMryaqYQZJ",
        "outputId": "cace7b0a-bafd-4a3c-db2a-b27cd18abb24"
      },
      "execution_count": 42,
      "outputs": [
        {
          "output_type": "display_data",
          "data": {
            "text/plain": [
              "<Figure size 2500x1000 with 1 Axes>"
            ],
            "image/png": "[encoded data removed]"
          },
          "metadata": {}
        }
      ]
    },
    {
      "cell_type": "markdown",
      "source": [
        "## Most most number of payments done through check.Payments through Auto Debit and SI Reject are very low and through Escrow is almost neglegible."
      ],
      "metadata": {
        "id": "9pmX90d_ZaP_"
      }
    },
    {
      "cell_type": "code",
      "source": [
        "sns.countplot(x=df.ManufacturerID, palette='rainbow',hue=df['Top-up ?'],order=df['ManufacturerID'].value_counts().index)\n",
        "plt.title(\"Count of Customers availing top_up laon for these Manufacturer's Products\")"
      ],
      "metadata": {
        "colab": {
          "base_uri": "https://localhost:8080/",
          "height": 489
        },
        "id": "QBV0CJOSY6nO",
        "outputId": "20417268-251a-4457-97a5-d24ae974a274"
      },
      "execution_count": 47,
      "outputs": [
        {
          "output_type": "execute_result",
          "data": {
            "text/plain": [
              "Text(0.5, 1.0, \"Count of Customers availing top_up laon for these Manufacturer's Products\")"
            ]
          },
          "metadata": {},
          "execution_count": 47
        },
        {
          "output_type": "display_data",
          "data": {
            "text/plain": [
              "<Figure size 640x480 with 1 Axes>"
            ],
            "image/png": "[encoded data removed]"
          },
          "metadata": {}
        }
      ]
    },
    {
      "cell_type": "markdown",
      "source": [
        "##  The products of manufacturerID 3473 and 2608 did not have much impact on the top_up loan opting by the customers."
      ],
      "metadata": {
        "id": "mdiKCEmN_eq6"
      }
    },
    {
      "cell_type": "code",
      "source": [
        "plt.figure(figsize = (20,8))\n",
        "sns.countplot(x=df['Maturity_month'],hue = df['Top-up ?'],order = df['Maturity_month'].value_counts().index)"
      ],
      "metadata": {
        "colab": {
          "base_uri": "https://localhost:8080/",
          "height": 713
        },
        "id": "cpD4JulhY6H1",
        "outputId": "4f012b8d-4349-479e-acd1-941d588a5577"
      },
      "execution_count": 52,
      "outputs": [
        {
          "output_type": "execute_result",
          "data": {
            "text/plain": [
              "<Axes: xlabel='Maturity_month', ylabel='count'>"
            ]
          },
          "metadata": {},
          "execution_count": 52
        },
        {
          "output_type": "display_data",
          "data": {
            "text/plain": [
              "<Figure size 2000x800 with 1 Axes>"
            ],
            "image/png": "[encoded data removed]"
          },
          "metadata": {}
        }
      ]
    },
    {
      "cell_type": "code",
      "source": [
        "df['Maturity_month'].value_counts(normalize=True)*100"
      ],
      "metadata": {
        "colab": {
          "base_uri": "https://localhost:8080/"
        },
        "id": "-bzm1msZB_cE",
        "outputId": "01fbca9a-a733-42dc-9963-0e7f36cdbf38"
      },
      "execution_count": 54,
      "outputs": [
        {
          "output_type": "execute_result",
          "data": {
            "text/plain": [
              "6.0     20.759758\n",
              "12.0    16.848106\n",
              "11.0     9.184811\n",
              "5.0      9.053374\n",
              "7.0      8.500486\n",
              "1.0      7.566147\n",
              "10.0     5.778902\n",
              "2.0      5.087434\n",
              "4.0      4.731699\n",
              "3.0      4.431682\n",
              "8.0      4.210241\n",
              "9.0      3.847363\n",
              "Name: Maturity_month, dtype: float64"
            ]
          },
          "metadata": {},
          "execution_count": 54
        }
      ]
    },
    {
      "cell_type": "code",
      "source": [
        "df[df['Top-up ?']=='Topup-opted']['Maturity_month'].value_counts(normalize=True)*100"
      ],
      "metadata": {
        "colab": {
          "base_uri": "https://localhost:8080/"
        },
        "id": "3NfHrPgQY6EY",
        "outputId": "79ca03fb-6e97-40e6-8b1b-5f9e77b5ec6e"
      },
      "execution_count": 53,
      "outputs": [
        {
          "output_type": "execute_result",
          "data": {
            "text/plain": [
              "6.0     22.104421\n",
              "12.0    18.363673\n",
              "11.0     9.281856\n",
              "5.0      8.861772\n",
              "7.0      8.261652\n",
              "1.0      7.341468\n",
              "10.0     5.311062\n",
              "2.0      4.680936\n",
              "4.0      4.120824\n",
              "3.0      4.050810\n",
              "8.0      3.950790\n",
              "9.0      3.670734\n",
              "Name: Maturity_month, dtype: float64"
            ]
          },
          "metadata": {},
          "execution_count": 53
        }
      ]
    },
    {
      "cell_type": "markdown",
      "source": [
        "## Nearly 60% of bussiness is happen in 5th,6th,11th and 12th months only.Almost Topup-loan opted customers also follows the same proportion.Comparatively in june highest bussiness(around 22%) is happening."
      ],
      "metadata": {
        "id": "plfTjmy6Bxi8"
      }
    },
    {
      "cell_type": "code",
      "source": [
        "df[df['MonthlyIncome']==6.174775e+08]"
      ],
      "metadata": {
        "colab": {
          "base_uri": "https://localhost:8080/",
          "height": 209
        },
        "id": "ZGLl9bI4Y6A-",
        "outputId": "784583d2-c980-457b-a0bb-5c6023209f2c"
      },
      "execution_count": 55,
      "outputs": [
        {
          "output_type": "execute_result",
          "data": {
            "text/plain": [
              "      Frequency InstlmentMode LoanStatus PaymentMode BranchID     Area  \\\n",
              "42656   Quatrly        Arrear     Active         ECS      273  LUCKNOW   \n",
              "\n",
              "       Tenure  AmountFinance  DisbursalAmount      EMI  ...   Top-up ? SEX  \\\n",
              "42656      42       320000.0         320000.0  34600.0  ...  Not-opted   M   \n",
              "\n",
              "        AGE  MonthlyIncome       City          State AssetCost  \\\n",
              "42656  20.0    617477500.0  MORADABAD  UTTAR PRADESH    498396   \n",
              "\n",
              "       ManufacturerID Disbursal_month Maturity_month  \n",
              "42656            1568               1            7.0  \n",
              "\n",
              "[1 rows x 21 columns]"
            ],
            "text/html": [
              "\n",
              "  <div id=\"df-916ccbc9-d709-4e76-986a-bc10f061bc9d\">\n",
              "    <div class=\"colab-df-container\">\n",
              "      <div>\n",
              "<style scoped>\n",
              "    .dataframe tbody tr th:only-of-type {\n",
              "        vertical-align: middle;\n",
              "    }\n",
              "\n",
              "    .dataframe tbody tr th {\n",
              "        vertical-align: top;\n",
              "    }\n",
              "\n",
              "    .dataframe thead th {\n",
              "        text-align: right;\n",
              "    }\n",
              "</style>\n",
              "<table border=\"1\" class=\"dataframe\">\n",
              "  <thead>\n",
              "    <tr style=\"text-align: right;\">\n",
              "      <th></th>\n",
              "      <th>Frequency</th>\n",
              "      <th>InstlmentMode</th>\n",
              "      <th>LoanStatus</th>\n",
              "      <th>PaymentMode</th>\n",
              "      <th>BranchID</th>\n",
              "      <th>Area</th>\n",
              "      <th>Tenure</th>\n",
              "      <th>AmountFinance</th>\n",
              "      <th>DisbursalAmount</th>\n",
              "      <th>EMI</th>\n",
              "      <th>...</th>\n",
              "      <th>Top-up ?</th>\n",
              "      <th>SEX</th>\n",
              "      <th>AGE</th>\n",
              "      <th>MonthlyIncome</th>\n",
              "      <th>City</th>\n",
              "      <th>State</th>\n",
              "      <th>AssetCost</th>\n",
              "      <th>ManufacturerID</th>\n",
              "      <th>Disbursal_month</th>\n",
              "      <th>Maturity_month</th>\n",
              "    </tr>\n",
              "  </thead>\n",
              "  <tbody>\n",
              "    <tr>\n",
              "      <th>42656</th>\n",
              "      <td>Quatrly</td>\n",
              "      <td>Arrear</td>\n",
              "      <td>Active</td>\n",
              "      <td>ECS</td>\n",
              "      <td>273</td>\n",
              "      <td>LUCKNOW</td>\n",
              "      <td>42</td>\n",
              "      <td>320000.0</td>\n",
              "      <td>320000.0</td>\n",
              "      <td>34600.0</td>\n",
              "      <td>...</td>\n",
              "      <td>Not-opted</td>\n",
              "      <td>M</td>\n",
              "      <td>20.0</td>\n",
              "      <td>617477500.0</td>\n",
              "      <td>MORADABAD</td>\n",
              "      <td>UTTAR PRADESH</td>\n",
              "      <td>498396</td>\n",
              "      <td>1568</td>\n",
              "      <td>1</td>\n",
              "      <td>7.0</td>\n",
              "    </tr>\n",
              "  </tbody>\n",
              "</table>\n",
              "<p>1 rows × 21 columns</p>\n",
              "</div>\n",
              "      <button class=\"colab-df-convert\" onclick=\"convertToInteractive('df-916ccbc9-d709-4e76-986a-bc10f061bc9d')\"\n",
              "              title=\"Convert this dataframe to an interactive table.\"\n",
              "              style=\"display:none;\">\n",
              "        \n",
              "  <svg xmlns=\"http://www.w3.org/2000/svg\" height=\"24px\"viewBox=\"0 0 24 24\"\n",
              "       width=\"24px\">\n",
              "    <path d=\"M0 0h24v24H0V0z\" fill=\"none\"/>\n",
              "    <path d=\"M18.56 5.44l.94 2.06.94-2.06 2.06-.94-2.06-.94-.94-2.06-.94 2.06-2.06.94zm-11 1L8.5 8.5l.94-2.06 2.06-.94-2.06-.94L8.5 2.5l-.94 2.06-2.06.94zm10 10l.94 2.06.94-2.06 2.06-.94-2.06-.94-.94-2.06-.94 2.06-2.06.94z\"/><path d=\"M17.41 7.96l-1.37-1.37c-.4-.4-.92-.59-1.43-.59-.52 0-1.04.2-1.43.59L10.3 9.45l-7.72 7.72c-.78.78-.78 2.05 0 2.83L4 21.41c.39.39.9.59 1.41.59.51 0 1.02-.2 1.41-.59l7.78-7.78 2.81-2.81c.8-.78.8-2.07 0-2.86zM5.41 20L4 18.59l7.72-7.72 1.47 1.35L5.41 20z\"/>\n",
              "  </svg>\n",
              "      </button>\n",
              "      \n",
              "  <style>\n",
              "    .colab-df-container {\n",
              "      display:flex;\n",
              "      flex-wrap:wrap;\n",
              "      gap: 12px;\n",
              "    }\n",
              "\n",
              "    .colab-df-convert {\n",
              "      background-color: #E8F0FE;\n",
              "      border: none;\n",
              "      border-radius: 50%;\n",
              "      cursor: pointer;\n",
              "      display: none;\n",
              "      fill: #1967D2;\n",
              "      height: 32px;\n",
              "      padding: 0 0 0 0;\n",
              "      width: 32px;\n",
              "    }\n",
              "\n",
              "    .colab-df-convert:hover {\n",
              "      background-color: #E2EBFA;\n",
              "      box-shadow: 0px 1px 2px rgba(60, 64, 67, 0.3), 0px 1px 3px 1px rgba(60, 64, 67, 0.15);\n",
              "      fill: #174EA6;\n",
              "    }\n",
              "\n",
              "    [theme=dark] .colab-df-convert {\n",
              "      background-color: #3B4455;\n",
              "      fill: #D2E3FC;\n",
              "    }\n",
              "\n",
              "    [theme=dark] .colab-df-convert:hover {\n",
              "      background-color: #434B5C;\n",
              "      box-shadow: 0px 1px 3px 1px rgba(0, 0, 0, 0.15);\n",
              "      filter: drop-shadow(0px 1px 2px rgba(0, 0, 0, 0.3));\n",
              "      fill: #FFFFFF;\n",
              "    }\n",
              "  </style>\n",
              "\n",
              "      <script>\n",
              "        const buttonEl =\n",
              "          document.querySelector('#df-916ccbc9-d709-4e76-986a-bc10f061bc9d button.colab-df-convert');\n",
              "        buttonEl.style.display =\n",
              "          google.colab.kernel.accessAllowed ? 'block' : 'none';\n",
              "\n",
              "        async function convertToInteractive(key) {\n",
              "          const element = document.querySelector('#df-916ccbc9-d709-4e76-986a-bc10f061bc9d');\n",
              "          const dataTable =\n",
              "            await google.colab.kernel.invokeFunction('convertToInteractive',\n",
              "                                                     [key], {});\n",
              "          if (!dataTable) return;\n",
              "\n",
              "          const docLinkHtml = 'Like what you see? Visit the ' +\n",
              "            '<a target=\"_blank\" href=https://colab.research.google.com/notebooks/data_table.ipynb>data table notebook</a>'\n",
              "            + ' to learn more about interactive tables.';\n",
              "          element.innerHTML = '';\n",
              "          dataTable['output_type'] = 'display_data';\n",
              "          await google.colab.output.renderOutput(dataTable, element);\n",
              "          const docLink = document.createElement('div');\n",
              "          docLink.innerHTML = docLinkHtml;\n",
              "          element.appendChild(docLink);\n",
              "        }\n",
              "      </script>\n",
              "    </div>\n",
              "  </div>\n",
              "  "
            ]
          },
          "metadata": {},
          "execution_count": 55
        }
      ]
    },
    {
      "cell_type": "code",
      "source": [
        "df.drop(42656,axis=0,inplace=True)"
      ],
      "metadata": {
        "id": "OlX99SEyYQUZ"
      },
      "execution_count": 56,
      "outputs": []
    },
    {
      "cell_type": "code",
      "source": [
        "sns.distplot(df['MonthlyIncome'],hist=True,kde=True)"
      ],
      "metadata": {
        "colab": {
          "base_uri": "https://localhost:8080/",
          "height": 482
        },
        "id": "P-wbfXOpEdKJ",
        "outputId": "098cb222-cfbb-4519-9a25-06a5d9c4fe46"
      },
      "execution_count": 57,
      "outputs": [
        {
          "output_type": "execute_result",
          "data": {
            "text/plain": [
              "<Axes: xlabel='MonthlyIncome', ylabel='Density'>"
            ]
          },
          "metadata": {},
          "execution_count": 57
        },
        {
          "output_type": "display_data",
          "data": {
            "text/plain": [
              "<Figure size 640x480 with 1 Axes>"
            ],
            "image/png": "[encoded data removed]"
          },
          "metadata": {}
        }
      ]
    },
    {
      "cell_type": "markdown",
      "source": [
        "## Before the x-axis scale le8 after droping the record 42656 it comes le6."
      ],
      "metadata": {
        "id": "1vQuKAj4E4_n"
      }
    },
    {
      "cell_type": "code",
      "source": [
        "df.rename(columns = {'Top-up ?':'Top_up'}, inplace = True)"
      ],
      "metadata": {
        "id": "2yghiJAe6BY8"
      },
      "execution_count": 58,
      "outputs": []
    },
    {
      "cell_type": "code",
      "source": [
        "final_test.rename(columns = {'Top-up ?':'Top_up'}, inplace = True)"
      ],
      "metadata": {
        "id": "CJUUl-oh6Gjo"
      },
      "execution_count": 59,
      "outputs": []
    },
    {
      "cell_type": "code",
      "source": [
        "df['Top_up'] = df['Top_up'].map({'Not-opted':0,'Topup-opted':1})"
      ],
      "metadata": {
        "id": "-YNkS8rc53WX"
      },
      "execution_count": 60,
      "outputs": []
    },
    {
      "cell_type": "code",
      "source": [
        "final_test['Top_up'] = final_test['Top_up'].map({'Not-opted':0,'Topup-opted':1})"
      ],
      "metadata": {
        "id": "3Ps3GBC46NuU"
      },
      "execution_count": 61,
      "outputs": []
    },
    {
      "cell_type": "code",
      "source": [
        "df.nunique()"
      ],
      "metadata": {
        "colab": {
          "base_uri": "https://localhost:8080/"
        },
        "id": "PwMnGrnSno5I",
        "outputId": "9f716664-76c8-4e4e-c0f4-b0ea97f305a8"
      },
      "execution_count": 62,
      "outputs": [
        {
          "output_type": "execute_result",
          "data": {
            "text/plain": [
              "Frequency              4\n",
              "InstlmentMode          2\n",
              "LoanStatus             2\n",
              "PaymentMode            7\n",
              "BranchID             153\n",
              "Area                  75\n",
              "Tenure               137\n",
              "AmountFinance      10769\n",
              "DisbursalAmount    10011\n",
              "EMI                13599\n",
              "LTV                 7438\n",
              "Top_up                 2\n",
              "SEX                    2\n",
              "AGE                   73\n",
              "MonthlyIncome       8968\n",
              "City                 403\n",
              "State                 16\n",
              "AssetCost           4849\n",
              "ManufacturerID         9\n",
              "Disbursal_month       12\n",
              "Maturity_month        12\n",
              "dtype: int64"
            ]
          },
          "metadata": {},
          "execution_count": 62
        }
      ]
    },
    {
      "cell_type": "code",
      "source": [
        "df.isnull().sum() # Checking the null values"
      ],
      "metadata": {
        "colab": {
          "base_uri": "https://localhost:8080/"
        },
        "id": "FY2hke7kntCZ",
        "outputId": "39bc1e2d-4b63-4f3d-fe03-baa3db825d43"
      },
      "execution_count": 63,
      "outputs": [
        {
          "output_type": "execute_result",
          "data": {
            "text/plain": [
              "Frequency             0\n",
              "InstlmentMode         0\n",
              "LoanStatus            0\n",
              "PaymentMode           0\n",
              "BranchID              0\n",
              "Area               8661\n",
              "Tenure                0\n",
              "AmountFinance         0\n",
              "DisbursalAmount       0\n",
              "EMI                   0\n",
              "LTV                   0\n",
              "Top_up                0\n",
              "SEX                  16\n",
              "AGE                  16\n",
              "MonthlyIncome       127\n",
              "City               6581\n",
              "State                 0\n",
              "AssetCost             0\n",
              "ManufacturerID        0\n",
              "Disbursal_month       0\n",
              "Maturity_month        0\n",
              "dtype: int64"
            ]
          },
          "metadata": {},
          "execution_count": 63
        }
      ]
    },
    {
      "cell_type": "code",
      "source": [
        "df.duplicated().sum() # Checking for the duplicated values "
      ],
      "metadata": {
        "colab": {
          "base_uri": "https://localhost:8080/"
        },
        "id": "KKI_nDL1n_SN",
        "outputId": "6e280c71-a829-46b8-83f7-4fc344e4c721"
      },
      "execution_count": 64,
      "outputs": [
        {
          "output_type": "execute_result",
          "data": {
            "text/plain": [
              "1"
            ]
          },
          "metadata": {},
          "execution_count": 64
        }
      ]
    },
    {
      "cell_type": "code",
      "source": [
        "df.drop_duplicates(inplace=True)"
      ],
      "metadata": {
        "id": "AlxraoDq5wzs"
      },
      "execution_count": 65,
      "outputs": []
    },
    {
      "cell_type": "code",
      "source": [
        "df.duplicated().sum()"
      ],
      "metadata": {
        "colab": {
          "base_uri": "https://localhost:8080/"
        },
        "id": "Qlso4O0W521c",
        "outputId": "7f1a06e1-edcb-442f-bda3-6cc05ce2b928"
      },
      "execution_count": 66,
      "outputs": [
        {
          "output_type": "execute_result",
          "data": {
            "text/plain": [
              "0"
            ]
          },
          "metadata": {},
          "execution_count": 66
        }
      ]
    },
    {
      "cell_type": "markdown",
      "source": [
        "### There are no duplicated values."
      ],
      "metadata": {
        "id": "59rb2Y-XocQ8"
      }
    },
    {
      "cell_type": "code",
      "source": [
        "df.head()"
      ],
      "metadata": {
        "colab": {
          "base_uri": "https://localhost:8080/",
          "height": 352
        },
        "id": "ZQnMaHtC8EtZ",
        "outputId": "f9ad0887-7c7b-46a7-ec07-a753704da3f8"
      },
      "execution_count": 67,
      "outputs": [
        {
          "output_type": "execute_result",
          "data": {
            "text/plain": [
              "     Frequency InstlmentMode LoanStatus   PaymentMode BranchID      Area  \\\n",
              "0      Quatrly        Arrear     Active  Direct Debit      272   LUCKNOW   \n",
              "1  Half Yearly        Arrear     Active           ECS      326  MANDSAUR   \n",
              "2  Half Yearly        Arrear     Closed  Direct Debit      292    BARODA   \n",
              "3      Quatrly        Arrear     Closed        Cheque      412    KANPUR   \n",
              "4      Monthly        Arrear     Closed        Billed       76    RAIPUR   \n",
              "\n",
              "   Tenure  AmountFinance  DisbursalAmount      EMI  ...  Top_up SEX   AGE  \\\n",
              "0      53       375000.0         375000.0  32100.0  ...       1   M  29.0   \n",
              "1      60       503352.0         503352.0  74200.0  ...       0   M  34.0   \n",
              "2      48       280000.0         280000.0  48000.0  ...       0   M  50.0   \n",
              "3      12       100000.0         100000.0  27600.0  ...       0   M  65.0   \n",
              "4      50       350000.0         350000.0  98000.0  ...       0   M  34.0   \n",
              "\n",
              "   MonthlyIncome         City           State AssetCost  ManufacturerID  \\\n",
              "0       58333.33      SITAPUR   UTTAR PRADESH    450000            1568   \n",
              "1       35833.33      NEEMUCH  MADHYA PRADESH    530000            1568   \n",
              "2       34166.67        KHEDA         GUJARAT    550000            1062   \n",
              "3       44416.67  FARRUKHABAD   UTTAR PRADESH    650000            1186   \n",
              "4       13333.33     DHAMTARI     CHATTISGARH    520000            1186   \n",
              "\n",
              "  Disbursal_month Maturity_month  \n",
              "0              11            4.0  \n",
              "1               2           12.0  \n",
              "2               6            6.0  \n",
              "3               9            9.0  \n",
              "4              12            2.0  \n",
              "\n",
              "[5 rows x 21 columns]"
            ],
            "text/html": [
              "\n",
              "  <div id=\"df-2dc3b905-54dc-44bc-b8ba-419fbb586f5d\">\n",
              "    <div class=\"colab-df-container\">\n",
              "      <div>\n",
              "<style scoped>\n",
              "    .dataframe tbody tr th:only-of-type {\n",
              "        vertical-align: middle;\n",
              "    }\n",
              "\n",
              "    .dataframe tbody tr th {\n",
              "        vertical-align: top;\n",
              "    }\n",
              "\n",
              "    .dataframe thead th {\n",
              "        text-align: right;\n",
              "    }\n",
              "</style>\n",
              "<table border=\"1\" class=\"dataframe\">\n",
              "  <thead>\n",
              "    <tr style=\"text-align: right;\">\n",
              "      <th></th>\n",
              "      <th>Frequency</th>\n",
              "      <th>InstlmentMode</th>\n",
              "      <th>LoanStatus</th>\n",
              "      <th>PaymentMode</th>\n",
              "      <th>BranchID</th>\n",
              "      <th>Area</th>\n",
              "      <th>Tenure</th>\n",
              "      <th>AmountFinance</th>\n",
              "      <th>DisbursalAmount</th>\n",
              "      <th>EMI</th>\n",
              "      <th>...</th>\n",
              "      <th>Top_up</th>\n",
              "      <th>SEX</th>\n",
              "      <th>AGE</th>\n",
              "      <th>MonthlyIncome</th>\n",
              "      <th>City</th>\n",
              "      <th>State</th>\n",
              "      <th>AssetCost</th>\n",
              "      <th>ManufacturerID</th>\n",
              "      <th>Disbursal_month</th>\n",
              "      <th>Maturity_month</th>\n",
              "    </tr>\n",
              "  </thead>\n",
              "  <tbody>\n",
              "    <tr>\n",
              "      <th>0</th>\n",
              "      <td>Quatrly</td>\n",
              "      <td>Arrear</td>\n",
              "      <td>Active</td>\n",
              "      <td>Direct Debit</td>\n",
              "      <td>272</td>\n",
              "      <td>LUCKNOW</td>\n",
              "      <td>53</td>\n",
              "      <td>375000.0</td>\n",
              "      <td>375000.0</td>\n",
              "      <td>32100.0</td>\n",
              "      <td>...</td>\n",
              "      <td>1</td>\n",
              "      <td>M</td>\n",
              "      <td>29.0</td>\n",
              "      <td>58333.33</td>\n",
              "      <td>SITAPUR</td>\n",
              "      <td>UTTAR PRADESH</td>\n",
              "      <td>450000</td>\n",
              "      <td>1568</td>\n",
              "      <td>11</td>\n",
              "      <td>4.0</td>\n",
              "    </tr>\n",
              "    <tr>\n",
              "      <th>1</th>\n",
              "      <td>Half Yearly</td>\n",
              "      <td>Arrear</td>\n",
              "      <td>Active</td>\n",
              "      <td>ECS</td>\n",
              "      <td>326</td>\n",
              "      <td>MANDSAUR</td>\n",
              "      <td>60</td>\n",
              "      <td>503352.0</td>\n",
              "      <td>503352.0</td>\n",
              "      <td>74200.0</td>\n",
              "      <td>...</td>\n",
              "      <td>0</td>\n",
              "      <td>M</td>\n",
              "      <td>34.0</td>\n",
              "      <td>35833.33</td>\n",
              "      <td>NEEMUCH</td>\n",
              "      <td>MADHYA PRADESH</td>\n",
              "      <td>530000</td>\n",
              "      <td>1568</td>\n",
              "      <td>2</td>\n",
              "      <td>12.0</td>\n",
              "    </tr>\n",
              "    <tr>\n",
              "      <th>2</th>\n",
              "      <td>Half Yearly</td>\n",
              "      <td>Arrear</td>\n",
              "      <td>Closed</td>\n",
              "      <td>Direct Debit</td>\n",
              "      <td>292</td>\n",
              "      <td>BARODA</td>\n",
              "      <td>48</td>\n",
              "      <td>280000.0</td>\n",
              "      <td>280000.0</td>\n",
              "      <td>48000.0</td>\n",
              "      <td>...</td>\n",
              "      <td>0</td>\n",
              "      <td>M</td>\n",
              "      <td>50.0</td>\n",
              "      <td>34166.67</td>\n",
              "      <td>KHEDA</td>\n",
              "      <td>GUJARAT</td>\n",
              "      <td>550000</td>\n",
              "      <td>1062</td>\n",
              "      <td>6</td>\n",
              "      <td>6.0</td>\n",
              "    </tr>\n",
              "    <tr>\n",
              "      <th>3</th>\n",
              "      <td>Quatrly</td>\n",
              "      <td>Arrear</td>\n",
              "      <td>Closed</td>\n",
              "      <td>Cheque</td>\n",
              "      <td>412</td>\n",
              "      <td>KANPUR</td>\n",
              "      <td>12</td>\n",
              "      <td>100000.0</td>\n",
              "      <td>100000.0</td>\n",
              "      <td>27600.0</td>\n",
              "      <td>...</td>\n",
              "      <td>0</td>\n",
              "      <td>M</td>\n",
              "      <td>65.0</td>\n",
              "      <td>44416.67</td>\n",
              "      <td>FARRUKHABAD</td>\n",
              "      <td>UTTAR PRADESH</td>\n",
              "      <td>650000</td>\n",
              "      <td>1186</td>\n",
              "      <td>9</td>\n",
              "      <td>9.0</td>\n",
              "    </tr>\n",
              "    <tr>\n",
              "      <th>4</th>\n",
              "      <td>Monthly</td>\n",
              "      <td>Arrear</td>\n",
              "      <td>Closed</td>\n",
              "      <td>Billed</td>\n",
              "      <td>76</td>\n",
              "      <td>RAIPUR</td>\n",
              "      <td>50</td>\n",
              "      <td>350000.0</td>\n",
              "      <td>350000.0</td>\n",
              "      <td>98000.0</td>\n",
              "      <td>...</td>\n",
              "      <td>0</td>\n",
              "      <td>M</td>\n",
              "      <td>34.0</td>\n",
              "      <td>13333.33</td>\n",
              "      <td>DHAMTARI</td>\n",
              "      <td>CHATTISGARH</td>\n",
              "      <td>520000</td>\n",
              "      <td>1186</td>\n",
              "      <td>12</td>\n",
              "      <td>2.0</td>\n",
              "    </tr>\n",
              "  </tbody>\n",
              "</table>\n",
              "<p>5 rows × 21 columns</p>\n",
              "</div>\n",
              "      <button class=\"colab-df-convert\" onclick=\"convertToInteractive('df-2dc3b905-54dc-44bc-b8ba-419fbb586f5d')\"\n",
              "              title=\"Convert this dataframe to an interactive table.\"\n",
              "              style=\"display:none;\">\n",
              "        \n",
              "  <svg xmlns=\"http://www.w3.org/2000/svg\" height=\"24px\"viewBox=\"0 0 24 24\"\n",
              "       width=\"24px\">\n",
              "    <path d=\"M0 0h24v24H0V0z\" fill=\"none\"/>\n",
              "    <path d=\"M18.56 5.44l.94 2.06.94-2.06 2.06-.94-2.06-.94-.94-2.06-.94 2.06-2.06.94zm-11 1L8.5 8.5l.94-2.06 2.06-.94-2.06-.94L8.5 2.5l-.94 2.06-2.06.94zm10 10l.94 2.06.94-2.06 2.06-.94-2.06-.94-.94-2.06-.94 2.06-2.06.94z\"/><path d=\"M17.41 7.96l-1.37-1.37c-.4-.4-.92-.59-1.43-.59-.52 0-1.04.2-1.43.59L10.3 9.45l-7.72 7.72c-.78.78-.78 2.05 0 2.83L4 21.41c.39.39.9.59 1.41.59.51 0 1.02-.2 1.41-.59l7.78-7.78 2.81-2.81c.8-.78.8-2.07 0-2.86zM5.41 20L4 18.59l7.72-7.72 1.47 1.35L5.41 20z\"/>\n",
              "  </svg>\n",
              "      </button>\n",
              "      \n",
              "  <style>\n",
              "    .colab-df-container {\n",
              "      display:flex;\n",
              "      flex-wrap:wrap;\n",
              "      gap: 12px;\n",
              "    }\n",
              "\n",
              "    .colab-df-convert {\n",
              "      background-color: #E8F0FE;\n",
              "      border: none;\n",
              "      border-radius: 50%;\n",
              "      cursor: pointer;\n",
              "      display: none;\n",
              "      fill: #1967D2;\n",
              "      height: 32px;\n",
              "      padding: 0 0 0 0;\n",
              "      width: 32px;\n",
              "    }\n",
              "\n",
              "    .colab-df-convert:hover {\n",
              "      background-color: #E2EBFA;\n",
              "      box-shadow: 0px 1px 2px rgba(60, 64, 67, 0.3), 0px 1px 3px 1px rgba(60, 64, 67, 0.15);\n",
              "      fill: #174EA6;\n",
              "    }\n",
              "\n",
              "    [theme=dark] .colab-df-convert {\n",
              "      background-color: #3B4455;\n",
              "      fill: #D2E3FC;\n",
              "    }\n",
              "\n",
              "    [theme=dark] .colab-df-convert:hover {\n",
              "      background-color: #434B5C;\n",
              "      box-shadow: 0px 1px 3px 1px rgba(0, 0, 0, 0.15);\n",
              "      filter: drop-shadow(0px 1px 2px rgba(0, 0, 0, 0.3));\n",
              "      fill: #FFFFFF;\n",
              "    }\n",
              "  </style>\n",
              "\n",
              "      <script>\n",
              "        const buttonEl =\n",
              "          document.querySelector('#df-2dc3b905-54dc-44bc-b8ba-419fbb586f5d button.colab-df-convert');\n",
              "        buttonEl.style.display =\n",
              "          google.colab.kernel.accessAllowed ? 'block' : 'none';\n",
              "\n",
              "        async function convertToInteractive(key) {\n",
              "          const element = document.querySelector('#df-2dc3b905-54dc-44bc-b8ba-419fbb586f5d');\n",
              "          const dataTable =\n",
              "            await google.colab.kernel.invokeFunction('convertToInteractive',\n",
              "                                                     [key], {});\n",
              "          if (!dataTable) return;\n",
              "\n",
              "          const docLinkHtml = 'Like what you see? Visit the ' +\n",
              "            '<a target=\"_blank\" href=https://colab.research.google.com/notebooks/data_table.ipynb>data table notebook</a>'\n",
              "            + ' to learn more about interactive tables.';\n",
              "          element.innerHTML = '';\n",
              "          dataTable['output_type'] = 'display_data';\n",
              "          await google.colab.output.renderOutput(dataTable, element);\n",
              "          const docLink = document.createElement('div');\n",
              "          docLink.innerHTML = docLinkHtml;\n",
              "          element.appendChild(docLink);\n",
              "        }\n",
              "      </script>\n",
              "    </div>\n",
              "  </div>\n",
              "  "
            ]
          },
          "metadata": {},
          "execution_count": 67
        }
      ]
    },
    {
      "cell_type": "markdown",
      "source": [
        "## Train-Test Split"
      ],
      "metadata": {
        "id": "kPkQ_C100D7f"
      }
    },
    {
      "cell_type": "code",
      "source": [
        "from sklearn.model_selection import train_test_split"
      ],
      "metadata": {
        "id": "rMUf3k1foqrv"
      },
      "execution_count": 68,
      "outputs": []
    },
    {
      "cell_type": "code",
      "source": [
        "X=df.drop(['Top_up'],axis=1)\n",
        "y=df['Top_up']\n",
        "X_train,X_val,y_train,y_val=train_test_split(X,y, test_size=0.25,random_state=123,stratify=y)"
      ],
      "metadata": {
        "id": "lifKOAWTqEyD"
      },
      "execution_count": 69,
      "outputs": []
    },
    {
      "cell_type": "code",
      "source": [
        "y_test=final_test['Top_up']\n",
        "X_test=final_test.drop(['Top_up'],axis=1)"
      ],
      "metadata": {
        "id": "OtpEB4MD07A9"
      },
      "execution_count": 70,
      "outputs": []
    },
    {
      "cell_type": "code",
      "source": [
        "print(X_train.shape)\n",
        "print(X_val.shape)"
      ],
      "metadata": {
        "colab": {
          "base_uri": "https://localhost:8080/"
        },
        "id": "tfJ0qyjLj9-B",
        "outputId": "61edf35f-5613-488a-b672-dfd4376d8376"
      },
      "execution_count": 71,
      "outputs": [
        {
          "output_type": "stream",
          "name": "stdout",
          "text": [
            "(52495, 20)\n",
            "(17499, 20)\n"
          ]
        }
      ]
    },
    {
      "cell_type": "markdown",
      "source": [
        "## Handling Null Values"
      ],
      "metadata": {
        "id": "vUFXvmsxoHSz"
      }
    },
    {
      "cell_type": "markdown",
      "source": [
        "### Function for imputing with state wise mode values"
      ],
      "metadata": {
        "id": "z3O4hDwoFWcx"
      }
    },
    {
      "cell_type": "code",
      "source": [
        "def impute_cities(data,col,ref_col):\n",
        "  # Calculate mode of each city\n",
        "  mode_by_state = {}\n",
        "  \n",
        "  # Iterate over each city\n",
        "  for city,city_data in data.groupby(ref_col):\n",
        "    non_null_areas = city_data[col].dropna() # Drop null values from the Area column\n",
        "    if len(non_null_areas)>0:\n",
        "      mode_value =non_null_areas.mode().iloc[0] # Calculate the mode for non-null values\n",
        "      mode_by_state[city]=mode_value\n",
        "  \n",
        "  # Iterate over each row\n",
        "  for index,row in data.iterrows():\n",
        "    if pd.isnull(row[col]): # Check if Area is null\n",
        "      city=row[ref_col]     # Get the corresponding city value\n",
        "      if city in mode_by_state:\n",
        "        mode_value=mode_by_state[city] # Get the mode value for that city\n",
        "        data.at[index,col]=mode_value   # Replace the null value with the mode value\n",
        "\n",
        "  return data"
      ],
      "metadata": {
        "id": "1pxpvlUA-kVB"
      },
      "execution_count": 72,
      "outputs": []
    },
    {
      "cell_type": "code",
      "source": [
        "X_train=impute_cities(X_train,'City','State')\n",
        "X_val=impute_cities(X_val,'City','State')\n",
        "X_test=impute_cities(X_test,'City','State')"
      ],
      "metadata": {
        "id": "MFNIn9iL-k9V"
      },
      "execution_count": 73,
      "outputs": []
    },
    {
      "cell_type": "code",
      "source": [
        "X_train.isnull().sum() "
      ],
      "metadata": {
        "colab": {
          "base_uri": "https://localhost:8080/"
        },
        "id": "JbRbSyk9-t8L",
        "outputId": "93bf2eb6-b278-401a-a2f8-209f1f48bfd2"
      },
      "execution_count": 74,
      "outputs": [
        {
          "output_type": "execute_result",
          "data": {
            "text/plain": [
              "Frequency             0\n",
              "InstlmentMode         0\n",
              "LoanStatus            0\n",
              "PaymentMode           0\n",
              "BranchID              0\n",
              "Area               6498\n",
              "Tenure                0\n",
              "AmountFinance         0\n",
              "DisbursalAmount       0\n",
              "EMI                   0\n",
              "LTV                   0\n",
              "SEX                  12\n",
              "AGE                  12\n",
              "MonthlyIncome        91\n",
              "City                  0\n",
              "State                 0\n",
              "AssetCost             0\n",
              "ManufacturerID        0\n",
              "Disbursal_month       0\n",
              "Maturity_month        0\n",
              "dtype: int64"
            ]
          },
          "metadata": {},
          "execution_count": 74
        }
      ]
    },
    {
      "cell_type": "code",
      "source": [
        "X_val.isnull().sum()"
      ],
      "metadata": {
        "colab": {
          "base_uri": "https://localhost:8080/"
        },
        "id": "tRGLW2BL-zWY",
        "outputId": "86b17db4-c6e4-4ddc-c79c-5bb5ff23c935"
      },
      "execution_count": 75,
      "outputs": [
        {
          "output_type": "execute_result",
          "data": {
            "text/plain": [
              "Frequency             0\n",
              "InstlmentMode         0\n",
              "LoanStatus            0\n",
              "PaymentMode           0\n",
              "BranchID              0\n",
              "Area               2163\n",
              "Tenure                0\n",
              "AmountFinance         0\n",
              "DisbursalAmount       0\n",
              "EMI                   0\n",
              "LTV                   0\n",
              "SEX                   4\n",
              "AGE                   4\n",
              "MonthlyIncome        36\n",
              "City                  0\n",
              "State                 0\n",
              "AssetCost             0\n",
              "ManufacturerID        0\n",
              "Disbursal_month       0\n",
              "Maturity_month        0\n",
              "dtype: int64"
            ]
          },
          "metadata": {},
          "execution_count": 75
        }
      ]
    },
    {
      "cell_type": "markdown",
      "source": [
        "## Imputation in numerical variables by using SimpleImputer with strategy='median'"
      ],
      "metadata": {
        "id": "Tbw-L73FG328"
      }
    },
    {
      "cell_type": "code",
      "source": [
        "from sklearn.impute import SimpleImputer"
      ],
      "metadata": {
        "id": "LMcAUiSeoLV4"
      },
      "execution_count": 76,
      "outputs": []
    },
    {
      "cell_type": "code",
      "source": [
        "num_imputer = SimpleImputer(strategy='median')\n",
        "num_imputer.fit(X_train[num_att])"
      ],
      "metadata": {
        "colab": {
          "base_uri": "https://localhost:8080/",
          "height": 75
        },
        "id": "GQK4Czy1oVt4",
        "outputId": "9ee8a191-3bba-4650-9d15-0868eeb96f92"
      },
      "execution_count": 77,
      "outputs": [
        {
          "output_type": "execute_result",
          "data": {
            "text/plain": [
              "SimpleImputer(strategy='median')"
            ],
            "text/html": [
              "<style>#sk-container-id-1 {color: black;background-color: white;}#sk-container-id-1 pre{padding: 0;}#sk-container-id-1 div.sk-toggleable {background-color: white;}#sk-container-id-1 label.sk-toggleable__label {cursor: pointer;display: block;width: 100%;margin-bottom: 0;padding: 0.3em;box-sizing: border-box;text-align: center;}#sk-container-id-1 label.sk-toggleable__label-arrow:before {content: \"▸\";float: left;margin-right: 0.25em;color: #696969;}#sk-container-id-1 label.sk-toggleable__label-arrow:hover:before {color: black;}#sk-container-id-1 div.sk-estimator:hover label.sk-toggleable__label-arrow:before {color: black;}#sk-container-id-1 div.sk-toggleable__content {max-height: 0;max-width: 0;overflow: hidden;text-align: left;background-color: #f0f8ff;}#sk-container-id-1 div.sk-toggleable__content pre {margin: 0.2em;color: black;border-radius: 0.25em;background-color: #f0f8ff;}#sk-container-id-1 input.sk-toggleable__control:checked~div.sk-toggleable__content {max-height: 200px;max-width: 100%;overflow: auto;}#sk-container-id-1 input.sk-toggleable__control:checked~label.sk-toggleable__label-arrow:before {content: \"▾\";}#sk-container-id-1 div.sk-estimator input.sk-toggleable__control:checked~label.sk-toggleable__label {background-color: #d4ebff;}#sk-container-id-1 div.sk-label input.sk-toggleable__control:checked~label.sk-toggleable__label {background-color: #d4ebff;}#sk-container-id-1 input.sk-hidden--visually {border: 0;clip: rect(1px 1px 1px 1px);clip: rect(1px, 1px, 1px, 1px);height: 1px;margin: -1px;overflow: hidden;padding: 0;position: absolute;width: 1px;}#sk-container-id-1 div.sk-estimator {font-family: monospace;background-color: #f0f8ff;border: 1px dotted black;border-radius: 0.25em;box-sizing: border-box;margin-bottom: 0.5em;}#sk-container-id-1 div.sk-estimator:hover {background-color: #d4ebff;}#sk-container-id-1 div.sk-parallel-item::after {content: \"\";width: 100%;border-bottom: 1px solid gray;flex-grow: 1;}#sk-container-id-1 div.sk-label:hover label.sk-toggleable__label {background-color: #d4ebff;}#sk-container-id-1 div.sk-serial::before {content: \"\";position: absolute;border-left: 1px solid gray;box-sizing: border-box;top: 0;bottom: 0;left: 50%;z-index: 0;}#sk-container-id-1 div.sk-serial {display: flex;flex-direction: column;align-items: center;background-color: white;padding-right: 0.2em;padding-left: 0.2em;position: relative;}#sk-container-id-1 div.sk-item {position: relative;z-index: 1;}#sk-container-id-1 div.sk-parallel {display: flex;align-items: stretch;justify-content: center;background-color: white;position: relative;}#sk-container-id-1 div.sk-item::before, #sk-container-id-1 div.sk-parallel-item::before {content: \"\";position: absolute;border-left: 1px solid gray;box-sizing: border-box;top: 0;bottom: 0;left: 50%;z-index: -1;}#sk-container-id-1 div.sk-parallel-item {display: flex;flex-direction: column;z-index: 1;position: relative;background-color: white;}#sk-container-id-1 div.sk-parallel-item:first-child::after {align-self: flex-end;width: 50%;}#sk-container-id-1 div.sk-parallel-item:last-child::after {align-self: flex-start;width: 50%;}#sk-container-id-1 div.sk-parallel-item:only-child::after {width: 0;}#sk-container-id-1 div.sk-dashed-wrapped {border: 1px dashed gray;margin: 0 0.4em 0.5em 0.4em;box-sizing: border-box;padding-bottom: 0.4em;background-color: white;}#sk-container-id-1 div.sk-label label {font-family: monospace;font-weight: bold;display: inline-block;line-height: 1.2em;}#sk-container-id-1 div.sk-label-container {text-align: center;}#sk-container-id-1 div.sk-container {/* jupyter's `normalize.less` sets `[hidden] { display: none; }` but bootstrap.min.css set `[hidden] { display: none !important; }` so we also need the `!important` here to be able to override the default hidden behavior on the sphinx rendered scikit-learn.org. See: https://github.com/scikit-learn/scikit-learn/issues/21755 */display: inline-block !important;position: relative;}#sk-container-id-1 div.sk-text-repr-fallback {display: none;}</style><div id=\"sk-container-id-1\" class=\"sk-top-container\"><div class=\"sk-text-repr-fallback\"><pre>SimpleImputer(strategy=&#x27;median&#x27;)</pre><b>In a Jupyter environment, please rerun this cell to show the HTML representation or trust the notebook. <br />On GitHub, the HTML representation is unable to render, please try loading this page with nbviewer.org.</b></div><div class=\"sk-container\" hidden><div class=\"sk-item\"><div class=\"sk-estimator sk-toggleable\"><input class=\"sk-toggleable__control sk-hidden--visually\" id=\"sk-estimator-id-1\" type=\"checkbox\" checked><label for=\"sk-estimator-id-1\" class=\"sk-toggleable__label sk-toggleable__label-arrow\">SimpleImputer</label><div class=\"sk-toggleable__content\"><pre>SimpleImputer(strategy=&#x27;median&#x27;)</pre></div></div></div></div></div>"
            ]
          },
          "metadata": {},
          "execution_count": 77
        }
      ]
    },
    {
      "cell_type": "code",
      "source": [
        "X_train[num_att]=num_imputer.transform(X_train[num_att])"
      ],
      "metadata": {
        "id": "PLJjrDwtpvUa"
      },
      "execution_count": 78,
      "outputs": []
    },
    {
      "cell_type": "code",
      "source": [
        "X_train.isnull().sum()"
      ],
      "metadata": {
        "colab": {
          "base_uri": "https://localhost:8080/"
        },
        "id": "_ICmQgIhzh_n",
        "outputId": "b869f5fb-322d-4fc0-8f08-4814021faeaa"
      },
      "execution_count": 79,
      "outputs": [
        {
          "output_type": "execute_result",
          "data": {
            "text/plain": [
              "Frequency             0\n",
              "InstlmentMode         0\n",
              "LoanStatus            0\n",
              "PaymentMode           0\n",
              "BranchID              0\n",
              "Area               6498\n",
              "Tenure                0\n",
              "AmountFinance         0\n",
              "DisbursalAmount       0\n",
              "EMI                   0\n",
              "LTV                   0\n",
              "SEX                  12\n",
              "AGE                   0\n",
              "MonthlyIncome         0\n",
              "City                  0\n",
              "State                 0\n",
              "AssetCost             0\n",
              "ManufacturerID        0\n",
              "Disbursal_month       0\n",
              "Maturity_month        0\n",
              "dtype: int64"
            ]
          },
          "metadata": {},
          "execution_count": 79
        }
      ]
    },
    {
      "cell_type": "code",
      "source": [
        "X_val[num_att]=num_imputer.transform(X_val[num_att])"
      ],
      "metadata": {
        "id": "MIkyMMuH1aCo"
      },
      "execution_count": 80,
      "outputs": []
    },
    {
      "cell_type": "code",
      "source": [
        "X_val.isnull().sum()"
      ],
      "metadata": {
        "colab": {
          "base_uri": "https://localhost:8080/"
        },
        "id": "zU_Y30kB2rs9",
        "outputId": "72b5eacd-8c43-461f-a9f8-869a73806746"
      },
      "execution_count": 81,
      "outputs": [
        {
          "output_type": "execute_result",
          "data": {
            "text/plain": [
              "Frequency             0\n",
              "InstlmentMode         0\n",
              "LoanStatus            0\n",
              "PaymentMode           0\n",
              "BranchID              0\n",
              "Area               2163\n",
              "Tenure                0\n",
              "AmountFinance         0\n",
              "DisbursalAmount       0\n",
              "EMI                   0\n",
              "LTV                   0\n",
              "SEX                   4\n",
              "AGE                   0\n",
              "MonthlyIncome         0\n",
              "City                  0\n",
              "State                 0\n",
              "AssetCost             0\n",
              "ManufacturerID        0\n",
              "Disbursal_month       0\n",
              "Maturity_month        0\n",
              "dtype: int64"
            ]
          },
          "metadata": {},
          "execution_count": 81
        }
      ]
    },
    {
      "cell_type": "code",
      "source": [
        "X_test[num_att]=num_imputer.transform(final_test[num_att])"
      ],
      "metadata": {
        "id": "WzIyC-KZ0bmu"
      },
      "execution_count": 82,
      "outputs": []
    },
    {
      "cell_type": "code",
      "source": [
        "X_test.isnull().sum()"
      ],
      "metadata": {
        "colab": {
          "base_uri": "https://localhost:8080/"
        },
        "id": "QeArsA3I1pVj",
        "outputId": "bff5545a-7fcf-4a90-f4e6-791581ae0448"
      },
      "execution_count": 83,
      "outputs": [
        {
          "output_type": "execute_result",
          "data": {
            "text/plain": [
              "Frequency             0\n",
              "InstlmentMode         0\n",
              "LoanStatus            0\n",
              "PaymentMode           0\n",
              "BranchID              0\n",
              "Area               2964\n",
              "Tenure                0\n",
              "AmountFinance         0\n",
              "DisbursalAmount       0\n",
              "EMI                   0\n",
              "LTV                   0\n",
              "SEX                  13\n",
              "AGE                   0\n",
              "MonthlyIncome         0\n",
              "City                  0\n",
              "State                 0\n",
              "AssetCost             0\n",
              "ManufacturerID        0\n",
              "Disbursal_month       0\n",
              "Maturity_month        0\n",
              "dtype: int64"
            ]
          },
          "metadata": {},
          "execution_count": 83
        }
      ]
    },
    {
      "cell_type": "code",
      "source": [
        "X_train.drop(['Area','State'],axis=1,inplace=True)\n",
        "X_val.drop(['Area','State'],axis=1,inplace=True)\n",
        "X_test.drop(['Area','State'],axis=1,inplace=True)"
      ],
      "metadata": {
        "id": "rI9uPD-0CrvQ"
      },
      "execution_count": 84,
      "outputs": []
    },
    {
      "cell_type": "markdown",
      "source": [
        "## Imputing the remaining categorical variable by using SimpleImputer with strategy='most_frequent'"
      ],
      "metadata": {
        "id": "z4j4PAzFHPE0"
      }
    },
    {
      "cell_type": "code",
      "source": [
        "cat_cols = ['Frequency','InstlmentMode','LoanStatus','PaymentMode','BranchID','SEX','ManufacturerID','Disbursal_month','Maturity_month','City']"
      ],
      "metadata": {
        "id": "zlTonuX29W6t"
      },
      "execution_count": 85,
      "outputs": []
    },
    {
      "cell_type": "code",
      "source": [
        "cat_imputer = SimpleImputer(strategy='most_frequent')\n",
        "cat_imputer.fit(X_train[cat_cols])"
      ],
      "metadata": {
        "id": "meEQvOTEidXG",
        "colab": {
          "base_uri": "https://localhost:8080/",
          "height": 75
        },
        "outputId": "b90bc3fd-5172-41d9-8202-1eee9599d448"
      },
      "execution_count": 86,
      "outputs": [
        {
          "output_type": "execute_result",
          "data": {
            "text/plain": [
              "SimpleImputer(strategy='most_frequent')"
            ],
            "text/html": [
              "<style>#sk-container-id-2 {color: black;background-color: white;}#sk-container-id-2 pre{padding: 0;}#sk-container-id-2 div.sk-toggleable {background-color: white;}#sk-container-id-2 label.sk-toggleable__label {cursor: pointer;display: block;width: 100%;margin-bottom: 0;padding: 0.3em;box-sizing: border-box;text-align: center;}#sk-container-id-2 label.sk-toggleable__label-arrow:before {content: \"▸\";float: left;margin-right: 0.25em;color: #696969;}#sk-container-id-2 label.sk-toggleable__label-arrow:hover:before {color: black;}#sk-container-id-2 div.sk-estimator:hover label.sk-toggleable__label-arrow:before {color: black;}#sk-container-id-2 div.sk-toggleable__content {max-height: 0;max-width: 0;overflow: hidden;text-align: left;background-color: #f0f8ff;}#sk-container-id-2 div.sk-toggleable__content pre {margin: 0.2em;color: black;border-radius: 0.25em;background-color: #f0f8ff;}#sk-container-id-2 input.sk-toggleable__control:checked~div.sk-toggleable__content {max-height: 200px;max-width: 100%;overflow: auto;}#sk-container-id-2 input.sk-toggleable__control:checked~label.sk-toggleable__label-arrow:before {content: \"▾\";}#sk-container-id-2 div.sk-estimator input.sk-toggleable__control:checked~label.sk-toggleable__label {background-color: #d4ebff;}#sk-container-id-2 div.sk-label input.sk-toggleable__control:checked~label.sk-toggleable__label {background-color: #d4ebff;}#sk-container-id-2 input.sk-hidden--visually {border: 0;clip: rect(1px 1px 1px 1px);clip: rect(1px, 1px, 1px, 1px);height: 1px;margin: -1px;overflow: hidden;padding: 0;position: absolute;width: 1px;}#sk-container-id-2 div.sk-estimator {font-family: monospace;background-color: #f0f8ff;border: 1px dotted black;border-radius: 0.25em;box-sizing: border-box;margin-bottom: 0.5em;}#sk-container-id-2 div.sk-estimator:hover {background-color: #d4ebff;}#sk-container-id-2 div.sk-parallel-item::after {content: \"\";width: 100%;border-bottom: 1px solid gray;flex-grow: 1;}#sk-container-id-2 div.sk-label:hover label.sk-toggleable__label {background-color: #d4ebff;}#sk-container-id-2 div.sk-serial::before {content: \"\";position: absolute;border-left: 1px solid gray;box-sizing: border-box;top: 0;bottom: 0;left: 50%;z-index: 0;}#sk-container-id-2 div.sk-serial {display: flex;flex-direction: column;align-items: center;background-color: white;padding-right: 0.2em;padding-left: 0.2em;position: relative;}#sk-container-id-2 div.sk-item {position: relative;z-index: 1;}#sk-container-id-2 div.sk-parallel {display: flex;align-items: stretch;justify-content: center;background-color: white;position: relative;}#sk-container-id-2 div.sk-item::before, #sk-container-id-2 div.sk-parallel-item::before {content: \"\";position: absolute;border-left: 1px solid gray;box-sizing: border-box;top: 0;bottom: 0;left: 50%;z-index: -1;}#sk-container-id-2 div.sk-parallel-item {display: flex;flex-direction: column;z-index: 1;position: relative;background-color: white;}#sk-container-id-2 div.sk-parallel-item:first-child::after {align-self: flex-end;width: 50%;}#sk-container-id-2 div.sk-parallel-item:last-child::after {align-self: flex-start;width: 50%;}#sk-container-id-2 div.sk-parallel-item:only-child::after {width: 0;}#sk-container-id-2 div.sk-dashed-wrapped {border: 1px dashed gray;margin: 0 0.4em 0.5em 0.4em;box-sizing: border-box;padding-bottom: 0.4em;background-color: white;}#sk-container-id-2 div.sk-label label {font-family: monospace;font-weight: bold;display: inline-block;line-height: 1.2em;}#sk-container-id-2 div.sk-label-container {text-align: center;}#sk-container-id-2 div.sk-container {/* jupyter's `normalize.less` sets `[hidden] { display: none; }` but bootstrap.min.css set `[hidden] { display: none !important; }` so we also need the `!important` here to be able to override the default hidden behavior on the sphinx rendered scikit-learn.org. See: https://github.com/scikit-learn/scikit-learn/issues/21755 */display: inline-block !important;position: relative;}#sk-container-id-2 div.sk-text-repr-fallback {display: none;}</style><div id=\"sk-container-id-2\" class=\"sk-top-container\"><div class=\"sk-text-repr-fallback\"><pre>SimpleImputer(strategy=&#x27;most_frequent&#x27;)</pre><b>In a Jupyter environment, please rerun this cell to show the HTML representation or trust the notebook. <br />On GitHub, the HTML representation is unable to render, please try loading this page with nbviewer.org.</b></div><div class=\"sk-container\" hidden><div class=\"sk-item\"><div class=\"sk-estimator sk-toggleable\"><input class=\"sk-toggleable__control sk-hidden--visually\" id=\"sk-estimator-id-2\" type=\"checkbox\" checked><label for=\"sk-estimator-id-2\" class=\"sk-toggleable__label sk-toggleable__label-arrow\">SimpleImputer</label><div class=\"sk-toggleable__content\"><pre>SimpleImputer(strategy=&#x27;most_frequent&#x27;)</pre></div></div></div></div></div>"
            ]
          },
          "metadata": {},
          "execution_count": 86
        }
      ]
    },
    {
      "cell_type": "code",
      "source": [
        "X_train[cat_cols]=cat_imputer.transform(X_train[cat_cols])"
      ],
      "metadata": {
        "id": "VFOgKlxUJ4RG"
      },
      "execution_count": 87,
      "outputs": []
    },
    {
      "cell_type": "code",
      "source": [
        "X_train.isnull().sum()"
      ],
      "metadata": {
        "colab": {
          "base_uri": "https://localhost:8080/"
        },
        "id": "BS4vHDeSjG0T",
        "outputId": "b45fa9f2-1d46-4bdc-f60f-530e14d1308a"
      },
      "execution_count": 88,
      "outputs": [
        {
          "output_type": "execute_result",
          "data": {
            "text/plain": [
              "Frequency          0\n",
              "InstlmentMode      0\n",
              "LoanStatus         0\n",
              "PaymentMode        0\n",
              "BranchID           0\n",
              "Tenure             0\n",
              "AmountFinance      0\n",
              "DisbursalAmount    0\n",
              "EMI                0\n",
              "LTV                0\n",
              "SEX                0\n",
              "AGE                0\n",
              "MonthlyIncome      0\n",
              "City               0\n",
              "AssetCost          0\n",
              "ManufacturerID     0\n",
              "Disbursal_month    0\n",
              "Maturity_month     0\n",
              "dtype: int64"
            ]
          },
          "metadata": {},
          "execution_count": 88
        }
      ]
    },
    {
      "cell_type": "code",
      "source": [
        "X_val[cat_cols]=cat_imputer.transform(X_val[cat_cols])"
      ],
      "metadata": {
        "id": "G6yZDtB7ofd-"
      },
      "execution_count": 89,
      "outputs": []
    },
    {
      "cell_type": "code",
      "source": [
        "X_val.isnull().sum()"
      ],
      "metadata": {
        "id": "3nclJnHuojqC",
        "colab": {
          "base_uri": "https://localhost:8080/"
        },
        "outputId": "779c2ac1-d158-4c1a-dd0d-8d28f7ffb4d1"
      },
      "execution_count": 90,
      "outputs": [
        {
          "output_type": "execute_result",
          "data": {
            "text/plain": [
              "Frequency          0\n",
              "InstlmentMode      0\n",
              "LoanStatus         0\n",
              "PaymentMode        0\n",
              "BranchID           0\n",
              "Tenure             0\n",
              "AmountFinance      0\n",
              "DisbursalAmount    0\n",
              "EMI                0\n",
              "LTV                0\n",
              "SEX                0\n",
              "AGE                0\n",
              "MonthlyIncome      0\n",
              "City               0\n",
              "AssetCost          0\n",
              "ManufacturerID     0\n",
              "Disbursal_month    0\n",
              "Maturity_month     0\n",
              "dtype: int64"
            ]
          },
          "metadata": {},
          "execution_count": 90
        }
      ]
    },
    {
      "cell_type": "code",
      "source": [
        "X_val.isna().sum()"
      ],
      "metadata": {
        "colab": {
          "base_uri": "https://localhost:8080/"
        },
        "id": "4lnwXxwRDyOq",
        "outputId": "b346c1d5-664d-42a1-e219-4f4696a42341"
      },
      "execution_count": 92,
      "outputs": [
        {
          "output_type": "execute_result",
          "data": {
            "text/plain": [
              "Frequency          0\n",
              "InstlmentMode      0\n",
              "LoanStatus         0\n",
              "PaymentMode        0\n",
              "BranchID           0\n",
              "Tenure             0\n",
              "AmountFinance      0\n",
              "DisbursalAmount    0\n",
              "EMI                0\n",
              "LTV                0\n",
              "SEX                0\n",
              "AGE                0\n",
              "MonthlyIncome      0\n",
              "City               0\n",
              "AssetCost          0\n",
              "ManufacturerID     0\n",
              "Disbursal_month    0\n",
              "Maturity_month     0\n",
              "dtype: int64"
            ]
          },
          "metadata": {},
          "execution_count": 92
        }
      ]
    },
    {
      "cell_type": "code",
      "source": [
        "X_test[cat_cols]=cat_imputer.transform(X_test[cat_cols])"
      ],
      "metadata": {
        "id": "AU5FiGaYFfx9"
      },
      "execution_count": 93,
      "outputs": []
    },
    {
      "cell_type": "code",
      "source": [
        "X_test.isnull().sum()"
      ],
      "metadata": {
        "colab": {
          "base_uri": "https://localhost:8080/"
        },
        "id": "bcQmPvH-Gton",
        "outputId": "3b1cda91-a18c-4c18-9d94-f52fe3fb6f16"
      },
      "execution_count": 94,
      "outputs": [
        {
          "output_type": "execute_result",
          "data": {
            "text/plain": [
              "Frequency          0\n",
              "InstlmentMode      0\n",
              "LoanStatus         0\n",
              "PaymentMode        0\n",
              "BranchID           0\n",
              "Tenure             0\n",
              "AmountFinance      0\n",
              "DisbursalAmount    0\n",
              "EMI                0\n",
              "LTV                0\n",
              "SEX                0\n",
              "AGE                0\n",
              "MonthlyIncome      0\n",
              "City               0\n",
              "AssetCost          0\n",
              "ManufacturerID     0\n",
              "Disbursal_month    0\n",
              "Maturity_month     0\n",
              "dtype: int64"
            ]
          },
          "metadata": {},
          "execution_count": 94
        }
      ]
    },
    {
      "cell_type": "markdown",
      "source": [
        "## Encoding"
      ],
      "metadata": {
        "id": "spmfThG-HmQy"
      }
    },
    {
      "cell_type": "code",
      "source": [
        "!pip install category-encoders"
      ],
      "metadata": {
        "colab": {
          "base_uri": "https://localhost:8080/"
        },
        "id": "hFgCaIoG3fsk",
        "outputId": "4c690984-af42-4dda-e47a-913a0cc40d36"
      },
      "execution_count": 95,
      "outputs": [
        {
          "output_type": "stream",
          "name": "stdout",
          "text": [
            "Looking in indexes: https://pypi.org/simple, https://us-python.pkg.dev/colab-wheels/public/simple/\n",
            "Collecting category-encoders\n",
            "  Downloading category_encoders-2.6.1-py2.py3-none-any.whl (81 kB)\n",
            "\u001b[2K     \u001b[90m━━━━━━━━━━━━━━━━━━━━━━━━━━━━━━━━━━━━━━━━\u001b[0m \u001b[32m81.9/81.9 kB\u001b[0m \u001b[31m3.2 MB/s\u001b[0m eta \u001b[36m0:00:00\u001b[0m\n",
            "\u001b[?25hRequirement already satisfied: numpy>=1.14.0 in /usr/local/lib/python3.10/dist-packages (from category-encoders) (1.22.4)\n",
            "Requirement already satisfied: scikit-learn>=0.20.0 in /usr/local/lib/python3.10/dist-packages (from category-encoders) (1.2.2)\n",
            "Requirement already satisfied: scipy>=1.0.0 in /usr/local/lib/python3.10/dist-packages (from category-encoders) (1.10.1)\n",
            "Requirement already satisfied: statsmodels>=0.9.0 in /usr/local/lib/python3.10/dist-packages (from category-encoders) (0.13.5)\n",
            "Requirement already satisfied: pandas>=1.0.5 in /usr/local/lib/python3.10/dist-packages (from category-encoders) (1.5.3)\n",
            "Requirement already satisfied: patsy>=0.5.1 in /usr/local/lib/python3.10/dist-packages (from category-encoders) (0.5.3)\n",
            "Requirement already satisfied: python-dateutil>=2.8.1 in /usr/local/lib/python3.10/dist-packages (from pandas>=1.0.5->category-encoders) (2.8.2)\n",
            "Requirement already satisfied: pytz>=2020.1 in /usr/local/lib/python3.10/dist-packages (from pandas>=1.0.5->category-encoders) (2022.7.1)\n",
            "Requirement already satisfied: six in /usr/local/lib/python3.10/dist-packages (from patsy>=0.5.1->category-encoders) (1.16.0)\n",
            "Requirement already satisfied: joblib>=1.1.1 in /usr/local/lib/python3.10/dist-packages (from scikit-learn>=0.20.0->category-encoders) (1.2.0)\n",
            "Requirement already satisfied: threadpoolctl>=2.0.0 in /usr/local/lib/python3.10/dist-packages (from scikit-learn>=0.20.0->category-encoders) (3.1.0)\n",
            "Requirement already satisfied: packaging>=21.3 in /usr/local/lib/python3.10/dist-packages (from statsmodels>=0.9.0->category-encoders) (23.1)\n",
            "Installing collected packages: category-encoders\n",
            "Successfully installed category-encoders-2.6.1\n"
          ]
        }
      ]
    },
    {
      "cell_type": "markdown",
      "source": [
        "## For target encoding target variable should be not category dtype.so changing the datatype to 'object'"
      ],
      "metadata": {
        "id": "-mB5mkL2IXAv"
      }
    },
    {
      "cell_type": "code",
      "source": [
        "y_train = y_train.astype('object')\n",
        "y_val = y_val.astype('object')\n",
        "y_test=y_test.astype('object')"
      ],
      "metadata": {
        "id": "tD89IX4lAH3B"
      },
      "execution_count": 96,
      "outputs": []
    },
    {
      "cell_type": "markdown",
      "source": [
        "## Some columns like City,BranchId has more number of categories.So here Encoding with target encoder."
      ],
      "metadata": {
        "id": "Pb0tdFswHu95"
      }
    },
    {
      "cell_type": "code",
      "source": [
        "from category_encoders import TargetEncoder\n",
        "encoder = TargetEncoder()\n",
        "X_train[cat_cols] = encoder.fit_transform(X_train[cat_cols],y_train)\n",
        "X_val[cat_cols] = encoder.transform(X_val[cat_cols],y_val)\n",
        "X_test[cat_cols]=encoder.transform(X_test[cat_cols],y_test)"
      ],
      "metadata": {
        "id": "PbNgvyxk2N1O"
      },
      "execution_count": 97,
      "outputs": []
    },
    {
      "cell_type": "markdown",
      "source": [
        "## Scaling"
      ],
      "metadata": {
        "id": "7eKIbJQTIITm"
      }
    },
    {
      "cell_type": "markdown",
      "source": [
        "## Standardaizing the numerical columns"
      ],
      "metadata": {
        "id": "agrv0pVGIMg_"
      }
    },
    {
      "cell_type": "code",
      "source": [
        "from sklearn.preprocessing import StandardScaler\n",
        "scaler = StandardScaler()\n",
        "X_train[num_att]=scaler.fit_transform(X_train[num_att])\n",
        "X_val[num_att]=scaler.transform(X_val[num_att])\n",
        "X_test[num_att]=scaler.transform(X_test[num_att])"
      ],
      "metadata": {
        "id": "i-Qbc_qGg7F7"
      },
      "execution_count": 98,
      "outputs": []
    },
    {
      "cell_type": "markdown",
      "source": [
        "## For applying the model target variable should have category datatype.So again converting into dtype category"
      ],
      "metadata": {
        "id": "U-WNl7eUIs6l"
      }
    },
    {
      "cell_type": "code",
      "source": [
        "y_train=y_train.astype('category')\n",
        "y_val=y_val.astype('category')\n",
        "y_test=y_test.astype('category')"
      ],
      "metadata": {
        "id": "K768uNV8T2zW"
      },
      "execution_count": 99,
      "outputs": []
    },
    {
      "cell_type": "markdown",
      "source": [
        "## Model Building "
      ],
      "metadata": {
        "id": "Uzvb0XsnMIgH"
      }
    },
    {
      "cell_type": "markdown",
      "source": [
        "## For this problem the important metrics is the Recall"
      ],
      "metadata": {
        "id": "wAAQHOblMPj4"
      }
    },
    {
      "cell_type": "markdown",
      "source": [
        "## Logistic Regression(With L1(Lasso) Regularization)"
      ],
      "metadata": {
        "id": "B4D72xjlJFoV"
      }
    },
    {
      "cell_type": "code",
      "source": [
        "from sklearn.linear_model import LogisticRegression\n",
        "logistic_model=LogisticRegression(penalty='l1',solver='saga',class_weight='balanced')\n",
        "logistic_model.fit(X_train,y_train)\n",
        "\n",
        "#Predictions\n",
        "\n",
        "logit_train_preds=logistic_model.predict(X_train)\n",
        "logit_val_preds=logistic_model.predict(X_val)"
      ],
      "metadata": {
        "id": "TL_5wPGLLaBR"
      },
      "execution_count": 100,
      "outputs": []
    },
    {
      "cell_type": "code",
      "source": [
        "from sklearn.metrics import accuracy_score,recall_score,precision_score,f1_score,confusion_matrix,classification_report"
      ],
      "metadata": {
        "id": "NjUDQcw4WBsh"
      },
      "execution_count": 101,
      "outputs": []
    },
    {
      "cell_type": "code",
      "source": [
        "def evaluate_model(act, pred):\n",
        "    print(\"Confusion Matrix \\n\", confusion_matrix(act, pred))\n",
        "    print(\"Accurcay : \", accuracy_score(act, pred))\n",
        "    print(\"Recall   : \", recall_score(act, pred))\n",
        "    print(\"Precision: \", precision_score(act, pred))\n",
        "    print(\"F1_score : \",f1_score(act,pred))"
      ],
      "metadata": {
        "id": "8Fh-Mo-kRX7-"
      },
      "execution_count": 102,
      "outputs": []
    },
    {
      "cell_type": "code",
      "source": [
        "print('---------Train-----------')\n",
        "evaluate_model(y_train,logit_train_preds)\n",
        "\n",
        "print('--------Validation---------')\n",
        "evaluate_model(y_val,logit_val_preds)\n"
      ],
      "metadata": {
        "colab": {
          "base_uri": "https://localhost:8080/"
        },
        "id": "A5ECBh81Rbgw",
        "outputId": "8be0fea2-34ac-4461-b1e4-38b011cd96be"
      },
      "execution_count": 104,
      "outputs": [
        {
          "output_type": "stream",
          "name": "stdout",
          "text": [
            "---------Train-----------\n",
            "Confusion Matrix \n",
            " [[27700 17297]\n",
            " [ 2848  4650]]\n",
            "Accurcay :  0.616249166587294\n",
            "Recall   :  0.6201653774339824\n",
            "Precision:  0.21187406023602315\n",
            "F1_score :  0.31584309730005095\n",
            "--------Validation---------\n",
            "Confusion Matrix \n",
            " [[9131 5868]\n",
            " [1022 1478]]\n",
            "Accurcay :  0.6062632150408594\n",
            "Recall   :  0.5912\n",
            "Precision:  0.2011979308467193\n",
            "F1_score :  0.30022344099126547\n"
          ]
        }
      ]
    },
    {
      "cell_type": "markdown",
      "source": [
        "## Random Forest"
      ],
      "metadata": {
        "id": "OLxzTv1Oebi4"
      }
    },
    {
      "cell_type": "code",
      "source": [
        "from sklearn.model_selection import GridSearchCV"
      ],
      "metadata": {
        "id": "_VS3M4BeeynK"
      },
      "execution_count": 105,
      "outputs": []
    },
    {
      "cell_type": "code",
      "source": [
        "from sklearn.ensemble import RandomForestClassifier\n",
        "clf = RandomForestClassifier(random_state=123, n_estimators=100,class_weight='balanced')\n",
        "clf.fit(X_train, y_train)"
      ],
      "metadata": {
        "colab": {
          "base_uri": "https://localhost:8080/",
          "height": 75
        },
        "id": "1b5SwCtoaL0y",
        "outputId": "1e838988-4847-44ce-9722-0a902dbb9edc"
      },
      "execution_count": 106,
      "outputs": [
        {
          "output_type": "execute_result",
          "data": {
            "text/plain": [
              "RandomForestClassifier(class_weight='balanced', random_state=123)"
            ],
            "text/html": [
              "<style>#sk-container-id-3 {color: black;background-color: white;}#sk-container-id-3 pre{padding: 0;}#sk-container-id-3 div.sk-toggleable {background-color: white;}#sk-container-id-3 label.sk-toggleable__label {cursor: pointer;display: block;width: 100%;margin-bottom: 0;padding: 0.3em;box-sizing: border-box;text-align: center;}#sk-container-id-3 label.sk-toggleable__label-arrow:before {content: \"▸\";float: left;margin-right: 0.25em;color: #696969;}#sk-container-id-3 label.sk-toggleable__label-arrow:hover:before {color: black;}#sk-container-id-3 div.sk-estimator:hover label.sk-toggleable__label-arrow:before {color: black;}#sk-container-id-3 div.sk-toggleable__content {max-height: 0;max-width: 0;overflow: hidden;text-align: left;background-color: #f0f8ff;}#sk-container-id-3 div.sk-toggleable__content pre {margin: 0.2em;color: black;border-radius: 0.25em;background-color: #f0f8ff;}#sk-container-id-3 input.sk-toggleable__control:checked~div.sk-toggleable__content {max-height: 200px;max-width: 100%;overflow: auto;}#sk-container-id-3 input.sk-toggleable__control:checked~label.sk-toggleable__label-arrow:before {content: \"▾\";}#sk-container-id-3 div.sk-estimator input.sk-toggleable__control:checked~label.sk-toggleable__label {background-color: #d4ebff;}#sk-container-id-3 div.sk-label input.sk-toggleable__control:checked~label.sk-toggleable__label {background-color: #d4ebff;}#sk-container-id-3 input.sk-hidden--visually {border: 0;clip: rect(1px 1px 1px 1px);clip: rect(1px, 1px, 1px, 1px);height: 1px;margin: -1px;overflow: hidden;padding: 0;position: absolute;width: 1px;}#sk-container-id-3 div.sk-estimator {font-family: monospace;background-color: #f0f8ff;border: 1px dotted black;border-radius: 0.25em;box-sizing: border-box;margin-bottom: 0.5em;}#sk-container-id-3 div.sk-estimator:hover {background-color: #d4ebff;}#sk-container-id-3 div.sk-parallel-item::after {content: \"\";width: 100%;border-bottom: 1px solid gray;flex-grow: 1;}#sk-container-id-3 div.sk-label:hover label.sk-toggleable__label {background-color: #d4ebff;}#sk-container-id-3 div.sk-serial::before {content: \"\";position: absolute;border-left: 1px solid gray;box-sizing: border-box;top: 0;bottom: 0;left: 50%;z-index: 0;}#sk-container-id-3 div.sk-serial {display: flex;flex-direction: column;align-items: center;background-color: white;padding-right: 0.2em;padding-left: 0.2em;position: relative;}#sk-container-id-3 div.sk-item {position: relative;z-index: 1;}#sk-container-id-3 div.sk-parallel {display: flex;align-items: stretch;justify-content: center;background-color: white;position: relative;}#sk-container-id-3 div.sk-item::before, #sk-container-id-3 div.sk-parallel-item::before {content: \"\";position: absolute;border-left: 1px solid gray;box-sizing: border-box;top: 0;bottom: 0;left: 50%;z-index: -1;}#sk-container-id-3 div.sk-parallel-item {display: flex;flex-direction: column;z-index: 1;position: relative;background-color: white;}#sk-container-id-3 div.sk-parallel-item:first-child::after {align-self: flex-end;width: 50%;}#sk-container-id-3 div.sk-parallel-item:last-child::after {align-self: flex-start;width: 50%;}#sk-container-id-3 div.sk-parallel-item:only-child::after {width: 0;}#sk-container-id-3 div.sk-dashed-wrapped {border: 1px dashed gray;margin: 0 0.4em 0.5em 0.4em;box-sizing: border-box;padding-bottom: 0.4em;background-color: white;}#sk-container-id-3 div.sk-label label {font-family: monospace;font-weight: bold;display: inline-block;line-height: 1.2em;}#sk-container-id-3 div.sk-label-container {text-align: center;}#sk-container-id-3 div.sk-container {/* jupyter's `normalize.less` sets `[hidden] { display: none; }` but bootstrap.min.css set `[hidden] { display: none !important; }` so we also need the `!important` here to be able to override the default hidden behavior on the sphinx rendered scikit-learn.org. See: https://github.com/scikit-learn/scikit-learn/issues/21755 */display: inline-block !important;position: relative;}#sk-container-id-3 div.sk-text-repr-fallback {display: none;}</style><div id=\"sk-container-id-3\" class=\"sk-top-container\"><div class=\"sk-text-repr-fallback\"><pre>RandomForestClassifier(class_weight=&#x27;balanced&#x27;, random_state=123)</pre><b>In a Jupyter environment, please rerun this cell to show the HTML representation or trust the notebook. <br />On GitHub, the HTML representation is unable to render, please try loading this page with nbviewer.org.</b></div><div class=\"sk-container\" hidden><div class=\"sk-item\"><div class=\"sk-estimator sk-toggleable\"><input class=\"sk-toggleable__control sk-hidden--visually\" id=\"sk-estimator-id-3\" type=\"checkbox\" checked><label for=\"sk-estimator-id-3\" class=\"sk-toggleable__label sk-toggleable__label-arrow\">RandomForestClassifier</label><div class=\"sk-toggleable__content\"><pre>RandomForestClassifier(class_weight=&#x27;balanced&#x27;, random_state=123)</pre></div></div></div></div></div>"
            ]
          },
          "metadata": {},
          "execution_count": 106
        }
      ]
    },
    {
      "cell_type": "code",
      "source": [
        "train_pred=clf.predict(X_train)\n",
        "val_preds=clf.predict(X_val)"
      ],
      "metadata": {
        "id": "F6dG2p7qa1Fy"
      },
      "execution_count": 107,
      "outputs": []
    },
    {
      "cell_type": "code",
      "source": [
        "print(\"--Train--\")\n",
        "evaluate_model(y_train, train_pred)\n",
        "print(\"--Test--\")\n",
        "evaluate_model(y_val,val_preds)"
      ],
      "metadata": {
        "colab": {
          "base_uri": "https://localhost:8080/"
        },
        "id": "tIOwALX1bEk9",
        "outputId": "5e6bf71b-2e1d-4eb8-b31f-f812f6e65c58"
      },
      "execution_count": 108,
      "outputs": [
        {
          "output_type": "stream",
          "name": "stdout",
          "text": [
            "--Train--\n",
            "Confusion Matrix \n",
            " [[44997     0]\n",
            " [    0  7498]]\n",
            "Accurcay :  1.0\n",
            "Recall   :  1.0\n",
            "Precision:  1.0\n",
            "F1_score :  1.0\n",
            "--Test--\n",
            "Confusion Matrix \n",
            " [[14982    17]\n",
            " [ 2488    12]]\n",
            "Accurcay :  0.8568489627978741\n",
            "Recall   :  0.0048\n",
            "Precision:  0.41379310344827586\n",
            "F1_score :  0.009489916963226569\n"
          ]
        }
      ]
    },
    {
      "cell_type": "markdown",
      "source": [
        "## Hyper parameter tuning"
      ],
      "metadata": {
        "id": "zAy9iEAhpXux"
      }
    },
    {
      "cell_type": "code",
      "source": [
        "param_grid = {\"n_estimators\" : [50, 100], \n",
        "              \"max_depth\" : [1,5],\n",
        "              \"max_features\" : [3, 5],\n",
        "              \"min_samples_leaf\" : [1, 2, 4], \n",
        "              'criterion':['gini','entropy']}"
      ],
      "metadata": {
        "id": "VcnYomjcbPdc"
      },
      "execution_count": 109,
      "outputs": []
    },
    {
      "cell_type": "code",
      "source": [
        "clf_grid = GridSearchCV(clf,param_grid,cv=5)"
      ],
      "metadata": {
        "id": "Gk7_uws4elkV"
      },
      "execution_count": 110,
      "outputs": []
    },
    {
      "cell_type": "code",
      "source": [
        "clf_grid.fit(X_train,y_train)"
      ],
      "metadata": {
        "colab": {
          "base_uri": "https://localhost:8080/",
          "height": 118
        },
        "id": "r0jgpc7tfFDz",
        "outputId": "4fbc2f8f-991a-4911-c7a6-07b8b4412d37"
      },
      "execution_count": 111,
      "outputs": [
        {
          "output_type": "execute_result",
          "data": {
            "text/plain": [
              "GridSearchCV(cv=5,\n",
              "             estimator=RandomForestClassifier(class_weight='balanced',\n",
              "                                              random_state=123),\n",
              "             param_grid={'criterion': ['gini', 'entropy'], 'max_depth': [1, 5],\n",
              "                         'max_features': [3, 5], 'min_samples_leaf': [1, 2, 4],\n",
              "                         'n_estimators': [50, 100]})"
            ],
            "text/html": [
              "<style>#sk-container-id-4 {color: black;background-color: white;}#sk-container-id-4 pre{padding: 0;}#sk-container-id-4 div.sk-toggleable {background-color: white;}#sk-container-id-4 label.sk-toggleable__label {cursor: pointer;display: block;width: 100%;margin-bottom: 0;padding: 0.3em;box-sizing: border-box;text-align: center;}#sk-container-id-4 label.sk-toggleable__label-arrow:before {content: \"▸\";float: left;margin-right: 0.25em;color: #696969;}#sk-container-id-4 label.sk-toggleable__label-arrow:hover:before {color: black;}#sk-container-id-4 div.sk-estimator:hover label.sk-toggleable__label-arrow:before {color: black;}#sk-container-id-4 div.sk-toggleable__content {max-height: 0;max-width: 0;overflow: hidden;text-align: left;background-color: #f0f8ff;}#sk-container-id-4 div.sk-toggleable__content pre {margin: 0.2em;color: black;border-radius: 0.25em;background-color: #f0f8ff;}#sk-container-id-4 input.sk-toggleable__control:checked~div.sk-toggleable__content {max-height: 200px;max-width: 100%;overflow: auto;}#sk-container-id-4 input.sk-toggleable__control:checked~label.sk-toggleable__label-arrow:before {content: \"▾\";}#sk-container-id-4 div.sk-estimator input.sk-toggleable__control:checked~label.sk-toggleable__label {background-color: #d4ebff;}#sk-container-id-4 div.sk-label input.sk-toggleable__control:checked~label.sk-toggleable__label {background-color: #d4ebff;}#sk-container-id-4 input.sk-hidden--visually {border: 0;clip: rect(1px 1px 1px 1px);clip: rect(1px, 1px, 1px, 1px);height: 1px;margin: -1px;overflow: hidden;padding: 0;position: absolute;width: 1px;}#sk-container-id-4 div.sk-estimator {font-family: monospace;background-color: #f0f8ff;border: 1px dotted black;border-radius: 0.25em;box-sizing: border-box;margin-bottom: 0.5em;}#sk-container-id-4 div.sk-estimator:hover {background-color: #d4ebff;}#sk-container-id-4 div.sk-parallel-item::after {content: \"\";width: 100%;border-bottom: 1px solid gray;flex-grow: 1;}#sk-container-id-4 div.sk-label:hover label.sk-toggleable__label {background-color: #d4ebff;}#sk-container-id-4 div.sk-serial::before {content: \"\";position: absolute;border-left: 1px solid gray;box-sizing: border-box;top: 0;bottom: 0;left: 50%;z-index: 0;}#sk-container-id-4 div.sk-serial {display: flex;flex-direction: column;align-items: center;background-color: white;padding-right: 0.2em;padding-left: 0.2em;position: relative;}#sk-container-id-4 div.sk-item {position: relative;z-index: 1;}#sk-container-id-4 div.sk-parallel {display: flex;align-items: stretch;justify-content: center;background-color: white;position: relative;}#sk-container-id-4 div.sk-item::before, #sk-container-id-4 div.sk-parallel-item::before {content: \"\";position: absolute;border-left: 1px solid gray;box-sizing: border-box;top: 0;bottom: 0;left: 50%;z-index: -1;}#sk-container-id-4 div.sk-parallel-item {display: flex;flex-direction: column;z-index: 1;position: relative;background-color: white;}#sk-container-id-4 div.sk-parallel-item:first-child::after {align-self: flex-end;width: 50%;}#sk-container-id-4 div.sk-parallel-item:last-child::after {align-self: flex-start;width: 50%;}#sk-container-id-4 div.sk-parallel-item:only-child::after {width: 0;}#sk-container-id-4 div.sk-dashed-wrapped {border: 1px dashed gray;margin: 0 0.4em 0.5em 0.4em;box-sizing: border-box;padding-bottom: 0.4em;background-color: white;}#sk-container-id-4 div.sk-label label {font-family: monospace;font-weight: bold;display: inline-block;line-height: 1.2em;}#sk-container-id-4 div.sk-label-container {text-align: center;}#sk-container-id-4 div.sk-container {/* jupyter's `normalize.less` sets `[hidden] { display: none; }` but bootstrap.min.css set `[hidden] { display: none !important; }` so we also need the `!important` here to be able to override the default hidden behavior on the sphinx rendered scikit-learn.org. See: https://github.com/scikit-learn/scikit-learn/issues/21755 */display: inline-block !important;position: relative;}#sk-container-id-4 div.sk-text-repr-fallback {display: none;}</style><div id=\"sk-container-id-4\" class=\"sk-top-container\"><div class=\"sk-text-repr-fallback\"><pre>GridSearchCV(cv=5,\n",
              "             estimator=RandomForestClassifier(class_weight=&#x27;balanced&#x27;,\n",
              "                                              random_state=123),\n",
              "             param_grid={&#x27;criterion&#x27;: [&#x27;gini&#x27;, &#x27;entropy&#x27;], &#x27;max_depth&#x27;: [1, 5],\n",
              "                         &#x27;max_features&#x27;: [3, 5], &#x27;min_samples_leaf&#x27;: [1, 2, 4],\n",
              "                         &#x27;n_estimators&#x27;: [50, 100]})</pre><b>In a Jupyter environment, please rerun this cell to show the HTML representation or trust the notebook. <br />On GitHub, the HTML representation is unable to render, please try loading this page with nbviewer.org.</b></div><div class=\"sk-container\" hidden><div class=\"sk-item sk-dashed-wrapped\"><div class=\"sk-label-container\"><div class=\"sk-label sk-toggleable\"><input class=\"sk-toggleable__control sk-hidden--visually\" id=\"sk-estimator-id-4\" type=\"checkbox\" ><label for=\"sk-estimator-id-4\" class=\"sk-toggleable__label sk-toggleable__label-arrow\">GridSearchCV</label><div class=\"sk-toggleable__content\"><pre>GridSearchCV(cv=5,\n",
              "             estimator=RandomForestClassifier(class_weight=&#x27;balanced&#x27;,\n",
              "                                              random_state=123),\n",
              "             param_grid={&#x27;criterion&#x27;: [&#x27;gini&#x27;, &#x27;entropy&#x27;], &#x27;max_depth&#x27;: [1, 5],\n",
              "                         &#x27;max_features&#x27;: [3, 5], &#x27;min_samples_leaf&#x27;: [1, 2, 4],\n",
              "                         &#x27;n_estimators&#x27;: [50, 100]})</pre></div></div></div><div class=\"sk-parallel\"><div class=\"sk-parallel-item\"><div class=\"sk-item\"><div class=\"sk-label-container\"><div class=\"sk-label sk-toggleable\"><input class=\"sk-toggleable__control sk-hidden--visually\" id=\"sk-estimator-id-5\" type=\"checkbox\" ><label for=\"sk-estimator-id-5\" class=\"sk-toggleable__label sk-toggleable__label-arrow\">estimator: RandomForestClassifier</label><div class=\"sk-toggleable__content\"><pre>RandomForestClassifier(class_weight=&#x27;balanced&#x27;, random_state=123)</pre></div></div></div><div class=\"sk-serial\"><div class=\"sk-item\"><div class=\"sk-estimator sk-toggleable\"><input class=\"sk-toggleable__control sk-hidden--visually\" id=\"sk-estimator-id-6\" type=\"checkbox\" ><label for=\"sk-estimator-id-6\" class=\"sk-toggleable__label sk-toggleable__label-arrow\">RandomForestClassifier</label><div class=\"sk-toggleable__content\"><pre>RandomForestClassifier(class_weight=&#x27;balanced&#x27;, random_state=123)</pre></div></div></div></div></div></div></div></div></div></div>"
            ]
          },
          "metadata": {},
          "execution_count": 111
        }
      ]
    },
    {
      "cell_type": "code",
      "source": [
        "clf_grid.best_params_"
      ],
      "metadata": {
        "colab": {
          "base_uri": "https://localhost:8080/"
        },
        "id": "LuMRmqOOE3jy",
        "outputId": "40eabee6-b836-4cbc-9ec0-2077ac653dae"
      },
      "execution_count": 112,
      "outputs": [
        {
          "output_type": "execute_result",
          "data": {
            "text/plain": [
              "{'criterion': 'entropy',\n",
              " 'max_depth': 5,\n",
              " 'max_features': 3,\n",
              " 'min_samples_leaf': 4,\n",
              " 'n_estimators': 50}"
            ]
          },
          "metadata": {},
          "execution_count": 112
        }
      ]
    },
    {
      "cell_type": "code",
      "source": [
        "train_pred = clf_grid.predict(X_train)\n",
        "val_pred = clf_grid.predict(X_val)"
      ],
      "metadata": {
        "id": "DKaC9pkdfJdh"
      },
      "execution_count": 113,
      "outputs": []
    },
    {
      "cell_type": "code",
      "source": [
        "print(\"-------Train------\")\n",
        "evaluate_model(y_train,train_pred)\n",
        "print(\"-----Validation-----\")\n",
        "evaluate_model(y_val,val_pred)"
      ],
      "metadata": {
        "colab": {
          "base_uri": "https://localhost:8080/"
        },
        "id": "Us3jvRyffZfW",
        "outputId": "a37983a2-5ce0-4190-e354-33404f8363ee"
      },
      "execution_count": 114,
      "outputs": [
        {
          "output_type": "stream",
          "name": "stdout",
          "text": [
            "-------Train------\n",
            "Confusion Matrix \n",
            " [[27680 17317]\n",
            " [ 2637  4861]]\n",
            "Accurcay :  0.6198876083436518\n",
            "Recall   :  0.6483062149906642\n",
            "Precision:  0.2191811705293534\n",
            "F1_score :  0.32760479849036256\n",
            "-----Validation-----\n",
            "Confusion Matrix \n",
            " [[9048 5951]\n",
            " [1005 1495]]\n",
            "Accurcay :  0.6024915709469113\n",
            "Recall   :  0.598\n",
            "Precision:  0.20077894171367178\n",
            "F1_score :  0.30062336617735774\n"
          ]
        }
      ]
    },
    {
      "cell_type": "markdown",
      "source": [
        "## SVM"
      ],
      "metadata": {
        "id": "l84ozG14Sa72"
      }
    },
    {
      "cell_type": "code",
      "source": [
        "from sklearn.svm import SVC\n",
        "linear_svm = SVC(kernel='linear',C=1,class_weight='balanced')\n",
        "linear_svm.fit(X_train,y_train)\n",
        "\n",
        "#predictions\n",
        "train_preds = linear_svm.predict(X_train)\n",
        "val_preds = linear_svm.predict(X_val)"
      ],
      "metadata": {
        "id": "F8AMgCtCgq0M"
      },
      "execution_count": 115,
      "outputs": []
    },
    {
      "cell_type": "code",
      "source": [
        "print(\"-------Train------\")\n",
        "evaluate_model(y_train,train_preds)\n",
        "print(\"-----Validation-----\")\n",
        "evaluate_model(y_val,val_preds)"
      ],
      "metadata": {
        "colab": {
          "base_uri": "https://localhost:8080/"
        },
        "id": "ZAJB8TaNysEN",
        "outputId": "e8a4e115-17cc-483d-da75-96a31dab28e1"
      },
      "execution_count": 116,
      "outputs": [
        {
          "output_type": "stream",
          "name": "stdout",
          "text": [
            "-------Train------\n",
            "Confusion Matrix \n",
            " [[27598 17399]\n",
            " [ 2793  4705]]\n",
            "Accurcay :  0.6153538432231641\n",
            "Recall   :  0.6275006668444919\n",
            "Precision:  0.2128574013753167\n",
            "F1_score :  0.31788392676170535\n",
            "-----Validation-----\n",
            "Confusion Matrix \n",
            " [[9139 5860]\n",
            " [1010 1490]]\n",
            "Accurcay :  0.6074061374935711\n",
            "Recall   :  0.596\n",
            "Precision:  0.20272108843537415\n",
            "F1_score :  0.30253807106598984\n"
          ]
        }
      ]
    },
    {
      "cell_type": "markdown",
      "source": [
        "## XGBoost"
      ],
      "metadata": {
        "id": "bfsPDoZSSfXz"
      }
    },
    {
      "cell_type": "code",
      "source": [
        "from xgboost import XGBClassifier\n",
        "from sklearn.utils import compute_sample_weight\n",
        "weights = compute_sample_weight('balanced',y_train)\n",
        "clf_xgb = XGBClassifier(scale_pos_weight=6)\n",
        "clf_xgb.fit(X_train, y_train,sample_weight=weights)\n",
        "\n",
        "pred_train = clf_xgb.predict(X_train)\n",
        "pred_val = clf_xgb.predict(X_val)"
      ],
      "metadata": {
        "id": "OSKsIrJD6YWd"
      },
      "execution_count": 117,
      "outputs": []
    },
    {
      "cell_type": "code",
      "source": [
        "print(\"-------Train------\")\n",
        "evaluate_model(y_train,pred_train)\n",
        "print(\"-----Validation-----\")\n",
        "evaluate_model(y_val,pred_val)"
      ],
      "metadata": {
        "colab": {
          "base_uri": "https://localhost:8080/"
        },
        "id": "O753QI6l6ZGt",
        "outputId": "1086180a-27b6-495d-cbd4-42a52d94e1d4"
      },
      "execution_count": 118,
      "outputs": [
        {
          "output_type": "stream",
          "name": "stdout",
          "text": [
            "-------Train------\n",
            "Confusion Matrix \n",
            " [[12393 32604]\n",
            " [    0  7498]]\n",
            "Accurcay :  0.37891227735974853\n",
            "Recall   :  1.0\n",
            "Precision:  0.18697321829335195\n",
            "F1_score :  0.3150420168067227\n",
            "-----Validation-----\n",
            "Confusion Matrix \n",
            " [[ 3504 11495]\n",
            " [  322  2178]]\n",
            "Accurcay :  0.32470426881536085\n",
            "Recall   :  0.8712\n",
            "Precision:  0.1592920353982301\n",
            "F1_score :  0.26933778519755147\n"
          ]
        }
      ]
    },
    {
      "cell_type": "markdown",
      "source": [
        "## Hyper Parametric Tuning"
      ],
      "metadata": {
        "id": "PaFHMio0SmZJ"
      }
    },
    {
      "cell_type": "code",
      "source": [
        "XGB = XGBClassifier(n_jobs=-1)\n",
        " \n",
        "# Use a grid over parameters of interest\n",
        "param_grid = {\n",
        "    'colsample_bytree': np.linspace(0.6, 0.8,2),\n",
        "    'n_estimators': [50, 100,150],\n",
        "    'max_depth': [5, 6,7]}\n",
        "\n",
        "CV_XGB = GridSearchCV(estimator=XGB, param_grid=param_grid, cv=3)"
      ],
      "metadata": {
        "id": "RQedTo2P7h-C"
      },
      "execution_count": 119,
      "outputs": []
    },
    {
      "cell_type": "code",
      "source": [
        "CV_XGB.fit(X=X_train, y=y_train,sample_weight=weights)"
      ],
      "metadata": {
        "colab": {
          "base_uri": "https://localhost:8080/",
          "height": 118
        },
        "id": "UPj8n-V0_W21",
        "outputId": "0af4679f-cc67-40f2-c408-4fc2f3a00e40"
      },
      "execution_count": 120,
      "outputs": [
        {
          "output_type": "execute_result",
          "data": {
            "text/plain": [
              "GridSearchCV(cv=3,\n",
              "             estimator=XGBClassifier(base_score=None, booster=None,\n",
              "                                     callbacks=None, colsample_bylevel=None,\n",
              "                                     colsample_bynode=None,\n",
              "                                     colsample_bytree=None,\n",
              "                                     early_stopping_rounds=None,\n",
              "                                     enable_categorical=False, eval_metric=None,\n",
              "                                     feature_types=None, gamma=None,\n",
              "                                     gpu_id=None, grow_policy=None,\n",
              "                                     importance_type=None,\n",
              "                                     interaction_constraints=None,\n",
              "                                     learning_rate=None,...in=None,\n",
              "                                     max_cat_threshold=None,\n",
              "                                     max_cat_to_onehot=None,\n",
              "                                     max_delta_step=None, max_depth=None,\n",
              "                                     max_leaves=None, min_child_weight=None,\n",
              "                                     missing=nan, monotone_constraints=None,\n",
              "                                     n_estimators=100, n_jobs=-1,\n",
              "                                     num_parallel_tree=None, predictor=None,\n",
              "                                     random_state=None, ...),\n",
              "             param_grid={'colsample_bytree': array([0.6, 0.8]),\n",
              "                         'max_depth': [5, 6, 7],\n",
              "                         'n_estimators': [50, 100, 150]})"
            ],
            "text/html": [
              "<style>#sk-container-id-5 {color: black;background-color: white;}#sk-container-id-5 pre{padding: 0;}#sk-container-id-5 div.sk-toggleable {background-color: white;}#sk-container-id-5 label.sk-toggleable__label {cursor: pointer;display: block;width: 100%;margin-bottom: 0;padding: 0.3em;box-sizing: border-box;text-align: center;}#sk-container-id-5 label.sk-toggleable__label-arrow:before {content: \"▸\";float: left;margin-right: 0.25em;color: #696969;}#sk-container-id-5 label.sk-toggleable__label-arrow:hover:before {color: black;}#sk-container-id-5 div.sk-estimator:hover label.sk-toggleable__label-arrow:before {color: black;}#sk-container-id-5 div.sk-toggleable__content {max-height: 0;max-width: 0;overflow: hidden;text-align: left;background-color: #f0f8ff;}#sk-container-id-5 div.sk-toggleable__content pre {margin: 0.2em;color: black;border-radius: 0.25em;background-color: #f0f8ff;}#sk-container-id-5 input.sk-toggleable__control:checked~div.sk-toggleable__content {max-height: 200px;max-width: 100%;overflow: auto;}#sk-container-id-5 input.sk-toggleable__control:checked~label.sk-toggleable__label-arrow:before {content: \"▾\";}#sk-container-id-5 div.sk-estimator input.sk-toggleable__control:checked~label.sk-toggleable__label {background-color: #d4ebff;}#sk-container-id-5 div.sk-label input.sk-toggleable__control:checked~label.sk-toggleable__label {background-color: #d4ebff;}#sk-container-id-5 input.sk-hidden--visually {border: 0;clip: rect(1px 1px 1px 1px);clip: rect(1px, 1px, 1px, 1px);height: 1px;margin: -1px;overflow: hidden;padding: 0;position: absolute;width: 1px;}#sk-container-id-5 div.sk-estimator {font-family: monospace;background-color: #f0f8ff;border: 1px dotted black;border-radius: 0.25em;box-sizing: border-box;margin-bottom: 0.5em;}#sk-container-id-5 div.sk-estimator:hover {background-color: #d4ebff;}#sk-container-id-5 div.sk-parallel-item::after {content: \"\";width: 100%;border-bottom: 1px solid gray;flex-grow: 1;}#sk-container-id-5 div.sk-label:hover label.sk-toggleable__label {background-color: #d4ebff;}#sk-container-id-5 div.sk-serial::before {content: \"\";position: absolute;border-left: 1px solid gray;box-sizing: border-box;top: 0;bottom: 0;left: 50%;z-index: 0;}#sk-container-id-5 div.sk-serial {display: flex;flex-direction: column;align-items: center;background-color: white;padding-right: 0.2em;padding-left: 0.2em;position: relative;}#sk-container-id-5 div.sk-item {position: relative;z-index: 1;}#sk-container-id-5 div.sk-parallel {display: flex;align-items: stretch;justify-content: center;background-color: white;position: relative;}#sk-container-id-5 div.sk-item::before, #sk-container-id-5 div.sk-parallel-item::before {content: \"\";position: absolute;border-left: 1px solid gray;box-sizing: border-box;top: 0;bottom: 0;left: 50%;z-index: -1;}#sk-container-id-5 div.sk-parallel-item {display: flex;flex-direction: column;z-index: 1;position: relative;background-color: white;}#sk-container-id-5 div.sk-parallel-item:first-child::after {align-self: flex-end;width: 50%;}#sk-container-id-5 div.sk-parallel-item:last-child::after {align-self: flex-start;width: 50%;}#sk-container-id-5 div.sk-parallel-item:only-child::after {width: 0;}#sk-container-id-5 div.sk-dashed-wrapped {border: 1px dashed gray;margin: 0 0.4em 0.5em 0.4em;box-sizing: border-box;padding-bottom: 0.4em;background-color: white;}#sk-container-id-5 div.sk-label label {font-family: monospace;font-weight: bold;display: inline-block;line-height: 1.2em;}#sk-container-id-5 div.sk-label-container {text-align: center;}#sk-container-id-5 div.sk-container {/* jupyter's `normalize.less` sets `[hidden] { display: none; }` but bootstrap.min.css set `[hidden] { display: none !important; }` so we also need the `!important` here to be able to override the default hidden behavior on the sphinx rendered scikit-learn.org. See: https://github.com/scikit-learn/scikit-learn/issues/21755 */display: inline-block !important;position: relative;}#sk-container-id-5 div.sk-text-repr-fallback {display: none;}</style><div id=\"sk-container-id-5\" class=\"sk-top-container\"><div class=\"sk-text-repr-fallback\"><pre>GridSearchCV(cv=3,\n",
              "             estimator=XGBClassifier(base_score=None, booster=None,\n",
              "                                     callbacks=None, colsample_bylevel=None,\n",
              "                                     colsample_bynode=None,\n",
              "                                     colsample_bytree=None,\n",
              "                                     early_stopping_rounds=None,\n",
              "                                     enable_categorical=False, eval_metric=None,\n",
              "                                     feature_types=None, gamma=None,\n",
              "                                     gpu_id=None, grow_policy=None,\n",
              "                                     importance_type=None,\n",
              "                                     interaction_constraints=None,\n",
              "                                     learning_rate=None,...in=None,\n",
              "                                     max_cat_threshold=None,\n",
              "                                     max_cat_to_onehot=None,\n",
              "                                     max_delta_step=None, max_depth=None,\n",
              "                                     max_leaves=None, min_child_weight=None,\n",
              "                                     missing=nan, monotone_constraints=None,\n",
              "                                     n_estimators=100, n_jobs=-1,\n",
              "                                     num_parallel_tree=None, predictor=None,\n",
              "                                     random_state=None, ...),\n",
              "             param_grid={&#x27;colsample_bytree&#x27;: array([0.6, 0.8]),\n",
              "                         &#x27;max_depth&#x27;: [5, 6, 7],\n",
              "                         &#x27;n_estimators&#x27;: [50, 100, 150]})</pre><b>In a Jupyter environment, please rerun this cell to show the HTML representation or trust the notebook. <br />On GitHub, the HTML representation is unable to render, please try loading this page with nbviewer.org.</b></div><div class=\"sk-container\" hidden><div class=\"sk-item sk-dashed-wrapped\"><div class=\"sk-label-container\"><div class=\"sk-label sk-toggleable\"><input class=\"sk-toggleable__control sk-hidden--visually\" id=\"sk-estimator-id-7\" type=\"checkbox\" ><label for=\"sk-estimator-id-7\" class=\"sk-toggleable__label sk-toggleable__label-arrow\">GridSearchCV</label><div class=\"sk-toggleable__content\"><pre>GridSearchCV(cv=3,\n",
              "             estimator=XGBClassifier(base_score=None, booster=None,\n",
              "                                     callbacks=None, colsample_bylevel=None,\n",
              "                                     colsample_bynode=None,\n",
              "                                     colsample_bytree=None,\n",
              "                                     early_stopping_rounds=None,\n",
              "                                     enable_categorical=False, eval_metric=None,\n",
              "                                     feature_types=None, gamma=None,\n",
              "                                     gpu_id=None, grow_policy=None,\n",
              "                                     importance_type=None,\n",
              "                                     interaction_constraints=None,\n",
              "                                     learning_rate=None,...in=None,\n",
              "                                     max_cat_threshold=None,\n",
              "                                     max_cat_to_onehot=None,\n",
              "                                     max_delta_step=None, max_depth=None,\n",
              "                                     max_leaves=None, min_child_weight=None,\n",
              "                                     missing=nan, monotone_constraints=None,\n",
              "                                     n_estimators=100, n_jobs=-1,\n",
              "                                     num_parallel_tree=None, predictor=None,\n",
              "                                     random_state=None, ...),\n",
              "             param_grid={&#x27;colsample_bytree&#x27;: array([0.6, 0.8]),\n",
              "                         &#x27;max_depth&#x27;: [5, 6, 7],\n",
              "                         &#x27;n_estimators&#x27;: [50, 100, 150]})</pre></div></div></div><div class=\"sk-parallel\"><div class=\"sk-parallel-item\"><div class=\"sk-item\"><div class=\"sk-label-container\"><div class=\"sk-label sk-toggleable\"><input class=\"sk-toggleable__control sk-hidden--visually\" id=\"sk-estimator-id-8\" type=\"checkbox\" ><label for=\"sk-estimator-id-8\" class=\"sk-toggleable__label sk-toggleable__label-arrow\">estimator: XGBClassifier</label><div class=\"sk-toggleable__content\"><pre>XGBClassifier(base_score=None, booster=None, callbacks=None,\n",
              "              colsample_bylevel=None, colsample_bynode=None,\n",
              "              colsample_bytree=None, early_stopping_rounds=None,\n",
              "              enable_categorical=False, eval_metric=None, feature_types=None,\n",
              "              gamma=None, gpu_id=None, grow_policy=None, importance_type=None,\n",
              "              interaction_constraints=None, learning_rate=None, max_bin=None,\n",
              "              max_cat_threshold=None, max_cat_to_onehot=None,\n",
              "              max_delta_step=None, max_depth=None, max_leaves=None,\n",
              "              min_child_weight=None, missing=nan, monotone_constraints=None,\n",
              "              n_estimators=100, n_jobs=-1, num_parallel_tree=None,\n",
              "              predictor=None, random_state=None, ...)</pre></div></div></div><div class=\"sk-serial\"><div class=\"sk-item\"><div class=\"sk-estimator sk-toggleable\"><input class=\"sk-toggleable__control sk-hidden--visually\" id=\"sk-estimator-id-9\" type=\"checkbox\" ><label for=\"sk-estimator-id-9\" class=\"sk-toggleable__label sk-toggleable__label-arrow\">XGBClassifier</label><div class=\"sk-toggleable__content\"><pre>XGBClassifier(base_score=None, booster=None, callbacks=None,\n",
              "              colsample_bylevel=None, colsample_bynode=None,\n",
              "              colsample_bytree=None, early_stopping_rounds=None,\n",
              "              enable_categorical=False, eval_metric=None, feature_types=None,\n",
              "              gamma=None, gpu_id=None, grow_policy=None, importance_type=None,\n",
              "              interaction_constraints=None, learning_rate=None, max_bin=None,\n",
              "              max_cat_threshold=None, max_cat_to_onehot=None,\n",
              "              max_delta_step=None, max_depth=None, max_leaves=None,\n",
              "              min_child_weight=None, missing=nan, monotone_constraints=None,\n",
              "              n_estimators=100, n_jobs=-1, num_parallel_tree=None,\n",
              "              predictor=None, random_state=None, ...)</pre></div></div></div></div></div></div></div></div></div></div>"
            ]
          },
          "metadata": {},
          "execution_count": 120
        }
      ]
    },
    {
      "cell_type": "code",
      "source": [
        "best_xgb_model = CV_XGB.best_estimator_"
      ],
      "metadata": {
        "id": "sVBIxAO5_s8E"
      },
      "execution_count": 121,
      "outputs": []
    },
    {
      "cell_type": "code",
      "source": [
        "print(CV_XGB.best_score_, CV_XGB.best_params_)"
      ],
      "metadata": {
        "colab": {
          "base_uri": "https://localhost:8080/"
        },
        "id": "e3NfCDvKA_Iq",
        "outputId": "3a354b67-9ac0-4108-c091-9dd42f87959a"
      },
      "execution_count": 122,
      "outputs": [
        {
          "output_type": "stream",
          "name": "stdout",
          "text": [
            "0.7506430343118867 {'colsample_bytree': 0.8, 'max_depth': 7, 'n_estimators': 150}\n"
          ]
        }
      ]
    },
    {
      "cell_type": "code",
      "source": [
        "best_xgb_model"
      ],
      "metadata": {
        "colab": {
          "base_uri": "https://localhost:8080/",
          "height": 248
        },
        "id": "fDIQ8_MzBlpl",
        "outputId": "4d904592-faf8-4971-d065-c3526a353c54"
      },
      "execution_count": 123,
      "outputs": [
        {
          "output_type": "execute_result",
          "data": {
            "text/plain": [
              "XGBClassifier(base_score=None, booster=None, callbacks=None,\n",
              "              colsample_bylevel=None, colsample_bynode=None,\n",
              "              colsample_bytree=0.8, early_stopping_rounds=None,\n",
              "              enable_categorical=False, eval_metric=None, feature_types=None,\n",
              "              gamma=None, gpu_id=None, grow_policy=None, importance_type=None,\n",
              "              interaction_constraints=None, learning_rate=None, max_bin=None,\n",
              "              max_cat_threshold=None, max_cat_to_onehot=None,\n",
              "              max_delta_step=None, max_depth=7, max_leaves=None,\n",
              "              min_child_weight=None, missing=nan, monotone_constraints=None,\n",
              "              n_estimators=150, n_jobs=-1, num_parallel_tree=None,\n",
              "              predictor=None, random_state=None, ...)"
            ],
            "text/html": [
              "<style>#sk-container-id-6 {color: black;background-color: white;}#sk-container-id-6 pre{padding: 0;}#sk-container-id-6 div.sk-toggleable {background-color: white;}#sk-container-id-6 label.sk-toggleable__label {cursor: pointer;display: block;width: 100%;margin-bottom: 0;padding: 0.3em;box-sizing: border-box;text-align: center;}#sk-container-id-6 label.sk-toggleable__label-arrow:before {content: \"▸\";float: left;margin-right: 0.25em;color: #696969;}#sk-container-id-6 label.sk-toggleable__label-arrow:hover:before {color: black;}#sk-container-id-6 div.sk-estimator:hover label.sk-toggleable__label-arrow:before {color: black;}#sk-container-id-6 div.sk-toggleable__content {max-height: 0;max-width: 0;overflow: hidden;text-align: left;background-color: #f0f8ff;}#sk-container-id-6 div.sk-toggleable__content pre {margin: 0.2em;color: black;border-radius: 0.25em;background-color: #f0f8ff;}#sk-container-id-6 input.sk-toggleable__control:checked~div.sk-toggleable__content {max-height: 200px;max-width: 100%;overflow: auto;}#sk-container-id-6 input.sk-toggleable__control:checked~label.sk-toggleable__label-arrow:before {content: \"▾\";}#sk-container-id-6 div.sk-estimator input.sk-toggleable__control:checked~label.sk-toggleable__label {background-color: #d4ebff;}#sk-container-id-6 div.sk-label input.sk-toggleable__control:checked~label.sk-toggleable__label {background-color: #d4ebff;}#sk-container-id-6 input.sk-hidden--visually {border: 0;clip: rect(1px 1px 1px 1px);clip: rect(1px, 1px, 1px, 1px);height: 1px;margin: -1px;overflow: hidden;padding: 0;position: absolute;width: 1px;}#sk-container-id-6 div.sk-estimator {font-family: monospace;background-color: #f0f8ff;border: 1px dotted black;border-radius: 0.25em;box-sizing: border-box;margin-bottom: 0.5em;}#sk-container-id-6 div.sk-estimator:hover {background-color: #d4ebff;}#sk-container-id-6 div.sk-parallel-item::after {content: \"\";width: 100%;border-bottom: 1px solid gray;flex-grow: 1;}#sk-container-id-6 div.sk-label:hover label.sk-toggleable__label {background-color: #d4ebff;}#sk-container-id-6 div.sk-serial::before {content: \"\";position: absolute;border-left: 1px solid gray;box-sizing: border-box;top: 0;bottom: 0;left: 50%;z-index: 0;}#sk-container-id-6 div.sk-serial {display: flex;flex-direction: column;align-items: center;background-color: white;padding-right: 0.2em;padding-left: 0.2em;position: relative;}#sk-container-id-6 div.sk-item {position: relative;z-index: 1;}#sk-container-id-6 div.sk-parallel {display: flex;align-items: stretch;justify-content: center;background-color: white;position: relative;}#sk-container-id-6 div.sk-item::before, #sk-container-id-6 div.sk-parallel-item::before {content: \"\";position: absolute;border-left: 1px solid gray;box-sizing: border-box;top: 0;bottom: 0;left: 50%;z-index: -1;}#sk-container-id-6 div.sk-parallel-item {display: flex;flex-direction: column;z-index: 1;position: relative;background-color: white;}#sk-container-id-6 div.sk-parallel-item:first-child::after {align-self: flex-end;width: 50%;}#sk-container-id-6 div.sk-parallel-item:last-child::after {align-self: flex-start;width: 50%;}#sk-container-id-6 div.sk-parallel-item:only-child::after {width: 0;}#sk-container-id-6 div.sk-dashed-wrapped {border: 1px dashed gray;margin: 0 0.4em 0.5em 0.4em;box-sizing: border-box;padding-bottom: 0.4em;background-color: white;}#sk-container-id-6 div.sk-label label {font-family: monospace;font-weight: bold;display: inline-block;line-height: 1.2em;}#sk-container-id-6 div.sk-label-container {text-align: center;}#sk-container-id-6 div.sk-container {/* jupyter's `normalize.less` sets `[hidden] { display: none; }` but bootstrap.min.css set `[hidden] { display: none !important; }` so we also need the `!important` here to be able to override the default hidden behavior on the sphinx rendered scikit-learn.org. See: https://github.com/scikit-learn/scikit-learn/issues/21755 */display: inline-block !important;position: relative;}#sk-container-id-6 div.sk-text-repr-fallback {display: none;}</style><div id=\"sk-container-id-6\" class=\"sk-top-container\"><div class=\"sk-text-repr-fallback\"><pre>XGBClassifier(base_score=None, booster=None, callbacks=None,\n",
              "              colsample_bylevel=None, colsample_bynode=None,\n",
              "              colsample_bytree=0.8, early_stopping_rounds=None,\n",
              "              enable_categorical=False, eval_metric=None, feature_types=None,\n",
              "              gamma=None, gpu_id=None, grow_policy=None, importance_type=None,\n",
              "              interaction_constraints=None, learning_rate=None, max_bin=None,\n",
              "              max_cat_threshold=None, max_cat_to_onehot=None,\n",
              "              max_delta_step=None, max_depth=7, max_leaves=None,\n",
              "              min_child_weight=None, missing=nan, monotone_constraints=None,\n",
              "              n_estimators=150, n_jobs=-1, num_parallel_tree=None,\n",
              "              predictor=None, random_state=None, ...)</pre><b>In a Jupyter environment, please rerun this cell to show the HTML representation or trust the notebook. <br />On GitHub, the HTML representation is unable to render, please try loading this page with nbviewer.org.</b></div><div class=\"sk-container\" hidden><div class=\"sk-item\"><div class=\"sk-estimator sk-toggleable\"><input class=\"sk-toggleable__control sk-hidden--visually\" id=\"sk-estimator-id-10\" type=\"checkbox\" checked><label for=\"sk-estimator-id-10\" class=\"sk-toggleable__label sk-toggleable__label-arrow\">XGBClassifier</label><div class=\"sk-toggleable__content\"><pre>XGBClassifier(base_score=None, booster=None, callbacks=None,\n",
              "              colsample_bylevel=None, colsample_bynode=None,\n",
              "              colsample_bytree=0.8, early_stopping_rounds=None,\n",
              "              enable_categorical=False, eval_metric=None, feature_types=None,\n",
              "              gamma=None, gpu_id=None, grow_policy=None, importance_type=None,\n",
              "              interaction_constraints=None, learning_rate=None, max_bin=None,\n",
              "              max_cat_threshold=None, max_cat_to_onehot=None,\n",
              "              max_delta_step=None, max_depth=7, max_leaves=None,\n",
              "              min_child_weight=None, missing=nan, monotone_constraints=None,\n",
              "              n_estimators=150, n_jobs=-1, num_parallel_tree=None,\n",
              "              predictor=None, random_state=None, ...)</pre></div></div></div></div></div>"
            ]
          },
          "metadata": {},
          "execution_count": 123
        }
      ]
    },
    {
      "cell_type": "code",
      "source": [
        "pred_train = best_xgb_model.predict(X_train)\n",
        "pred_val = best_xgb_model.predict(X_val)"
      ],
      "metadata": {
        "id": "sHHjNDI8BzDE"
      },
      "execution_count": 124,
      "outputs": []
    },
    {
      "cell_type": "code",
      "source": [
        "print(\"-------Train------\")\n",
        "evaluate_model(y_train,pred_train)\n",
        "print(\"-----Validation-----\")\n",
        "evaluate_model(y_val,pred_val)"
      ],
      "metadata": {
        "colab": {
          "base_uri": "https://localhost:8080/"
        },
        "id": "EYcNgfyXB99X",
        "outputId": "3f2a0e58-3fb2-4db7-9c72-d255e4881af8"
      },
      "execution_count": 125,
      "outputs": [
        {
          "output_type": "stream",
          "name": "stdout",
          "text": [
            "-------Train------\n",
            "Confusion Matrix \n",
            " [[38806  6191]\n",
            " [  520  6978]]\n",
            "Accurcay :  0.8721592532622154\n",
            "Recall   :  0.9306481728460922\n",
            "Precision:  0.5298807806211557\n",
            "F1_score :  0.6752794309769198\n",
            "-----Validation-----\n",
            "Confusion Matrix \n",
            " [[11600  3399]\n",
            " [ 1571   929]]\n",
            "Accurcay :  0.7159837705011715\n",
            "Recall   :  0.3716\n",
            "Precision:  0.21464879852125693\n",
            "F1_score :  0.27211482132396014\n"
          ]
        }
      ]
    },
    {
      "cell_type": "markdown",
      "source": [
        "## Stacking"
      ],
      "metadata": {
        "id": "RqxfHuIGGTA_"
      }
    },
    {
      "cell_type": "code",
      "source": [
        "from sklearn.ensemble import VotingClassifier"
      ],
      "metadata": {
        "id": "qkpNwcFEKE8q"
      },
      "execution_count": 126,
      "outputs": []
    },
    {
      "cell_type": "code",
      "source": [
        "voting_clf = VotingClassifier(estimators=[('clf_LR', logistic_model), ('clf_RF', clf_grid), ('clf_svm', linear_svm)])"
      ],
      "metadata": {
        "id": "280NLsYVVvxg"
      },
      "execution_count": 127,
      "outputs": []
    },
    {
      "cell_type": "code",
      "source": [
        "voting_clf"
      ],
      "metadata": {
        "colab": {
          "base_uri": "https://localhost:8080/",
          "height": 151
        },
        "id": "EZX8BW4DYMUD",
        "outputId": "ab3de22d-09b7-4ee9-d97f-06b0729a3223"
      },
      "execution_count": 128,
      "outputs": [
        {
          "output_type": "execute_result",
          "data": {
            "text/plain": [
              "VotingClassifier(estimators=[('clf_LR',\n",
              "                              LogisticRegression(class_weight='balanced',\n",
              "                                                 penalty='l1', solver='saga')),\n",
              "                             ('clf_RF',\n",
              "                              GridSearchCV(cv=5,\n",
              "                                           estimator=RandomForestClassifier(class_weight='balanced',\n",
              "                                                                            random_state=123),\n",
              "                                           param_grid={'criterion': ['gini',\n",
              "                                                                     'entropy'],\n",
              "                                                       'max_depth': [1, 5],\n",
              "                                                       'max_features': [3, 5],\n",
              "                                                       'min_samples_leaf': [1,\n",
              "                                                                            2,\n",
              "                                                                            4],\n",
              "                                                       'n_estimators': [50,\n",
              "                                                                        100]})),\n",
              "                             ('clf_svm',\n",
              "                              SVC(C=1, class_weight='balanced',\n",
              "                                  kernel='linear'))])"
            ],
            "text/html": [
              "<style>#sk-container-id-7 {color: black;background-color: white;}#sk-container-id-7 pre{padding: 0;}#sk-container-id-7 div.sk-toggleable {background-color: white;}#sk-container-id-7 label.sk-toggleable__label {cursor: pointer;display: block;width: 100%;margin-bottom: 0;padding: 0.3em;box-sizing: border-box;text-align: center;}#sk-container-id-7 label.sk-toggleable__label-arrow:before {content: \"▸\";float: left;margin-right: 0.25em;color: #696969;}#sk-container-id-7 label.sk-toggleable__label-arrow:hover:before {color: black;}#sk-container-id-7 div.sk-estimator:hover label.sk-toggleable__label-arrow:before {color: black;}#sk-container-id-7 div.sk-toggleable__content {max-height: 0;max-width: 0;overflow: hidden;text-align: left;background-color: #f0f8ff;}#sk-container-id-7 div.sk-toggleable__content pre {margin: 0.2em;color: black;border-radius: 0.25em;background-color: #f0f8ff;}#sk-container-id-7 input.sk-toggleable__control:checked~div.sk-toggleable__content {max-height: 200px;max-width: 100%;overflow: auto;}#sk-container-id-7 input.sk-toggleable__control:checked~label.sk-toggleable__label-arrow:before {content: \"▾\";}#sk-container-id-7 div.sk-estimator input.sk-toggleable__control:checked~label.sk-toggleable__label {background-color: #d4ebff;}#sk-container-id-7 div.sk-label input.sk-toggleable__control:checked~label.sk-toggleable__label {background-color: #d4ebff;}#sk-container-id-7 input.sk-hidden--visually {border: 0;clip: rect(1px 1px 1px 1px);clip: rect(1px, 1px, 1px, 1px);height: 1px;margin: -1px;overflow: hidden;padding: 0;position: absolute;width: 1px;}#sk-container-id-7 div.sk-estimator {font-family: monospace;background-color: #f0f8ff;border: 1px dotted black;border-radius: 0.25em;box-sizing: border-box;margin-bottom: 0.5em;}#sk-container-id-7 div.sk-estimator:hover {background-color: #d4ebff;}#sk-container-id-7 div.sk-parallel-item::after {content: \"\";width: 100%;border-bottom: 1px solid gray;flex-grow: 1;}#sk-container-id-7 div.sk-label:hover label.sk-toggleable__label {background-color: #d4ebff;}#sk-container-id-7 div.sk-serial::before {content: \"\";position: absolute;border-left: 1px solid gray;box-sizing: border-box;top: 0;bottom: 0;left: 50%;z-index: 0;}#sk-container-id-7 div.sk-serial {display: flex;flex-direction: column;align-items: center;background-color: white;padding-right: 0.2em;padding-left: 0.2em;position: relative;}#sk-container-id-7 div.sk-item {position: relative;z-index: 1;}#sk-container-id-7 div.sk-parallel {display: flex;align-items: stretch;justify-content: center;background-color: white;position: relative;}#sk-container-id-7 div.sk-item::before, #sk-container-id-7 div.sk-parallel-item::before {content: \"\";position: absolute;border-left: 1px solid gray;box-sizing: border-box;top: 0;bottom: 0;left: 50%;z-index: -1;}#sk-container-id-7 div.sk-parallel-item {display: flex;flex-direction: column;z-index: 1;position: relative;background-color: white;}#sk-container-id-7 div.sk-parallel-item:first-child::after {align-self: flex-end;width: 50%;}#sk-container-id-7 div.sk-parallel-item:last-child::after {align-self: flex-start;width: 50%;}#sk-container-id-7 div.sk-parallel-item:only-child::after {width: 0;}#sk-container-id-7 div.sk-dashed-wrapped {border: 1px dashed gray;margin: 0 0.4em 0.5em 0.4em;box-sizing: border-box;padding-bottom: 0.4em;background-color: white;}#sk-container-id-7 div.sk-label label {font-family: monospace;font-weight: bold;display: inline-block;line-height: 1.2em;}#sk-container-id-7 div.sk-label-container {text-align: center;}#sk-container-id-7 div.sk-container {/* jupyter's `normalize.less` sets `[hidden] { display: none; }` but bootstrap.min.css set `[hidden] { display: none !important; }` so we also need the `!important` here to be able to override the default hidden behavior on the sphinx rendered scikit-learn.org. See: https://github.com/scikit-learn/scikit-learn/issues/21755 */display: inline-block !important;position: relative;}#sk-container-id-7 div.sk-text-repr-fallback {display: none;}</style><div id=\"sk-container-id-7\" class=\"sk-top-container\"><div class=\"sk-text-repr-fallback\"><pre>VotingClassifier(estimators=[(&#x27;clf_LR&#x27;,\n",
              "                              LogisticRegression(class_weight=&#x27;balanced&#x27;,\n",
              "                                                 penalty=&#x27;l1&#x27;, solver=&#x27;saga&#x27;)),\n",
              "                             (&#x27;clf_RF&#x27;,\n",
              "                              GridSearchCV(cv=5,\n",
              "                                           estimator=RandomForestClassifier(class_weight=&#x27;balanced&#x27;,\n",
              "                                                                            random_state=123),\n",
              "                                           param_grid={&#x27;criterion&#x27;: [&#x27;gini&#x27;,\n",
              "                                                                     &#x27;entropy&#x27;],\n",
              "                                                       &#x27;max_depth&#x27;: [1, 5],\n",
              "                                                       &#x27;max_features&#x27;: [3, 5],\n",
              "                                                       &#x27;min_samples_leaf&#x27;: [1,\n",
              "                                                                            2,\n",
              "                                                                            4],\n",
              "                                                       &#x27;n_estimators&#x27;: [50,\n",
              "                                                                        100]})),\n",
              "                             (&#x27;clf_svm&#x27;,\n",
              "                              SVC(C=1, class_weight=&#x27;balanced&#x27;,\n",
              "                                  kernel=&#x27;linear&#x27;))])</pre><b>In a Jupyter environment, please rerun this cell to show the HTML representation or trust the notebook. <br />On GitHub, the HTML representation is unable to render, please try loading this page with nbviewer.org.</b></div><div class=\"sk-container\" hidden><div class=\"sk-item sk-dashed-wrapped\"><div class=\"sk-label-container\"><div class=\"sk-label sk-toggleable\"><input class=\"sk-toggleable__control sk-hidden--visually\" id=\"sk-estimator-id-11\" type=\"checkbox\" ><label for=\"sk-estimator-id-11\" class=\"sk-toggleable__label sk-toggleable__label-arrow\">VotingClassifier</label><div class=\"sk-toggleable__content\"><pre>VotingClassifier(estimators=[(&#x27;clf_LR&#x27;,\n",
              "                              LogisticRegression(class_weight=&#x27;balanced&#x27;,\n",
              "                                                 penalty=&#x27;l1&#x27;, solver=&#x27;saga&#x27;)),\n",
              "                             (&#x27;clf_RF&#x27;,\n",
              "                              GridSearchCV(cv=5,\n",
              "                                           estimator=RandomForestClassifier(class_weight=&#x27;balanced&#x27;,\n",
              "                                                                            random_state=123),\n",
              "                                           param_grid={&#x27;criterion&#x27;: [&#x27;gini&#x27;,\n",
              "                                                                     &#x27;entropy&#x27;],\n",
              "                                                       &#x27;max_depth&#x27;: [1, 5],\n",
              "                                                       &#x27;max_features&#x27;: [3, 5],\n",
              "                                                       &#x27;min_samples_leaf&#x27;: [1,\n",
              "                                                                            2,\n",
              "                                                                            4],\n",
              "                                                       &#x27;n_estimators&#x27;: [50,\n",
              "                                                                        100]})),\n",
              "                             (&#x27;clf_svm&#x27;,\n",
              "                              SVC(C=1, class_weight=&#x27;balanced&#x27;,\n",
              "                                  kernel=&#x27;linear&#x27;))])</pre></div></div></div><div class=\"sk-parallel\"><div class=\"sk-parallel-item\"><div class=\"sk-item\"><div class=\"sk-label-container\"><div class=\"sk-label sk-toggleable\"><label>clf_LR</label></div></div><div class=\"sk-serial\"><div class=\"sk-item\"><div class=\"sk-estimator sk-toggleable\"><input class=\"sk-toggleable__control sk-hidden--visually\" id=\"sk-estimator-id-12\" type=\"checkbox\" ><label for=\"sk-estimator-id-12\" class=\"sk-toggleable__label sk-toggleable__label-arrow\">LogisticRegression</label><div class=\"sk-toggleable__content\"><pre>LogisticRegression(class_weight=&#x27;balanced&#x27;, penalty=&#x27;l1&#x27;, solver=&#x27;saga&#x27;)</pre></div></div></div></div></div></div><div class=\"sk-parallel-item\"><div class=\"sk-item\"><div class=\"sk-label-container\"><div class=\"sk-label sk-toggleable\"><label>clf_RF</label></div></div><div class=\"sk-serial\"><div class=\"sk-item sk-dashed-wrapped\"><div class=\"sk-parallel\"><div class=\"sk-parallel-item\"><div class=\"sk-item\"><div class=\"sk-label-container\"><div class=\"sk-label sk-toggleable\"><input class=\"sk-toggleable__control sk-hidden--visually\" id=\"sk-estimator-id-13\" type=\"checkbox\" ><label for=\"sk-estimator-id-13\" class=\"sk-toggleable__label sk-toggleable__label-arrow\">estimator: RandomForestClassifier</label><div class=\"sk-toggleable__content\"><pre>RandomForestClassifier(class_weight=&#x27;balanced&#x27;, random_state=123)</pre></div></div></div><div class=\"sk-serial\"><div class=\"sk-item\"><div class=\"sk-estimator sk-toggleable\"><input class=\"sk-toggleable__control sk-hidden--visually\" id=\"sk-estimator-id-14\" type=\"checkbox\" ><label for=\"sk-estimator-id-14\" class=\"sk-toggleable__label sk-toggleable__label-arrow\">RandomForestClassifier</label><div class=\"sk-toggleable__content\"><pre>RandomForestClassifier(class_weight=&#x27;balanced&#x27;, random_state=123)</pre></div></div></div></div></div></div></div></div></div></div></div><div class=\"sk-parallel-item\"><div class=\"sk-item\"><div class=\"sk-label-container\"><div class=\"sk-label sk-toggleable\"><label>clf_svm</label></div></div><div class=\"sk-serial\"><div class=\"sk-item\"><div class=\"sk-estimator sk-toggleable\"><input class=\"sk-toggleable__control sk-hidden--visually\" id=\"sk-estimator-id-15\" type=\"checkbox\" ><label for=\"sk-estimator-id-15\" class=\"sk-toggleable__label sk-toggleable__label-arrow\">SVC</label><div class=\"sk-toggleable__content\"><pre>SVC(C=1, class_weight=&#x27;balanced&#x27;, kernel=&#x27;linear&#x27;)</pre></div></div></div></div></div></div></div></div></div></div>"
            ]
          },
          "metadata": {},
          "execution_count": 128
        }
      ]
    },
    {
      "cell_type": "code",
      "source": [
        "voting_clf.fit(X_train,y_train) "
      ],
      "metadata": {
        "colab": {
          "base_uri": "https://localhost:8080/",
          "height": 151
        },
        "id": "x-2Sh2YwYd8R",
        "outputId": "9e30ab88-ba17-4367-dbce-9abcd26c8e14"
      },
      "execution_count": 129,
      "outputs": [
        {
          "output_type": "execute_result",
          "data": {
            "text/plain": [
              "VotingClassifier(estimators=[('clf_LR',\n",
              "                              LogisticRegression(class_weight='balanced',\n",
              "                                                 penalty='l1', solver='saga')),\n",
              "                             ('clf_RF',\n",
              "                              GridSearchCV(cv=5,\n",
              "                                           estimator=RandomForestClassifier(class_weight='balanced',\n",
              "                                                                            random_state=123),\n",
              "                                           param_grid={'criterion': ['gini',\n",
              "                                                                     'entropy'],\n",
              "                                                       'max_depth': [1, 5],\n",
              "                                                       'max_features': [3, 5],\n",
              "                                                       'min_samples_leaf': [1,\n",
              "                                                                            2,\n",
              "                                                                            4],\n",
              "                                                       'n_estimators': [50,\n",
              "                                                                        100]})),\n",
              "                             ('clf_svm',\n",
              "                              SVC(C=1, class_weight='balanced',\n",
              "                                  kernel='linear'))])"
            ],
            "text/html": [
              "<style>#sk-container-id-8 {color: black;background-color: white;}#sk-container-id-8 pre{padding: 0;}#sk-container-id-8 div.sk-toggleable {background-color: white;}#sk-container-id-8 label.sk-toggleable__label {cursor: pointer;display: block;width: 100%;margin-bottom: 0;padding: 0.3em;box-sizing: border-box;text-align: center;}#sk-container-id-8 label.sk-toggleable__label-arrow:before {content: \"▸\";float: left;margin-right: 0.25em;color: #696969;}#sk-container-id-8 label.sk-toggleable__label-arrow:hover:before {color: black;}#sk-container-id-8 div.sk-estimator:hover label.sk-toggleable__label-arrow:before {color: black;}#sk-container-id-8 div.sk-toggleable__content {max-height: 0;max-width: 0;overflow: hidden;text-align: left;background-color: #f0f8ff;}#sk-container-id-8 div.sk-toggleable__content pre {margin: 0.2em;color: black;border-radius: 0.25em;background-color: #f0f8ff;}#sk-container-id-8 input.sk-toggleable__control:checked~div.sk-toggleable__content {max-height: 200px;max-width: 100%;overflow: auto;}#sk-container-id-8 input.sk-toggleable__control:checked~label.sk-toggleable__label-arrow:before {content: \"▾\";}#sk-container-id-8 div.sk-estimator input.sk-toggleable__control:checked~label.sk-toggleable__label {background-color: #d4ebff;}#sk-container-id-8 div.sk-label input.sk-toggleable__control:checked~label.sk-toggleable__label {background-color: #d4ebff;}#sk-container-id-8 input.sk-hidden--visually {border: 0;clip: rect(1px 1px 1px 1px);clip: rect(1px, 1px, 1px, 1px);height: 1px;margin: -1px;overflow: hidden;padding: 0;position: absolute;width: 1px;}#sk-container-id-8 div.sk-estimator {font-family: monospace;background-color: #f0f8ff;border: 1px dotted black;border-radius: 0.25em;box-sizing: border-box;margin-bottom: 0.5em;}#sk-container-id-8 div.sk-estimator:hover {background-color: #d4ebff;}#sk-container-id-8 div.sk-parallel-item::after {content: \"\";width: 100%;border-bottom: 1px solid gray;flex-grow: 1;}#sk-container-id-8 div.sk-label:hover label.sk-toggleable__label {background-color: #d4ebff;}#sk-container-id-8 div.sk-serial::before {content: \"\";position: absolute;border-left: 1px solid gray;box-sizing: border-box;top: 0;bottom: 0;left: 50%;z-index: 0;}#sk-container-id-8 div.sk-serial {display: flex;flex-direction: column;align-items: center;background-color: white;padding-right: 0.2em;padding-left: 0.2em;position: relative;}#sk-container-id-8 div.sk-item {position: relative;z-index: 1;}#sk-container-id-8 div.sk-parallel {display: flex;align-items: stretch;justify-content: center;background-color: white;position: relative;}#sk-container-id-8 div.sk-item::before, #sk-container-id-8 div.sk-parallel-item::before {content: \"\";position: absolute;border-left: 1px solid gray;box-sizing: border-box;top: 0;bottom: 0;left: 50%;z-index: -1;}#sk-container-id-8 div.sk-parallel-item {display: flex;flex-direction: column;z-index: 1;position: relative;background-color: white;}#sk-container-id-8 div.sk-parallel-item:first-child::after {align-self: flex-end;width: 50%;}#sk-container-id-8 div.sk-parallel-item:last-child::after {align-self: flex-start;width: 50%;}#sk-container-id-8 div.sk-parallel-item:only-child::after {width: 0;}#sk-container-id-8 div.sk-dashed-wrapped {border: 1px dashed gray;margin: 0 0.4em 0.5em 0.4em;box-sizing: border-box;padding-bottom: 0.4em;background-color: white;}#sk-container-id-8 div.sk-label label {font-family: monospace;font-weight: bold;display: inline-block;line-height: 1.2em;}#sk-container-id-8 div.sk-label-container {text-align: center;}#sk-container-id-8 div.sk-container {/* jupyter's `normalize.less` sets `[hidden] { display: none; }` but bootstrap.min.css set `[hidden] { display: none !important; }` so we also need the `!important` here to be able to override the default hidden behavior on the sphinx rendered scikit-learn.org. See: https://github.com/scikit-learn/scikit-learn/issues/21755 */display: inline-block !important;position: relative;}#sk-container-id-8 div.sk-text-repr-fallback {display: none;}</style><div id=\"sk-container-id-8\" class=\"sk-top-container\"><div class=\"sk-text-repr-fallback\"><pre>VotingClassifier(estimators=[(&#x27;clf_LR&#x27;,\n",
              "                              LogisticRegression(class_weight=&#x27;balanced&#x27;,\n",
              "                                                 penalty=&#x27;l1&#x27;, solver=&#x27;saga&#x27;)),\n",
              "                             (&#x27;clf_RF&#x27;,\n",
              "                              GridSearchCV(cv=5,\n",
              "                                           estimator=RandomForestClassifier(class_weight=&#x27;balanced&#x27;,\n",
              "                                                                            random_state=123),\n",
              "                                           param_grid={&#x27;criterion&#x27;: [&#x27;gini&#x27;,\n",
              "                                                                     &#x27;entropy&#x27;],\n",
              "                                                       &#x27;max_depth&#x27;: [1, 5],\n",
              "                                                       &#x27;max_features&#x27;: [3, 5],\n",
              "                                                       &#x27;min_samples_leaf&#x27;: [1,\n",
              "                                                                            2,\n",
              "                                                                            4],\n",
              "                                                       &#x27;n_estimators&#x27;: [50,\n",
              "                                                                        100]})),\n",
              "                             (&#x27;clf_svm&#x27;,\n",
              "                              SVC(C=1, class_weight=&#x27;balanced&#x27;,\n",
              "                                  kernel=&#x27;linear&#x27;))])</pre><b>In a Jupyter environment, please rerun this cell to show the HTML representation or trust the notebook. <br />On GitHub, the HTML representation is unable to render, please try loading this page with nbviewer.org.</b></div><div class=\"sk-container\" hidden><div class=\"sk-item sk-dashed-wrapped\"><div class=\"sk-label-container\"><div class=\"sk-label sk-toggleable\"><input class=\"sk-toggleable__control sk-hidden--visually\" id=\"sk-estimator-id-16\" type=\"checkbox\" ><label for=\"sk-estimator-id-16\" class=\"sk-toggleable__label sk-toggleable__label-arrow\">VotingClassifier</label><div class=\"sk-toggleable__content\"><pre>VotingClassifier(estimators=[(&#x27;clf_LR&#x27;,\n",
              "                              LogisticRegression(class_weight=&#x27;balanced&#x27;,\n",
              "                                                 penalty=&#x27;l1&#x27;, solver=&#x27;saga&#x27;)),\n",
              "                             (&#x27;clf_RF&#x27;,\n",
              "                              GridSearchCV(cv=5,\n",
              "                                           estimator=RandomForestClassifier(class_weight=&#x27;balanced&#x27;,\n",
              "                                                                            random_state=123),\n",
              "                                           param_grid={&#x27;criterion&#x27;: [&#x27;gini&#x27;,\n",
              "                                                                     &#x27;entropy&#x27;],\n",
              "                                                       &#x27;max_depth&#x27;: [1, 5],\n",
              "                                                       &#x27;max_features&#x27;: [3, 5],\n",
              "                                                       &#x27;min_samples_leaf&#x27;: [1,\n",
              "                                                                            2,\n",
              "                                                                            4],\n",
              "                                                       &#x27;n_estimators&#x27;: [50,\n",
              "                                                                        100]})),\n",
              "                             (&#x27;clf_svm&#x27;,\n",
              "                              SVC(C=1, class_weight=&#x27;balanced&#x27;,\n",
              "                                  kernel=&#x27;linear&#x27;))])</pre></div></div></div><div class=\"sk-parallel\"><div class=\"sk-parallel-item\"><div class=\"sk-item\"><div class=\"sk-label-container\"><div class=\"sk-label sk-toggleable\"><label>clf_LR</label></div></div><div class=\"sk-serial\"><div class=\"sk-item\"><div class=\"sk-estimator sk-toggleable\"><input class=\"sk-toggleable__control sk-hidden--visually\" id=\"sk-estimator-id-17\" type=\"checkbox\" ><label for=\"sk-estimator-id-17\" class=\"sk-toggleable__label sk-toggleable__label-arrow\">LogisticRegression</label><div class=\"sk-toggleable__content\"><pre>LogisticRegression(class_weight=&#x27;balanced&#x27;, penalty=&#x27;l1&#x27;, solver=&#x27;saga&#x27;)</pre></div></div></div></div></div></div><div class=\"sk-parallel-item\"><div class=\"sk-item\"><div class=\"sk-label-container\"><div class=\"sk-label sk-toggleable\"><label>clf_RF</label></div></div><div class=\"sk-serial\"><div class=\"sk-item sk-dashed-wrapped\"><div class=\"sk-parallel\"><div class=\"sk-parallel-item\"><div class=\"sk-item\"><div class=\"sk-label-container\"><div class=\"sk-label sk-toggleable\"><input class=\"sk-toggleable__control sk-hidden--visually\" id=\"sk-estimator-id-18\" type=\"checkbox\" ><label for=\"sk-estimator-id-18\" class=\"sk-toggleable__label sk-toggleable__label-arrow\">estimator: RandomForestClassifier</label><div class=\"sk-toggleable__content\"><pre>RandomForestClassifier(class_weight=&#x27;balanced&#x27;, random_state=123)</pre></div></div></div><div class=\"sk-serial\"><div class=\"sk-item\"><div class=\"sk-estimator sk-toggleable\"><input class=\"sk-toggleable__control sk-hidden--visually\" id=\"sk-estimator-id-19\" type=\"checkbox\" ><label for=\"sk-estimator-id-19\" class=\"sk-toggleable__label sk-toggleable__label-arrow\">RandomForestClassifier</label><div class=\"sk-toggleable__content\"><pre>RandomForestClassifier(class_weight=&#x27;balanced&#x27;, random_state=123)</pre></div></div></div></div></div></div></div></div></div></div></div><div class=\"sk-parallel-item\"><div class=\"sk-item\"><div class=\"sk-label-container\"><div class=\"sk-label sk-toggleable\"><label>clf_svm</label></div></div><div class=\"sk-serial\"><div class=\"sk-item\"><div class=\"sk-estimator sk-toggleable\"><input class=\"sk-toggleable__control sk-hidden--visually\" id=\"sk-estimator-id-20\" type=\"checkbox\" ><label for=\"sk-estimator-id-20\" class=\"sk-toggleable__label sk-toggleable__label-arrow\">SVC</label><div class=\"sk-toggleable__content\"><pre>SVC(C=1, class_weight=&#x27;balanced&#x27;, kernel=&#x27;linear&#x27;)</pre></div></div></div></div></div></div></div></div></div></div>"
            ]
          },
          "metadata": {},
          "execution_count": 129
        }
      ]
    },
    {
      "cell_type": "code",
      "source": [
        "stack_preds_train = voting_clf.predict(X_train)"
      ],
      "metadata": {
        "id": "pFf8h-uNYoLG"
      },
      "execution_count": 130,
      "outputs": []
    },
    {
      "cell_type": "code",
      "source": [
        "stack_preds_val = voting_clf.predict(X_val)"
      ],
      "metadata": {
        "id": "h5ZgMCaIgWB5"
      },
      "execution_count": 131,
      "outputs": []
    },
    {
      "cell_type": "code",
      "source": [
        "print(\"-------Train------\")\n",
        "evaluate_model(y_train,stack_preds_train)\n",
        "print(\"-----Validation-----\")\n",
        "evaluate_model(y_val,stack_preds_val)"
      ],
      "metadata": {
        "colab": {
          "base_uri": "https://localhost:8080/"
        },
        "id": "CjmwrLwHhSrf",
        "outputId": "e6983fdb-ef78-46b6-86a3-322909e2caa3"
      },
      "execution_count": 132,
      "outputs": [
        {
          "output_type": "stream",
          "name": "stdout",
          "text": [
            "-------Train------\n",
            "Confusion Matrix \n",
            " [[27365 17632]\n",
            " [ 2706  4792]]\n",
            "Accurcay :  0.6125726259643776\n",
            "Recall   :  0.6391037610029341\n",
            "Precision:  0.213699607563325\n",
            "F1_score :  0.32029944522424975\n",
            "-----Validation-----\n",
            "Confusion Matrix \n",
            " [[9000 5999]\n",
            " [1000 1500]]\n",
            "Accurcay :  0.6000342876735814\n",
            "Recall   :  0.6\n",
            "Precision:  0.20002667022269635\n",
            "F1_score :  0.3000300030003\n"
          ]
        }
      ]
    },
    {
      "cell_type": "markdown",
      "source": [
        "## Applying on Test"
      ],
      "metadata": {
        "id": "8PexJMT0m8lU"
      }
    },
    {
      "cell_type": "markdown",
      "source": [
        "## Logistic Regression"
      ],
      "metadata": {
        "id": "dsKnAd1VSxjr"
      }
    },
    {
      "cell_type": "code",
      "source": [
        "#train_pred = clf_grid.predict(X_train)\n",
        "logit_test_preds=logistic_model.predict(X_test)"
      ],
      "metadata": {
        "id": "vJvRMzrKm50m"
      },
      "execution_count": 133,
      "outputs": []
    },
    {
      "cell_type": "code",
      "source": [
        "print(\"-------Train------\")\n",
        "evaluate_model(y_train,logit_train_preds)\n",
        "print(\"-------Test-------\")\n",
        "evaluate_model(y_test,logit_test_preds)"
      ],
      "metadata": {
        "colab": {
          "base_uri": "https://localhost:8080/"
        },
        "id": "AVoBFxqjh0rA",
        "outputId": "07abb306-1670-44db-9957-2f33b0721f87"
      },
      "execution_count": 134,
      "outputs": [
        {
          "output_type": "stream",
          "name": "stdout",
          "text": [
            "-------Train------\n",
            "Confusion Matrix \n",
            " [[27700 17297]\n",
            " [ 2848  4650]]\n",
            "Accurcay :  0.616249166587294\n",
            "Recall   :  0.6201653774339824\n",
            "Precision:  0.21187406023602315\n",
            "F1_score :  0.31584309730005095\n",
            "-------Test-------\n",
            "Confusion Matrix \n",
            " [[13311  8128]\n",
            " [ 1875  2361]]\n",
            "Accurcay :  0.6103992210321324\n",
            "Recall   :  0.5573654390934845\n",
            "Precision:  0.22509295452378683\n",
            "F1_score :  0.32067911714770797\n"
          ]
        }
      ]
    },
    {
      "cell_type": "markdown",
      "source": [
        "## Random Forest"
      ],
      "metadata": {
        "id": "rRZNf1S9TCf4"
      }
    },
    {
      "cell_type": "code",
      "source": [
        "test_preds = clf_grid.predict(X_test)"
      ],
      "metadata": {
        "id": "tn5ReDdLSUvv"
      },
      "execution_count": 137,
      "outputs": []
    },
    {
      "cell_type": "code",
      "source": [
        "print(\"-------Train------\")\n",
        "evaluate_model(y_train,train_pred)\n",
        "print(\"-------Test-------\")\n",
        "evaluate_model(y_test,test_preds)"
      ],
      "metadata": {
        "colab": {
          "base_uri": "https://localhost:8080/"
        },
        "id": "WEuJsWx3S_62",
        "outputId": "95968a00-0372-40ad-caf8-26715e93d2fe"
      },
      "execution_count": 138,
      "outputs": [
        {
          "output_type": "stream",
          "name": "stdout",
          "text": [
            "-------Train------\n",
            "Confusion Matrix \n",
            " [[27680 17317]\n",
            " [ 2637  4861]]\n",
            "Accurcay :  0.6198876083436518\n",
            "Recall   :  0.6483062149906642\n",
            "Precision:  0.2191811705293534\n",
            "F1_score :  0.32760479849036256\n",
            "-------Test-------\n",
            "Confusion Matrix \n",
            " [[13210  8229]\n",
            " [ 1672  2564]]\n",
            "Accurcay :  0.6143719571567673\n",
            "Recall   :  0.6052880075542965\n",
            "Precision:  0.23756138237746688\n",
            "F1_score :  0.34120699980038594\n"
          ]
        }
      ]
    },
    {
      "cell_type": "markdown",
      "source": [
        "#Stacking"
      ],
      "metadata": {
        "id": "2BxCkKsrToND"
      }
    },
    {
      "cell_type": "code",
      "source": [
        "stack_preds_test = voting_clf.predict(X_test)"
      ],
      "metadata": {
        "id": "UBQ7aAXoS_2K"
      },
      "execution_count": 139,
      "outputs": []
    },
    {
      "cell_type": "code",
      "source": [
        "print(\"-------Train------\")\n",
        "evaluate_model(y_train,stack_preds_train)\n",
        "print(\"-------Test-------\")\n",
        "evaluate_model(y_test,stack_preds_test)"
      ],
      "metadata": {
        "colab": {
          "base_uri": "https://localhost:8080/"
        },
        "id": "bCgzWvFsS_z4",
        "outputId": "853b5906-34c9-46c7-bf14-b8de8be32daf"
      },
      "execution_count": 140,
      "outputs": [
        {
          "output_type": "stream",
          "name": "stdout",
          "text": [
            "-------Train------\n",
            "Confusion Matrix \n",
            " [[27365 17632]\n",
            " [ 2706  4792]]\n",
            "Accurcay :  0.6125726259643776\n",
            "Recall   :  0.6391037610029341\n",
            "Precision:  0.213699607563325\n",
            "F1_score :  0.32029944522424975\n",
            "-------Test-------\n",
            "Confusion Matrix \n",
            " [[13114  8325]\n",
            " [ 1729  2507]]\n",
            "Accurcay :  0.608412852969815\n",
            "Recall   :  0.5918319169027384\n",
            "Precision:  0.23144387001477104\n",
            "F1_score :  0.3327581629944253\n"
          ]
        }
      ]
    },
    {
      "cell_type": "markdown",
      "source": [
        "# Thank you..."
      ],
      "metadata": {
        "id": "iayKeq7SUFpQ"
      }
    },
    {
      "cell_type": "code",
      "source": [],
      "metadata": {
        "id": "Rvm9ZJl2UIFr"
      },
      "execution_count": null,
      "outputs": []
    }
  ]
}
